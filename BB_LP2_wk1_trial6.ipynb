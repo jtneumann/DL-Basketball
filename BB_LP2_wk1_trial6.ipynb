{
  "nbformat": 4,
  "nbformat_minor": 0,
  "metadata": {
    "colab": {
      "name": "BB-LP2_wk1_trial6.ipynb",
      "provenance": [],
      "collapsed_sections": [],
      "authorship_tag": "ABX9TyOCAWE5YWvNzs5CHWAkKv9F",
      "include_colab_link": true
    },
    "kernelspec": {
      "name": "python3",
      "display_name": "Python 3"
    },
    "language_info": {
      "name": "python"
    },
    "accelerator": "GPU"
  },
  "cells": [
    {
      "cell_type": "markdown",
      "metadata": {
        "id": "view-in-github",
        "colab_type": "text"
      },
      "source": [
        "<a href=\"https://colab.research.google.com/github/jtneumann/DL-Basketball/blob/master/BB_LP2_wk1_trial6.ipynb\" target=\"_parent\"><img src=\"https://colab.research.google.com/assets/colab-badge.svg\" alt=\"Open In Colab\"/></a>"
      ]
    },
    {
      "cell_type": "code",
      "metadata": {
        "id": "R2dTX4YkP9nJ",
        "colab": {
          "base_uri": "https://localhost:8080/"
        },
        "outputId": "31ffb394-f50d-4e54-a49f-474f68ebf6c9"
      },
      "source": [
        "import sys\n",
        "print(sys.version)\n",
        "import numpy as np\n",
        "import pandas as pd\n",
        "\n",
        "import tensorflow as tf\n",
        "from tensorflow import keras\n",
        "\n",
        "import matplotlib.pyplot as plt\n"
      ],
      "execution_count": 1,
      "outputs": [
        {
          "output_type": "stream",
          "text": [
            "3.7.10 (default, Feb 20 2021, 21:17:23) \n",
            "[GCC 7.5.0]\n"
          ],
          "name": "stdout"
        }
      ]
    },
    {
      "cell_type": "code",
      "metadata": {
        "id": "DZ7CHGpu-QRr"
      },
      "source": [
        "#Create Model\n",
        "callback = tf.keras.callbacks.EarlyStopping(monitor='loss', patience=3, mode='min')\n",
        "def build_model():\n",
        "    model = keras.models.Sequential([\n",
        "        #using 512 layers, used 32 first, then 16 in trial 2\n",
        "        keras.layers.Dense(512, activation='relu', input_shape=[4]),\n",
        "        keras.layers.Dense(256, activation='relu'),\n",
        "        keras.layers.Dense(128, activation='relu'),\n",
        "        keras.layers.Dense(1)\n",
        "    ])\n",
        "\n",
        "    o = keras.optimizers.RMSprop()\n",
        "    m = [\n",
        "           keras.metrics.MeanAbsoluteError(),\n",
        "           keras.metrics.Accuracy(),\n",
        "           keras.metrics.MeanSquaredError()\n",
        "    ]\n",
        "\n",
        "    L = keras.losses.MeanSquaredError()\n",
        "\n",
        "    model.compile(loss=L, optimizer=o, metrics=m)\n",
        "    return model\n",
        "\n",
        "bb_model = build_model()\n",
        "\n"
      ],
      "execution_count": 2,
      "outputs": []
    },
    {
      "cell_type": "code",
      "metadata": {
        "colab": {
          "resources": {
            "http://localhost:8080/nbextensions/google.colab/files.js": {
              "data": "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",
              "ok": true,
              "headers": [
                [
                  "content-type",
                  "application/javascript"
                ]
              ],
              "status": 200,
              "status_text": ""
            }
          },
          "base_uri": "https://localhost:8080/",
          "height": 72
        },
        "id": "8giLRV4DRqBE",
        "outputId": "e3065df3-6d39-4134-a25a-943b659755dc"
      },
      "source": [
        "import io\n",
        "from google.colab import files\n",
        "uploaded = files.upload()\n"
      ],
      "execution_count": 3,
      "outputs": [
        {
          "output_type": "display_data",
          "data": {
            "text/html": [
              "\n",
              "     <input type=\"file\" id=\"files-b18de263-b315-4a67-b7cb-6180acafc747\" name=\"files[]\" multiple disabled\n",
              "        style=\"border:none\" />\n",
              "     <output id=\"result-b18de263-b315-4a67-b7cb-6180acafc747\">\n",
              "      Upload widget is only available when the cell has been executed in the\n",
              "      current browser session. Please rerun this cell to enable.\n",
              "      </output>\n",
              "      <script src=\"/nbextensions/google.colab/files.js\"></script> "
            ],
            "text/plain": [
              "<IPython.core.display.HTML object>"
            ]
          },
          "metadata": {
            "tags": []
          }
        },
        {
          "output_type": "stream",
          "text": [
            "Saving Games-Calculated.csv to Games-Calculated.csv\n"
          ],
          "name": "stdout"
        }
      ]
    },
    {
      "cell_type": "code",
      "metadata": {
        "id": "EvE-fmWWSGza"
      },
      "source": [
        "column_names = ['Date','HomeTeam','HomeScore','AwayTeam','AwayScore',\n",
        "                'HomeScoreAverage','HomeDefenseAverage','AwayScoreAverage','AwayDefenseAverage',\n",
        "                'Result']\n",
        "\n",
        "game_data = pd.read_csv((io.BytesIO(uploaded['Games-Calculated.csv'])), header=None, names=column_names)"
      ],
      "execution_count": 4,
      "outputs": []
    },
    {
      "cell_type": "code",
      "metadata": {
        "id": "4d8dUVqqvT9r",
        "colab": {
          "base_uri": "https://localhost:8080/",
          "height": 204
        },
        "outputId": "bae6f837-e0bd-4c12-edb6-f2188e5ee4e9"
      },
      "source": [
        "# Drop the columns that we are NOT going to train on\n",
        "game_data.drop(['Date','HomeTeam','HomeScore','AwayTeam','AwayScore'], axis=1, inplace=True)\n",
        "game_data.tail()"
      ],
      "execution_count": 5,
      "outputs": [
        {
          "output_type": "execute_result",
          "data": {
            "text/html": [
              "<div>\n",
              "<style scoped>\n",
              "    .dataframe tbody tr th:only-of-type {\n",
              "        vertical-align: middle;\n",
              "    }\n",
              "\n",
              "    .dataframe tbody tr th {\n",
              "        vertical-align: top;\n",
              "    }\n",
              "\n",
              "    .dataframe thead th {\n",
              "        text-align: right;\n",
              "    }\n",
              "</style>\n",
              "<table border=\"1\" class=\"dataframe\">\n",
              "  <thead>\n",
              "    <tr style=\"text-align: right;\">\n",
              "      <th></th>\n",
              "      <th>HomeScoreAverage</th>\n",
              "      <th>HomeDefenseAverage</th>\n",
              "      <th>AwayScoreAverage</th>\n",
              "      <th>AwayDefenseAverage</th>\n",
              "      <th>Result</th>\n",
              "    </tr>\n",
              "  </thead>\n",
              "  <tbody>\n",
              "    <tr>\n",
              "      <th>20155</th>\n",
              "      <td>80.058824</td>\n",
              "      <td>63.529412</td>\n",
              "      <td>67.777778</td>\n",
              "      <td>70.666667</td>\n",
              "      <td>2</td>\n",
              "    </tr>\n",
              "    <tr>\n",
              "      <th>20156</th>\n",
              "      <td>85.062500</td>\n",
              "      <td>74.562500</td>\n",
              "      <td>71.466667</td>\n",
              "      <td>75.200000</td>\n",
              "      <td>10</td>\n",
              "    </tr>\n",
              "    <tr>\n",
              "      <th>20157</th>\n",
              "      <td>71.437500</td>\n",
              "      <td>65.500000</td>\n",
              "      <td>67.388889</td>\n",
              "      <td>72.666667</td>\n",
              "      <td>-8</td>\n",
              "    </tr>\n",
              "    <tr>\n",
              "      <th>20158</th>\n",
              "      <td>80.666667</td>\n",
              "      <td>72.333333</td>\n",
              "      <td>70.200000</td>\n",
              "      <td>70.066667</td>\n",
              "      <td>7</td>\n",
              "    </tr>\n",
              "    <tr>\n",
              "      <th>20159</th>\n",
              "      <td>83.238095</td>\n",
              "      <td>72.761905</td>\n",
              "      <td>75.428571</td>\n",
              "      <td>78.214286</td>\n",
              "      <td>12</td>\n",
              "    </tr>\n",
              "  </tbody>\n",
              "</table>\n",
              "</div>"
            ],
            "text/plain": [
              "       HomeScoreAverage  HomeDefenseAverage  ...  AwayDefenseAverage  Result\n",
              "20155         80.058824           63.529412  ...           70.666667       2\n",
              "20156         85.062500           74.562500  ...           75.200000      10\n",
              "20157         71.437500           65.500000  ...           72.666667      -8\n",
              "20158         80.666667           72.333333  ...           70.066667       7\n",
              "20159         83.238095           72.761905  ...           78.214286      12\n",
              "\n",
              "[5 rows x 5 columns]"
            ]
          },
          "metadata": {
            "tags": []
          },
          "execution_count": 5
        }
      ]
    },
    {
      "cell_type": "code",
      "metadata": {
        "colab": {
          "base_uri": "https://localhost:8080/",
          "height": 204
        },
        "id": "kh3RtiSqSW0U",
        "outputId": "405ecec8-f7e0-4f8b-cb30-720ee4219f4e"
      },
      "source": [
        "game_data.head()\n"
      ],
      "execution_count": 6,
      "outputs": [
        {
          "output_type": "execute_result",
          "data": {
            "text/html": [
              "<div>\n",
              "<style scoped>\n",
              "    .dataframe tbody tr th:only-of-type {\n",
              "        vertical-align: middle;\n",
              "    }\n",
              "\n",
              "    .dataframe tbody tr th {\n",
              "        vertical-align: top;\n",
              "    }\n",
              "\n",
              "    .dataframe thead th {\n",
              "        text-align: right;\n",
              "    }\n",
              "</style>\n",
              "<table border=\"1\" class=\"dataframe\">\n",
              "  <thead>\n",
              "    <tr style=\"text-align: right;\">\n",
              "      <th></th>\n",
              "      <th>HomeScoreAverage</th>\n",
              "      <th>HomeDefenseAverage</th>\n",
              "      <th>AwayScoreAverage</th>\n",
              "      <th>AwayDefenseAverage</th>\n",
              "      <th>Result</th>\n",
              "    </tr>\n",
              "  </thead>\n",
              "  <tbody>\n",
              "    <tr>\n",
              "      <th>0</th>\n",
              "      <td>87.0</td>\n",
              "      <td>76.0</td>\n",
              "      <td>76.0</td>\n",
              "      <td>87.0</td>\n",
              "      <td>11</td>\n",
              "    </tr>\n",
              "    <tr>\n",
              "      <th>1</th>\n",
              "      <td>70.0</td>\n",
              "      <td>50.0</td>\n",
              "      <td>50.0</td>\n",
              "      <td>70.0</td>\n",
              "      <td>20</td>\n",
              "    </tr>\n",
              "    <tr>\n",
              "      <th>2</th>\n",
              "      <td>70.0</td>\n",
              "      <td>57.0</td>\n",
              "      <td>57.0</td>\n",
              "      <td>70.0</td>\n",
              "      <td>13</td>\n",
              "    </tr>\n",
              "    <tr>\n",
              "      <th>3</th>\n",
              "      <td>89.0</td>\n",
              "      <td>83.0</td>\n",
              "      <td>83.0</td>\n",
              "      <td>89.0</td>\n",
              "      <td>6</td>\n",
              "    </tr>\n",
              "    <tr>\n",
              "      <th>4</th>\n",
              "      <td>68.0</td>\n",
              "      <td>62.0</td>\n",
              "      <td>62.0</td>\n",
              "      <td>68.0</td>\n",
              "      <td>6</td>\n",
              "    </tr>\n",
              "  </tbody>\n",
              "</table>\n",
              "</div>"
            ],
            "text/plain": [
              "   HomeScoreAverage  HomeDefenseAverage  ...  AwayDefenseAverage  Result\n",
              "0              87.0                76.0  ...                87.0      11\n",
              "1              70.0                50.0  ...                70.0      20\n",
              "2              70.0                57.0  ...                70.0      13\n",
              "3              89.0                83.0  ...                89.0       6\n",
              "4              68.0                62.0  ...                68.0       6\n",
              "\n",
              "[5 rows x 5 columns]"
            ]
          },
          "metadata": {
            "tags": []
          },
          "execution_count": 6
        }
      ]
    },
    {
      "cell_type": "code",
      "metadata": {
        "colab": {
          "base_uri": "https://localhost:8080/"
        },
        "id": "I8EEd39uT-x5",
        "outputId": "3b2b2c6b-fa12-48c7-c7c7-e729f81d1237"
      },
      "source": [
        "#Train/Test Spit\n",
        "training_set = game_data.sample(frac=0.8, random_state=0)\n",
        "test_set = game_data.drop(training_set.index)\n",
        "print('training_set_size: %s' % training_set.shape[0])\n",
        "print('test_set_size: %s' % test_set.shape[0])"
      ],
      "execution_count": 7,
      "outputs": [
        {
          "output_type": "stream",
          "text": [
            "training_set_size: 16128\n",
            "test_set_size: 4032\n"
          ],
          "name": "stdout"
        }
      ]
    },
    {
      "cell_type": "code",
      "metadata": {
        "colab": {
          "base_uri": "https://localhost:8080/",
          "height": 204
        },
        "id": "89DRDQFlXz97",
        "outputId": "816ef80a-9992-47d5-c61e-d269db2bc5c2"
      },
      "source": [
        "training_set.head()\n"
      ],
      "execution_count": 8,
      "outputs": [
        {
          "output_type": "execute_result",
          "data": {
            "text/html": [
              "<div>\n",
              "<style scoped>\n",
              "    .dataframe tbody tr th:only-of-type {\n",
              "        vertical-align: middle;\n",
              "    }\n",
              "\n",
              "    .dataframe tbody tr th {\n",
              "        vertical-align: top;\n",
              "    }\n",
              "\n",
              "    .dataframe thead th {\n",
              "        text-align: right;\n",
              "    }\n",
              "</style>\n",
              "<table border=\"1\" class=\"dataframe\">\n",
              "  <thead>\n",
              "    <tr style=\"text-align: right;\">\n",
              "      <th></th>\n",
              "      <th>HomeScoreAverage</th>\n",
              "      <th>HomeDefenseAverage</th>\n",
              "      <th>AwayScoreAverage</th>\n",
              "      <th>AwayDefenseAverage</th>\n",
              "      <th>Result</th>\n",
              "    </tr>\n",
              "  </thead>\n",
              "  <tbody>\n",
              "    <tr>\n",
              "      <th>5951</th>\n",
              "      <td>81.800000</td>\n",
              "      <td>64.400000</td>\n",
              "      <td>68.800000</td>\n",
              "      <td>81.000000</td>\n",
              "      <td>5</td>\n",
              "    </tr>\n",
              "    <tr>\n",
              "      <th>15481</th>\n",
              "      <td>64.333333</td>\n",
              "      <td>68.000000</td>\n",
              "      <td>74.500000</td>\n",
              "      <td>81.500000</td>\n",
              "      <td>6</td>\n",
              "    </tr>\n",
              "    <tr>\n",
              "      <th>16660</th>\n",
              "      <td>92.714286</td>\n",
              "      <td>70.714286</td>\n",
              "      <td>72.000000</td>\n",
              "      <td>71.800000</td>\n",
              "      <td>5</td>\n",
              "    </tr>\n",
              "    <tr>\n",
              "      <th>4896</th>\n",
              "      <td>74.095238</td>\n",
              "      <td>66.047619</td>\n",
              "      <td>62.384615</td>\n",
              "      <td>84.076923</td>\n",
              "      <td>17</td>\n",
              "    </tr>\n",
              "    <tr>\n",
              "      <th>12061</th>\n",
              "      <td>82.363636</td>\n",
              "      <td>66.090909</td>\n",
              "      <td>67.600000</td>\n",
              "      <td>75.400000</td>\n",
              "      <td>-2</td>\n",
              "    </tr>\n",
              "  </tbody>\n",
              "</table>\n",
              "</div>"
            ],
            "text/plain": [
              "       HomeScoreAverage  HomeDefenseAverage  ...  AwayDefenseAverage  Result\n",
              "5951          81.800000           64.400000  ...           81.000000       5\n",
              "15481         64.333333           68.000000  ...           81.500000       6\n",
              "16660         92.714286           70.714286  ...           71.800000       5\n",
              "4896          74.095238           66.047619  ...           84.076923      17\n",
              "12061         82.363636           66.090909  ...           75.400000      -2\n",
              "\n",
              "[5 rows x 5 columns]"
            ]
          },
          "metadata": {
            "tags": []
          },
          "execution_count": 8
        }
      ]
    },
    {
      "cell_type": "code",
      "metadata": {
        "id": "VcUup10ZU-zv"
      },
      "source": [
        "#Labels\n",
        "training_labels = training_set.pop('Result')\n",
        "test_labels = test_set.pop('Result')"
      ],
      "execution_count": 9,
      "outputs": []
    },
    {
      "cell_type": "code",
      "metadata": {
        "colab": {
          "base_uri": "https://localhost:8080/",
          "height": 204
        },
        "id": "QCNGzFBKYQJx",
        "outputId": "af7cf282-3bc2-4167-e1b1-1fbd3dcaad34"
      },
      "source": [
        "training_set.head()"
      ],
      "execution_count": 10,
      "outputs": [
        {
          "output_type": "execute_result",
          "data": {
            "text/html": [
              "<div>\n",
              "<style scoped>\n",
              "    .dataframe tbody tr th:only-of-type {\n",
              "        vertical-align: middle;\n",
              "    }\n",
              "\n",
              "    .dataframe tbody tr th {\n",
              "        vertical-align: top;\n",
              "    }\n",
              "\n",
              "    .dataframe thead th {\n",
              "        text-align: right;\n",
              "    }\n",
              "</style>\n",
              "<table border=\"1\" class=\"dataframe\">\n",
              "  <thead>\n",
              "    <tr style=\"text-align: right;\">\n",
              "      <th></th>\n",
              "      <th>HomeScoreAverage</th>\n",
              "      <th>HomeDefenseAverage</th>\n",
              "      <th>AwayScoreAverage</th>\n",
              "      <th>AwayDefenseAverage</th>\n",
              "    </tr>\n",
              "  </thead>\n",
              "  <tbody>\n",
              "    <tr>\n",
              "      <th>5951</th>\n",
              "      <td>81.800000</td>\n",
              "      <td>64.400000</td>\n",
              "      <td>68.800000</td>\n",
              "      <td>81.000000</td>\n",
              "    </tr>\n",
              "    <tr>\n",
              "      <th>15481</th>\n",
              "      <td>64.333333</td>\n",
              "      <td>68.000000</td>\n",
              "      <td>74.500000</td>\n",
              "      <td>81.500000</td>\n",
              "    </tr>\n",
              "    <tr>\n",
              "      <th>16660</th>\n",
              "      <td>92.714286</td>\n",
              "      <td>70.714286</td>\n",
              "      <td>72.000000</td>\n",
              "      <td>71.800000</td>\n",
              "    </tr>\n",
              "    <tr>\n",
              "      <th>4896</th>\n",
              "      <td>74.095238</td>\n",
              "      <td>66.047619</td>\n",
              "      <td>62.384615</td>\n",
              "      <td>84.076923</td>\n",
              "    </tr>\n",
              "    <tr>\n",
              "      <th>12061</th>\n",
              "      <td>82.363636</td>\n",
              "      <td>66.090909</td>\n",
              "      <td>67.600000</td>\n",
              "      <td>75.400000</td>\n",
              "    </tr>\n",
              "  </tbody>\n",
              "</table>\n",
              "</div>"
            ],
            "text/plain": [
              "       HomeScoreAverage  ...  AwayDefenseAverage\n",
              "5951          81.800000  ...           81.000000\n",
              "15481         64.333333  ...           81.500000\n",
              "16660         92.714286  ...           71.800000\n",
              "4896          74.095238  ...           84.076923\n",
              "12061         82.363636  ...           75.400000\n",
              "\n",
              "[5 rows x 4 columns]"
            ]
          },
          "metadata": {
            "tags": []
          },
          "execution_count": 10
        }
      ]
    },
    {
      "cell_type": "code",
      "metadata": {
        "id": "BbisnjBrYYNO"
      },
      "source": [
        "#Normalize Data\n",
        "mean = training_set.mean(axis=0)\n",
        "train_data = training_set - mean\n",
        "std = train_data.std(axis=0)\n",
        "train_data /= std\n",
        "\n",
        "test_data = test_set - mean\n",
        "test_data /= std"
      ],
      "execution_count": 11,
      "outputs": []
    },
    {
      "cell_type": "code",
      "metadata": {
        "colab": {
          "base_uri": "https://localhost:8080/"
        },
        "id": "3cxl0D9TeSTm",
        "outputId": "83e4d647-1df2-49d6-8168-7c1d5faaefde"
      },
      "source": [
        "history = bb_model.fit(x=train_data, y=training_labels, epochs=10, verbose=1, validation_data=(test_data, test_labels))"
      ],
      "execution_count": 12,
      "outputs": [
        {
          "output_type": "stream",
          "text": [
            "Epoch 1/10\n",
            "504/504 [==============================] - 5s 3ms/step - loss: 116.0137 - mean_absolute_error: 8.3553 - accuracy: 0.0000e+00 - mean_squared_error: 116.0137 - val_loss: 106.5598 - val_mean_absolute_error: 8.0144 - val_accuracy: 0.0000e+00 - val_mean_squared_error: 106.5598\n",
            "Epoch 2/10\n",
            "504/504 [==============================] - 1s 3ms/step - loss: 103.1826 - mean_absolute_error: 7.9384 - accuracy: 0.0000e+00 - mean_squared_error: 103.1826 - val_loss: 105.7471 - val_mean_absolute_error: 7.9222 - val_accuracy: 0.0000e+00 - val_mean_squared_error: 105.7471\n",
            "Epoch 3/10\n",
            "504/504 [==============================] - 1s 3ms/step - loss: 105.2570 - mean_absolute_error: 7.9967 - accuracy: 0.0000e+00 - mean_squared_error: 105.2570 - val_loss: 104.6743 - val_mean_absolute_error: 7.8872 - val_accuracy: 0.0000e+00 - val_mean_squared_error: 104.6743\n",
            "Epoch 4/10\n",
            "504/504 [==============================] - 1s 3ms/step - loss: 102.9934 - mean_absolute_error: 7.9029 - accuracy: 0.0000e+00 - mean_squared_error: 102.9934 - val_loss: 105.7808 - val_mean_absolute_error: 7.9348 - val_accuracy: 0.0000e+00 - val_mean_squared_error: 105.7808\n",
            "Epoch 5/10\n",
            "504/504 [==============================] - 1s 3ms/step - loss: 105.0095 - mean_absolute_error: 7.9737 - accuracy: 0.0000e+00 - mean_squared_error: 105.0095 - val_loss: 105.5799 - val_mean_absolute_error: 7.9102 - val_accuracy: 0.0000e+00 - val_mean_squared_error: 105.5799\n",
            "Epoch 6/10\n",
            "504/504 [==============================] - 1s 3ms/step - loss: 103.4718 - mean_absolute_error: 7.9104 - accuracy: 0.0000e+00 - mean_squared_error: 103.4718 - val_loss: 106.6469 - val_mean_absolute_error: 8.0531 - val_accuracy: 0.0000e+00 - val_mean_squared_error: 106.6469\n",
            "Epoch 7/10\n",
            "504/504 [==============================] - 1s 3ms/step - loss: 102.6935 - mean_absolute_error: 7.8505 - accuracy: 0.0000e+00 - mean_squared_error: 102.6935 - val_loss: 103.9932 - val_mean_absolute_error: 7.8717 - val_accuracy: 0.0000e+00 - val_mean_squared_error: 103.9932\n",
            "Epoch 8/10\n",
            "504/504 [==============================] - 1s 3ms/step - loss: 103.4253 - mean_absolute_error: 7.9209 - accuracy: 0.0000e+00 - mean_squared_error: 103.4253 - val_loss: 103.9378 - val_mean_absolute_error: 7.8636 - val_accuracy: 0.0000e+00 - val_mean_squared_error: 103.9378\n",
            "Epoch 9/10\n",
            "504/504 [==============================] - 1s 3ms/step - loss: 101.9279 - mean_absolute_error: 7.8839 - accuracy: 0.0000e+00 - mean_squared_error: 101.9279 - val_loss: 103.8702 - val_mean_absolute_error: 7.9040 - val_accuracy: 0.0000e+00 - val_mean_squared_error: 103.8702\n",
            "Epoch 10/10\n",
            "504/504 [==============================] - 1s 3ms/step - loss: 102.0483 - mean_absolute_error: 7.8446 - accuracy: 0.0000e+00 - mean_squared_error: 102.0483 - val_loss: 105.1412 - val_mean_absolute_error: 7.9402 - val_accuracy: 0.0000e+00 - val_mean_squared_error: 105.1412\n"
          ],
          "name": "stdout"
        }
      ]
    },
    {
      "cell_type": "code",
      "metadata": {
        "colab": {
          "base_uri": "https://localhost:8080/",
          "height": 279
        },
        "id": "fCQg2HZHeZbF",
        "outputId": "2f53c498-8195-49df-d677-5d691513fb89"
      },
      "source": [
        "# Check the results\n",
        "# Create a DataFrame from the output from the fit method\n",
        "hist = pd.DataFrame(history.history)\n",
        "# Create an epoch column and set it to the epoch index\n",
        "hist['epoch'] = history.epoch\n",
        "\n",
        "def plot_history(history):\n",
        "  plt.figure()\n",
        "  plt.xlabel('Epoch')\n",
        "  plt.ylabel('Mean Absolute Error')\n",
        "  plt.plot(history['epoch'], history['mean_absolute_error'],\n",
        "           label='Train Mean Absolute Error')\n",
        "  plt.plot(history['epoch'], history['val_mean_absolute_error'],\n",
        "           label = 'Val Mean Absolute Error')\n",
        "  plt.legend()\n",
        "  #plt.ylim([0,1])\n",
        "  plt.show()\n",
        "\n",
        "plot_history(hist)"
      ],
      "execution_count": 13,
      "outputs": [
        {
          "output_type": "display_data",
          "data": {
            "image/png": "[encoded data removed]",
            "text/plain": [
              "<Figure size 432x288 with 1 Axes>"
            ]
          },
          "metadata": {
            "tags": [],
            "needs_background": "light"
          }
        }
      ]
    },
    {
      "cell_type": "code",
      "metadata": {
        "colab": {
          "base_uri": "https://localhost:8080/"
        },
        "id": "XU3thf5ahouW",
        "outputId": "ef33468b-176b-4079-a4ec-8e6055755225"
      },
      "source": [
        "history = bb_model.fit(x=train_data, y=training_labels, epochs=50, verbose=1, validation_data=(test_data, test_labels), callbacks=[callback])"
      ],
      "execution_count": 14,
      "outputs": [
        {
          "output_type": "stream",
          "text": [
            "Epoch 1/50\n",
            "504/504 [==============================] - 1s 3ms/step - loss: 102.7625 - mean_absolute_error: 7.8890 - accuracy: 0.0000e+00 - mean_squared_error: 102.7625 - val_loss: 106.3523 - val_mean_absolute_error: 8.0287 - val_accuracy: 0.0000e+00 - val_mean_squared_error: 106.3523\n",
            "Epoch 2/50\n",
            "504/504 [==============================] - 1s 3ms/step - loss: 103.0071 - mean_absolute_error: 7.9012 - accuracy: 0.0000e+00 - mean_squared_error: 103.0071 - val_loss: 104.4318 - val_mean_absolute_error: 7.9072 - val_accuracy: 0.0000e+00 - val_mean_squared_error: 104.4318\n",
            "Epoch 3/50\n",
            "504/504 [==============================] - 1s 3ms/step - loss: 102.7683 - mean_absolute_error: 7.8835 - accuracy: 0.0000e+00 - mean_squared_error: 102.7683 - val_loss: 104.2703 - val_mean_absolute_error: 7.8611 - val_accuracy: 0.0000e+00 - val_mean_squared_error: 104.2703\n",
            "Epoch 4/50\n",
            "504/504 [==============================] - 1s 3ms/step - loss: 102.8148 - mean_absolute_error: 7.8920 - accuracy: 0.0000e+00 - mean_squared_error: 102.8148 - val_loss: 105.9324 - val_mean_absolute_error: 8.0393 - val_accuracy: 0.0000e+00 - val_mean_squared_error: 105.9324\n"
          ],
          "name": "stdout"
        }
      ]
    },
    {
      "cell_type": "code",
      "metadata": {
        "colab": {
          "base_uri": "https://localhost:8080/",
          "height": 279
        },
        "id": "lh-shWvNh6dc",
        "outputId": "f79537aa-9076-4293-ceea-6b983fcd4b07"
      },
      "source": [
        "# Check the results\n",
        "# Create a DataFrame from the output from the fit method\n",
        "hist = pd.DataFrame(history.history)\n",
        "# Create an epoch column and set it to the epoch index\n",
        "hist['epoch'] = history.epoch\n",
        "\n",
        "def plot_history(history):\n",
        "  plt.figure()\n",
        "  plt.xlabel('Epoch')\n",
        "  plt.ylabel('Mean Absolute Error')\n",
        "  plt.plot(history['epoch'], history['mean_absolute_error'],\n",
        "           label='Train Mean Absolute Error')\n",
        "  plt.plot(history['epoch'], history['val_mean_absolute_error'],\n",
        "           label = 'Val Mean Absolute Error')\n",
        "  plt.legend()\n",
        "  #plt.ylim([0,1])\n",
        "  plt.show()\n",
        "\n",
        "plot_history(hist)"
      ],
      "execution_count": 15,
      "outputs": [
        {
          "output_type": "display_data",
          "data": {
            "image/png": "[encoded data removed]",
            "text/plain": [
              "<Figure size 432x288 with 1 Axes>"
            ]
          },
          "metadata": {
            "tags": [],
            "needs_background": "light"
          }
        }
      ]
    },
    {
      "cell_type": "code",
      "metadata": {
        "colab": {
          "base_uri": "https://localhost:8080/"
        },
        "id": "PVXul8VE4Orf",
        "outputId": "237afa10-7be1-4466-933f-d183de98f86a"
      },
      "source": [
        "history.history"
      ],
      "execution_count": 16,
      "outputs": [
        {
          "output_type": "execute_result",
          "data": {
            "text/plain": [
              "{'accuracy': [0.0, 0.0, 0.0, 0.0],\n",
              " 'loss': [102.76253509521484,\n",
              "  103.00708770751953,\n",
              "  102.76831817626953,\n",
              "  102.81475067138672],\n",
              " 'mean_absolute_error': [7.888998031616211,\n",
              "  7.901230335235596,\n",
              "  7.883453845977783,\n",
              "  7.891979217529297],\n",
              " 'mean_squared_error': [102.76253509521484,\n",
              "  103.00708770751953,\n",
              "  102.76831817626953,\n",
              "  102.81475067138672],\n",
              " 'val_accuracy': [0.0, 0.0, 0.0, 0.0],\n",
              " 'val_loss': [106.35226440429688,\n",
              "  104.43175506591797,\n",
              "  104.27029418945312,\n",
              "  105.93236541748047],\n",
              " 'val_mean_absolute_error': [8.028677940368652,\n",
              "  7.907235622406006,\n",
              "  7.861095428466797,\n",
              "  8.039336204528809],\n",
              " 'val_mean_squared_error': [106.35226440429688,\n",
              "  104.43175506591797,\n",
              "  104.27029418945312,\n",
              "  105.93236541748047]}"
            ]
          },
          "metadata": {
            "tags": []
          },
          "execution_count": 16
        }
      ]
    },
    {
      "cell_type": "code",
      "metadata": {
        "colab": {
          "base_uri": "https://localhost:8080/",
          "height": 282
        },
        "id": "JFinjU7g5ZVA",
        "outputId": "ade3318e-6936-4a18-e301-fa841a0e3f9a"
      },
      "source": [
        "plt.plot(history.history['accuracy'])\n",
        "plt.plot(history.history['val_accuracy'])\n",
        "plt.legend(['accuracy','validation accuracy'])"
      ],
      "execution_count": 17,
      "outputs": [
        {
          "output_type": "execute_result",
          "data": {
            "text/plain": [
              "<matplotlib.legend.Legend at 0x7f10642a22d0>"
            ]
          },
          "metadata": {
            "tags": []
          },
          "execution_count": 17
        },
        {
          "output_type": "display_data",
          "data": {
            "image/png": "[encoded data removed]",
            "text/plain": [
              "<Figure size 432x288 with 1 Axes>"
            ]
          },
          "metadata": {
            "tags": [],
            "needs_background": "light"
          }
        }
      ]
    },
    {
      "cell_type": "code",
      "metadata": {
        "id": "miRD8n1vnntF"
      },
      "source": [
        "bb_model.save('bb_model_wk1.h5')"
      ],
      "execution_count": 22,
      "outputs": []
    },
    {
      "cell_type": "code",
      "metadata": {
        "colab": {
          "base_uri": "https://localhost:8080/"
        },
        "id": "6Sd2tdqI0k5u",
        "outputId": "e05a5c9b-e279-4de5-95af-075e4023173c"
      },
      "source": [
        "res = bb_model.evaluate(x=test_data, y=test_labels, verbose=1, callbacks=[callback])"
      ],
      "execution_count": 23,
      "outputs": [
        {
          "output_type": "stream",
          "text": [
            "126/126 [==============================] - 0s 2ms/step - loss: 105.9324 - mean_absolute_error: 8.0393 - accuracy: 0.0000e+00 - mean_squared_error: 105.9324\n"
          ],
          "name": "stdout"
        }
      ]
    },
    {
      "cell_type": "code",
      "metadata": {
        "id": "G7TTBGw31iA5",
        "colab": {
          "base_uri": "https://localhost:8080/",
          "height": 279
        },
        "outputId": "b184b3ed-ef02-4abe-916f-3c6b8fd4a263"
      },
      "source": [
        "# Check the results\n",
        "# Create a DataFrame from the output from the fit method\n",
        "hist = pd.DataFrame(history.history)\n",
        "# Create an epoch column and set it to the epoch index\n",
        "hist['epoch'] = history.epoch\n",
        "\n",
        "def plot_history(history):\n",
        "  plt.figure()\n",
        "  plt.xlabel('Epoch')\n",
        "  plt.ylabel('Mean Absolute Error')\n",
        "  plt.plot(history['epoch'], history['mean_absolute_error'],\n",
        "           label='Train Mean Absolute Error')\n",
        "  plt.plot(history['epoch'], history['val_mean_absolute_error'],\n",
        "           label = 'Val Mean Absolute Error')\n",
        "  plt.legend()\n",
        "  #plt.ylim([0,1])\n",
        "  plt.show()\n",
        "\n",
        "plot_history(hist)"
      ],
      "execution_count": 24,
      "outputs": [
        {
          "output_type": "display_data",
          "data": {
            "image/png": "[encoded data removed]",
            "text/plain": [
              "<Figure size 432x288 with 1 Axes>"
            ]
          },
          "metadata": {
            "tags": [],
            "needs_background": "light"
          }
        }
      ]
    },
    {
      "cell_type": "code",
      "metadata": {
        "id": "hZOqSArKp2oK"
      },
      "source": [
        "\n",
        "/content/bb_model_wk1.h5"
      ],
      "execution_count": null,
      "outputs": []
    }
  ]
}