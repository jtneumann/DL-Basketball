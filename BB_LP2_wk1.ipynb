{
  "nbformat": 4,
  "nbformat_minor": 0,
  "metadata": {
    "colab": {
      "name": "BB-LP2_wk1.ipynb",
      "provenance": [],
      "collapsed_sections": [],
      "authorship_tag": "ABX9TyN+uWEaLsF7Fkl8ZlAIs2TA",
      "include_colab_link": true
    },
    "kernelspec": {
      "name": "python3",
      "display_name": "Python 3"
    },
    "language_info": {
      "name": "python"
    },
    "accelerator": "GPU"
  },
  "cells": [
    {
      "cell_type": "markdown",
      "metadata": {
        "id": "view-in-github",
        "colab_type": "text"
      },
      "source": [
        "<a href=\"https://colab.research.google.com/github/jtneumann/DL-Basketball/blob/master/BB_LP2_wk1.ipynb\" target=\"_parent\"><img src=\"https://colab.research.google.com/assets/colab-badge.svg\" alt=\"Open In Colab\"/></a>"
      ]
    },
    {
      "cell_type": "code",
      "metadata": {
        "id": "R2dTX4YkP9nJ",
        "colab": {
          "base_uri": "https://localhost:8080/"
        },
        "outputId": "cc59ab34-be87-424e-9744-1492de08555b"
      },
      "source": [
        "import sys\n",
        "print(sys.version)\n",
        "import numpy as np\n",
        "import pandas as pd\n",
        "\n",
        "import tensorflow as tf\n",
        "from tensorflow import keras\n",
        "\n",
        "import matplotlib.pyplot as plt\n",
        "import random"
      ],
      "execution_count": null,
      "outputs": [
        {
          "output_type": "stream",
          "text": [
            "3.7.10 (default, Feb 20 2021, 21:17:23) \n",
            "[GCC 7.5.0]\n"
          ],
          "name": "stdout"
        }
      ]
    },
    {
      "cell_type": "code",
      "metadata": {
        "id": "DZ7CHGpu-QRr"
      },
      "source": [
        "#class PrintDoc(keras.callbacks.Callback):\n",
        "#  def on_epoch_end(self, epoch, logs):\n",
        "#    if epoch % 10 == 0: print('')\n",
        "#    print('.', end='')\n",
        "\n",
        "def Build_Model():\n",
        "    model = keras.models.Sequential([\n",
        "        keras.layers.Dense(32, activation='relu', input_shape=[4]),\n",
        "        keras.layers.Dense(32, activation='relu'),\n",
        "        keras.layers.Dense(1)\n",
        "    ])\n",
        "\n",
        "    o = keras.optimizers.RMSprop()\n",
        "    m = [\n",
        "           keras.metrics.MeanAbsoluteError(),\n",
        "           keras.metrics.Accuracy(),\n",
        "           keras.metrics.MeanSquaredError()\n",
        "    ]\n",
        "\n",
        "    L = keras.losses.MeanSquaredError()\n",
        "\n",
        "    model.compile(loss=L, optimizer=o, metrics=m)\n",
        "    return model\n",
        "\n",
        "NN_Model = Build_Model()\n",
        "\n"
      ],
      "execution_count": 83,
      "outputs": []
    },
    {
      "cell_type": "code",
      "metadata": {
        "colab": {
          "resources": {
            "http://localhost:8080/nbextensions/google.colab/files.js": {
              "data": "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",
              "ok": true,
              "headers": [
                [
                  "content-type",
                  "application/javascript"
                ]
              ],
              "status": 200,
              "status_text": ""
            }
          },
          "base_uri": "https://localhost:8080/",
          "height": 72
        },
        "id": "8giLRV4DRqBE",
        "outputId": "7aa1c4a8-6827-4dd8-be50-7cdffb58d9da"
      },
      "source": [
        "import io\n",
        "from google.colab import files\n",
        "uploaded = files.upload()\n"
      ],
      "execution_count": 71,
      "outputs": [
        {
          "output_type": "display_data",
          "data": {
            "text/html": [
              "\n",
              "     <input type=\"file\" id=\"files-6fa504bc-bde5-4ccc-9dd5-7b1992d29035\" name=\"files[]\" multiple disabled\n",
              "        style=\"border:none\" />\n",
              "     <output id=\"result-6fa504bc-bde5-4ccc-9dd5-7b1992d29035\">\n",
              "      Upload widget is only available when the cell has been executed in the\n",
              "      current browser session. Please rerun this cell to enable.\n",
              "      </output>\n",
              "      <script src=\"/nbextensions/google.colab/files.js\"></script> "
            ],
            "text/plain": [
              "<IPython.core.display.HTML object>"
            ]
          },
          "metadata": {
            "tags": []
          }
        },
        {
          "output_type": "stream",
          "text": [
            "Saving Games-Calculated.csv to Games-Calculated (2).csv\n"
          ],
          "name": "stdout"
        }
      ]
    },
    {
      "cell_type": "code",
      "metadata": {
        "id": "EvE-fmWWSGza"
      },
      "source": [
        "column_names = ['Date','HomeTeam','HomeScore','AwayTeam','AwayScore',\n",
        "                'HomeScoreAverage','HomeDefenseAverage','AwayScoreAverage','AwayDefenseAverage',\n",
        "                'Result']\n",
        "\n",
        "game_data = pd.read_csv((io.BytesIO(uploaded['Games-Calculated.csv'])), header=None, names=column_names)"
      ],
      "execution_count": 72,
      "outputs": []
    },
    {
      "cell_type": "code",
      "metadata": {
        "id": "4d8dUVqqvT9r",
        "colab": {
          "base_uri": "https://localhost:8080/",
          "height": 204
        },
        "outputId": "bc99939b-6ac8-411b-94ae-57b1595a4f10"
      },
      "source": [
        "# Drop the columns that we are NOT going to train on\n",
        "game_data.drop(['Date','HomeTeam','HomeScore','AwayTeam','AwayScore'], axis=1, inplace=True)\n",
        "game_data.tail()"
      ],
      "execution_count": 73,
      "outputs": [
        {
          "output_type": "execute_result",
          "data": {
            "text/html": [
              "<div>\n",
              "<style scoped>\n",
              "    .dataframe tbody tr th:only-of-type {\n",
              "        vertical-align: middle;\n",
              "    }\n",
              "\n",
              "    .dataframe tbody tr th {\n",
              "        vertical-align: top;\n",
              "    }\n",
              "\n",
              "    .dataframe thead th {\n",
              "        text-align: right;\n",
              "    }\n",
              "</style>\n",
              "<table border=\"1\" class=\"dataframe\">\n",
              "  <thead>\n",
              "    <tr style=\"text-align: right;\">\n",
              "      <th></th>\n",
              "      <th>HomeScoreAverage</th>\n",
              "      <th>HomeDefenseAverage</th>\n",
              "      <th>AwayScoreAverage</th>\n",
              "      <th>AwayDefenseAverage</th>\n",
              "      <th>Result</th>\n",
              "    </tr>\n",
              "  </thead>\n",
              "  <tbody>\n",
              "    <tr>\n",
              "      <th>20155</th>\n",
              "      <td>80.058824</td>\n",
              "      <td>63.529412</td>\n",
              "      <td>67.777778</td>\n",
              "      <td>70.666667</td>\n",
              "      <td>2</td>\n",
              "    </tr>\n",
              "    <tr>\n",
              "      <th>20156</th>\n",
              "      <td>85.062500</td>\n",
              "      <td>74.562500</td>\n",
              "      <td>71.466667</td>\n",
              "      <td>75.200000</td>\n",
              "      <td>10</td>\n",
              "    </tr>\n",
              "    <tr>\n",
              "      <th>20157</th>\n",
              "      <td>71.437500</td>\n",
              "      <td>65.500000</td>\n",
              "      <td>67.388889</td>\n",
              "      <td>72.666667</td>\n",
              "      <td>-8</td>\n",
              "    </tr>\n",
              "    <tr>\n",
              "      <th>20158</th>\n",
              "      <td>80.666667</td>\n",
              "      <td>72.333333</td>\n",
              "      <td>70.200000</td>\n",
              "      <td>70.066667</td>\n",
              "      <td>7</td>\n",
              "    </tr>\n",
              "    <tr>\n",
              "      <th>20159</th>\n",
              "      <td>83.238095</td>\n",
              "      <td>72.761905</td>\n",
              "      <td>75.428571</td>\n",
              "      <td>78.214286</td>\n",
              "      <td>12</td>\n",
              "    </tr>\n",
              "  </tbody>\n",
              "</table>\n",
              "</div>"
            ],
            "text/plain": [
              "       HomeScoreAverage  HomeDefenseAverage  ...  AwayDefenseAverage  Result\n",
              "20155         80.058824           63.529412  ...           70.666667       2\n",
              "20156         85.062500           74.562500  ...           75.200000      10\n",
              "20157         71.437500           65.500000  ...           72.666667      -8\n",
              "20158         80.666667           72.333333  ...           70.066667       7\n",
              "20159         83.238095           72.761905  ...           78.214286      12\n",
              "\n",
              "[5 rows x 5 columns]"
            ]
          },
          "metadata": {
            "tags": []
          },
          "execution_count": 73
        }
      ]
    },
    {
      "cell_type": "code",
      "metadata": {
        "colab": {
          "base_uri": "https://localhost:8080/",
          "height": 204
        },
        "id": "kh3RtiSqSW0U",
        "outputId": "779d284b-4df8-45cb-ce81-80cd955756de"
      },
      "source": [
        "game_data.head()\n"
      ],
      "execution_count": 74,
      "outputs": [
        {
          "output_type": "execute_result",
          "data": {
            "text/html": [
              "<div>\n",
              "<style scoped>\n",
              "    .dataframe tbody tr th:only-of-type {\n",
              "        vertical-align: middle;\n",
              "    }\n",
              "\n",
              "    .dataframe tbody tr th {\n",
              "        vertical-align: top;\n",
              "    }\n",
              "\n",
              "    .dataframe thead th {\n",
              "        text-align: right;\n",
              "    }\n",
              "</style>\n",
              "<table border=\"1\" class=\"dataframe\">\n",
              "  <thead>\n",
              "    <tr style=\"text-align: right;\">\n",
              "      <th></th>\n",
              "      <th>HomeScoreAverage</th>\n",
              "      <th>HomeDefenseAverage</th>\n",
              "      <th>AwayScoreAverage</th>\n",
              "      <th>AwayDefenseAverage</th>\n",
              "      <th>Result</th>\n",
              "    </tr>\n",
              "  </thead>\n",
              "  <tbody>\n",
              "    <tr>\n",
              "      <th>0</th>\n",
              "      <td>87.0</td>\n",
              "      <td>76.0</td>\n",
              "      <td>76.0</td>\n",
              "      <td>87.0</td>\n",
              "      <td>11</td>\n",
              "    </tr>\n",
              "    <tr>\n",
              "      <th>1</th>\n",
              "      <td>70.0</td>\n",
              "      <td>50.0</td>\n",
              "      <td>50.0</td>\n",
              "      <td>70.0</td>\n",
              "      <td>20</td>\n",
              "    </tr>\n",
              "    <tr>\n",
              "      <th>2</th>\n",
              "      <td>70.0</td>\n",
              "      <td>57.0</td>\n",
              "      <td>57.0</td>\n",
              "      <td>70.0</td>\n",
              "      <td>13</td>\n",
              "    </tr>\n",
              "    <tr>\n",
              "      <th>3</th>\n",
              "      <td>89.0</td>\n",
              "      <td>83.0</td>\n",
              "      <td>83.0</td>\n",
              "      <td>89.0</td>\n",
              "      <td>6</td>\n",
              "    </tr>\n",
              "    <tr>\n",
              "      <th>4</th>\n",
              "      <td>68.0</td>\n",
              "      <td>62.0</td>\n",
              "      <td>62.0</td>\n",
              "      <td>68.0</td>\n",
              "      <td>6</td>\n",
              "    </tr>\n",
              "  </tbody>\n",
              "</table>\n",
              "</div>"
            ],
            "text/plain": [
              "   HomeScoreAverage  HomeDefenseAverage  ...  AwayDefenseAverage  Result\n",
              "0              87.0                76.0  ...                87.0      11\n",
              "1              70.0                50.0  ...                70.0      20\n",
              "2              70.0                57.0  ...                70.0      13\n",
              "3              89.0                83.0  ...                89.0       6\n",
              "4              68.0                62.0  ...                68.0       6\n",
              "\n",
              "[5 rows x 5 columns]"
            ]
          },
          "metadata": {
            "tags": []
          },
          "execution_count": 74
        }
      ]
    },
    {
      "cell_type": "code",
      "metadata": {
        "colab": {
          "base_uri": "https://localhost:8080/"
        },
        "id": "I8EEd39uT-x5",
        "outputId": "032501c2-cd5c-4b15-cc5c-d8dd5c872285"
      },
      "source": [
        "#Train/Test Spit\n",
        "training_set = game_data.sample(frac=0.8, random_state=0)\n",
        "test_set = game_data.drop(train.index)\n",
        "print('training_set_size: %s' % train.shape[0])\n",
        "print('test_set_size: %s' % test.shape[0])"
      ],
      "execution_count": 75,
      "outputs": [
        {
          "output_type": "stream",
          "text": [
            "training_set_size: 16128\n",
            "test_set_size: 4032\n"
          ],
          "name": "stdout"
        }
      ]
    },
    {
      "cell_type": "code",
      "metadata": {
        "colab": {
          "base_uri": "https://localhost:8080/",
          "height": 204
        },
        "id": "89DRDQFlXz97",
        "outputId": "1abd0fee-a37b-443f-d961-fc80f18c1397"
      },
      "source": [
        "training_set.head()\n"
      ],
      "execution_count": 76,
      "outputs": [
        {
          "output_type": "execute_result",
          "data": {
            "text/html": [
              "<div>\n",
              "<style scoped>\n",
              "    .dataframe tbody tr th:only-of-type {\n",
              "        vertical-align: middle;\n",
              "    }\n",
              "\n",
              "    .dataframe tbody tr th {\n",
              "        vertical-align: top;\n",
              "    }\n",
              "\n",
              "    .dataframe thead th {\n",
              "        text-align: right;\n",
              "    }\n",
              "</style>\n",
              "<table border=\"1\" class=\"dataframe\">\n",
              "  <thead>\n",
              "    <tr style=\"text-align: right;\">\n",
              "      <th></th>\n",
              "      <th>HomeScoreAverage</th>\n",
              "      <th>HomeDefenseAverage</th>\n",
              "      <th>AwayScoreAverage</th>\n",
              "      <th>AwayDefenseAverage</th>\n",
              "      <th>Result</th>\n",
              "    </tr>\n",
              "  </thead>\n",
              "  <tbody>\n",
              "    <tr>\n",
              "      <th>5951</th>\n",
              "      <td>81.800000</td>\n",
              "      <td>64.400000</td>\n",
              "      <td>68.800000</td>\n",
              "      <td>81.000000</td>\n",
              "      <td>5</td>\n",
              "    </tr>\n",
              "    <tr>\n",
              "      <th>15481</th>\n",
              "      <td>64.333333</td>\n",
              "      <td>68.000000</td>\n",
              "      <td>74.500000</td>\n",
              "      <td>81.500000</td>\n",
              "      <td>6</td>\n",
              "    </tr>\n",
              "    <tr>\n",
              "      <th>16660</th>\n",
              "      <td>92.714286</td>\n",
              "      <td>70.714286</td>\n",
              "      <td>72.000000</td>\n",
              "      <td>71.800000</td>\n",
              "      <td>5</td>\n",
              "    </tr>\n",
              "    <tr>\n",
              "      <th>4896</th>\n",
              "      <td>74.095238</td>\n",
              "      <td>66.047619</td>\n",
              "      <td>62.384615</td>\n",
              "      <td>84.076923</td>\n",
              "      <td>17</td>\n",
              "    </tr>\n",
              "    <tr>\n",
              "      <th>12061</th>\n",
              "      <td>82.363636</td>\n",
              "      <td>66.090909</td>\n",
              "      <td>67.600000</td>\n",
              "      <td>75.400000</td>\n",
              "      <td>-2</td>\n",
              "    </tr>\n",
              "  </tbody>\n",
              "</table>\n",
              "</div>"
            ],
            "text/plain": [
              "       HomeScoreAverage  HomeDefenseAverage  ...  AwayDefenseAverage  Result\n",
              "5951          81.800000           64.400000  ...           81.000000       5\n",
              "15481         64.333333           68.000000  ...           81.500000       6\n",
              "16660         92.714286           70.714286  ...           71.800000       5\n",
              "4896          74.095238           66.047619  ...           84.076923      17\n",
              "12061         82.363636           66.090909  ...           75.400000      -2\n",
              "\n",
              "[5 rows x 5 columns]"
            ]
          },
          "metadata": {
            "tags": []
          },
          "execution_count": 76
        }
      ]
    },
    {
      "cell_type": "code",
      "metadata": {
        "id": "VcUup10ZU-zv"
      },
      "source": [
        "#Labels\n",
        "training_labels = training_set.pop('Result')\n",
        "test_labels = test_set.pop('Result')"
      ],
      "execution_count": 77,
      "outputs": []
    },
    {
      "cell_type": "code",
      "metadata": {
        "colab": {
          "base_uri": "https://localhost:8080/",
          "height": 204
        },
        "id": "QCNGzFBKYQJx",
        "outputId": "42ddcbdb-86b2-4c3f-9264-af9429310d0d"
      },
      "source": [
        "training_set.head()"
      ],
      "execution_count": 78,
      "outputs": [
        {
          "output_type": "execute_result",
          "data": {
            "text/html": [
              "<div>\n",
              "<style scoped>\n",
              "    .dataframe tbody tr th:only-of-type {\n",
              "        vertical-align: middle;\n",
              "    }\n",
              "\n",
              "    .dataframe tbody tr th {\n",
              "        vertical-align: top;\n",
              "    }\n",
              "\n",
              "    .dataframe thead th {\n",
              "        text-align: right;\n",
              "    }\n",
              "</style>\n",
              "<table border=\"1\" class=\"dataframe\">\n",
              "  <thead>\n",
              "    <tr style=\"text-align: right;\">\n",
              "      <th></th>\n",
              "      <th>HomeScoreAverage</th>\n",
              "      <th>HomeDefenseAverage</th>\n",
              "      <th>AwayScoreAverage</th>\n",
              "      <th>AwayDefenseAverage</th>\n",
              "    </tr>\n",
              "  </thead>\n",
              "  <tbody>\n",
              "    <tr>\n",
              "      <th>5951</th>\n",
              "      <td>81.800000</td>\n",
              "      <td>64.400000</td>\n",
              "      <td>68.800000</td>\n",
              "      <td>81.000000</td>\n",
              "    </tr>\n",
              "    <tr>\n",
              "      <th>15481</th>\n",
              "      <td>64.333333</td>\n",
              "      <td>68.000000</td>\n",
              "      <td>74.500000</td>\n",
              "      <td>81.500000</td>\n",
              "    </tr>\n",
              "    <tr>\n",
              "      <th>16660</th>\n",
              "      <td>92.714286</td>\n",
              "      <td>70.714286</td>\n",
              "      <td>72.000000</td>\n",
              "      <td>71.800000</td>\n",
              "    </tr>\n",
              "    <tr>\n",
              "      <th>4896</th>\n",
              "      <td>74.095238</td>\n",
              "      <td>66.047619</td>\n",
              "      <td>62.384615</td>\n",
              "      <td>84.076923</td>\n",
              "    </tr>\n",
              "    <tr>\n",
              "      <th>12061</th>\n",
              "      <td>82.363636</td>\n",
              "      <td>66.090909</td>\n",
              "      <td>67.600000</td>\n",
              "      <td>75.400000</td>\n",
              "    </tr>\n",
              "  </tbody>\n",
              "</table>\n",
              "</div>"
            ],
            "text/plain": [
              "       HomeScoreAverage  ...  AwayDefenseAverage\n",
              "5951          81.800000  ...           81.000000\n",
              "15481         64.333333  ...           81.500000\n",
              "16660         92.714286  ...           71.800000\n",
              "4896          74.095238  ...           84.076923\n",
              "12061         82.363636  ...           75.400000\n",
              "\n",
              "[5 rows x 4 columns]"
            ]
          },
          "metadata": {
            "tags": []
          },
          "execution_count": 78
        }
      ]
    },
    {
      "cell_type": "code",
      "metadata": {
        "id": "BbisnjBrYYNO"
      },
      "source": [
        "#Normalize Data\n",
        "mean = training_set.mean(axis=0)\n",
        "train_data = training_set - mean\n",
        "std = train_data.std(axis=0)\n",
        "train_data /= std\n",
        "\n",
        "test_data = test_set - mean\n",
        "test_data /= std"
      ],
      "execution_count": 79,
      "outputs": []
    },
    {
      "cell_type": "code",
      "metadata": {
        "colab": {
          "base_uri": "https://localhost:8080/"
        },
        "id": "H1iFuY0tY5i6",
        "outputId": "c4c172ad-ad78-4d73-b336-5f79e04266b9"
      },
      "source": [
        "#history = NN_Model.fit(train_data, training_labels, epochs=1000, validation_split=0.2, verbose=0)\n",
        "\n",
        "history = NN_Model.fit(x=train_data, y=training_labels, batch_size=128, epochs=100, verbose=1, validation_split=0.2)"
      ],
      "execution_count": 84,
      "outputs": [
        {
          "output_type": "stream",
          "text": [
            "Epoch 1/100\n",
            "101/101 [==============================] - 4s 7ms/step - loss: 201.3047 - mean_absolute_error: 11.2024 - accuracy: 0.0000e+00 - mean_squared_error: 201.3047 - val_loss: 126.7397 - val_mean_absolute_error: 8.8530 - val_accuracy: 0.0000e+00 - val_mean_squared_error: 126.7397\n",
            "Epoch 2/100\n",
            "101/101 [==============================] - 0s 5ms/step - loss: 123.6991 - mean_absolute_error: 8.7275 - accuracy: 0.0000e+00 - mean_squared_error: 123.6991 - val_loss: 109.2285 - val_mean_absolute_error: 8.1584 - val_accuracy: 0.0000e+00 - val_mean_squared_error: 109.2285\n",
            "Epoch 3/100\n",
            "101/101 [==============================] - 0s 5ms/step - loss: 109.4919 - mean_absolute_error: 8.1454 - accuracy: 0.0000e+00 - mean_squared_error: 109.4919 - val_loss: 105.4843 - val_mean_absolute_error: 8.0010 - val_accuracy: 0.0000e+00 - val_mean_squared_error: 105.4843\n",
            "Epoch 4/100\n",
            "101/101 [==============================] - 0s 5ms/step - loss: 107.0428 - mean_absolute_error: 8.0639 - accuracy: 0.0000e+00 - mean_squared_error: 107.0428 - val_loss: 104.1350 - val_mean_absolute_error: 7.9470 - val_accuracy: 0.0000e+00 - val_mean_squared_error: 104.1350\n",
            "Epoch 5/100\n",
            "101/101 [==============================] - 0s 5ms/step - loss: 106.2353 - mean_absolute_error: 8.0376 - accuracy: 0.0000e+00 - mean_squared_error: 106.2353 - val_loss: 103.4969 - val_mean_absolute_error: 7.9233 - val_accuracy: 0.0000e+00 - val_mean_squared_error: 103.4969\n",
            "Epoch 6/100\n",
            "101/101 [==============================] - 0s 5ms/step - loss: 105.2779 - mean_absolute_error: 8.0044 - accuracy: 0.0000e+00 - mean_squared_error: 105.2779 - val_loss: 103.0546 - val_mean_absolute_error: 7.9058 - val_accuracy: 0.0000e+00 - val_mean_squared_error: 103.0546\n",
            "Epoch 7/100\n",
            "101/101 [==============================] - 0s 5ms/step - loss: 100.9649 - mean_absolute_error: 7.8194 - accuracy: 0.0000e+00 - mean_squared_error: 100.9649 - val_loss: 103.0532 - val_mean_absolute_error: 7.9107 - val_accuracy: 0.0000e+00 - val_mean_squared_error: 103.0532\n",
            "Epoch 8/100\n",
            "101/101 [==============================] - 0s 5ms/step - loss: 104.1739 - mean_absolute_error: 7.9784 - accuracy: 0.0000e+00 - mean_squared_error: 104.1739 - val_loss: 102.9741 - val_mean_absolute_error: 7.9054 - val_accuracy: 0.0000e+00 - val_mean_squared_error: 102.9741\n",
            "Epoch 9/100\n",
            "101/101 [==============================] - 0s 4ms/step - loss: 101.6882 - mean_absolute_error: 7.8338 - accuracy: 0.0000e+00 - mean_squared_error: 101.6882 - val_loss: 102.9642 - val_mean_absolute_error: 7.9069 - val_accuracy: 0.0000e+00 - val_mean_squared_error: 102.9642\n",
            "Epoch 10/100\n",
            "101/101 [==============================] - 0s 5ms/step - loss: 104.4116 - mean_absolute_error: 7.9739 - accuracy: 0.0000e+00 - mean_squared_error: 104.4116 - val_loss: 102.9349 - val_mean_absolute_error: 7.8984 - val_accuracy: 0.0000e+00 - val_mean_squared_error: 102.9349\n",
            "Epoch 11/100\n",
            "101/101 [==============================] - 0s 4ms/step - loss: 101.7285 - mean_absolute_error: 7.8639 - accuracy: 0.0000e+00 - mean_squared_error: 101.7285 - val_loss: 102.7094 - val_mean_absolute_error: 7.8946 - val_accuracy: 0.0000e+00 - val_mean_squared_error: 102.7094\n",
            "Epoch 12/100\n",
            "101/101 [==============================] - 0s 5ms/step - loss: 104.5385 - mean_absolute_error: 7.9547 - accuracy: 0.0000e+00 - mean_squared_error: 104.5385 - val_loss: 102.6436 - val_mean_absolute_error: 7.9005 - val_accuracy: 0.0000e+00 - val_mean_squared_error: 102.6436\n",
            "Epoch 13/100\n",
            "101/101 [==============================] - 0s 5ms/step - loss: 104.3727 - mean_absolute_error: 7.9493 - accuracy: 0.0000e+00 - mean_squared_error: 104.3727 - val_loss: 102.6364 - val_mean_absolute_error: 7.8969 - val_accuracy: 0.0000e+00 - val_mean_squared_error: 102.6364\n",
            "Epoch 14/100\n",
            "101/101 [==============================] - 0s 5ms/step - loss: 103.1161 - mean_absolute_error: 7.9320 - accuracy: 0.0000e+00 - mean_squared_error: 103.1161 - val_loss: 102.4916 - val_mean_absolute_error: 7.8879 - val_accuracy: 0.0000e+00 - val_mean_squared_error: 102.4916\n",
            "Epoch 15/100\n",
            "101/101 [==============================] - 0s 5ms/step - loss: 103.1628 - mean_absolute_error: 7.9087 - accuracy: 0.0000e+00 - mean_squared_error: 103.1628 - val_loss: 102.5295 - val_mean_absolute_error: 7.8912 - val_accuracy: 0.0000e+00 - val_mean_squared_error: 102.5295\n",
            "Epoch 16/100\n",
            "101/101 [==============================] - 0s 5ms/step - loss: 100.9769 - mean_absolute_error: 7.8381 - accuracy: 0.0000e+00 - mean_squared_error: 100.9769 - val_loss: 102.6162 - val_mean_absolute_error: 7.9008 - val_accuracy: 0.0000e+00 - val_mean_squared_error: 102.6162\n",
            "Epoch 17/100\n",
            "101/101 [==============================] - 0s 5ms/step - loss: 100.8964 - mean_absolute_error: 7.8537 - accuracy: 0.0000e+00 - mean_squared_error: 100.8964 - val_loss: 102.5471 - val_mean_absolute_error: 7.8945 - val_accuracy: 0.0000e+00 - val_mean_squared_error: 102.5471\n",
            "Epoch 18/100\n",
            "101/101 [==============================] - 0s 5ms/step - loss: 106.2202 - mean_absolute_error: 8.0484 - accuracy: 0.0000e+00 - mean_squared_error: 106.2202 - val_loss: 102.4901 - val_mean_absolute_error: 7.8858 - val_accuracy: 0.0000e+00 - val_mean_squared_error: 102.4901\n",
            "Epoch 19/100\n",
            "101/101 [==============================] - 0s 5ms/step - loss: 101.0103 - mean_absolute_error: 7.8364 - accuracy: 0.0000e+00 - mean_squared_error: 101.0103 - val_loss: 102.4315 - val_mean_absolute_error: 7.8822 - val_accuracy: 0.0000e+00 - val_mean_squared_error: 102.4315\n",
            "Epoch 20/100\n",
            "101/101 [==============================] - 0s 4ms/step - loss: 102.1061 - mean_absolute_error: 7.8528 - accuracy: 0.0000e+00 - mean_squared_error: 102.1061 - val_loss: 102.3985 - val_mean_absolute_error: 7.8836 - val_accuracy: 0.0000e+00 - val_mean_squared_error: 102.3985\n",
            "Epoch 21/100\n",
            "101/101 [==============================] - 0s 5ms/step - loss: 103.4271 - mean_absolute_error: 7.9570 - accuracy: 0.0000e+00 - mean_squared_error: 103.4271 - val_loss: 102.4685 - val_mean_absolute_error: 7.8862 - val_accuracy: 0.0000e+00 - val_mean_squared_error: 102.4685\n",
            "Epoch 22/100\n",
            "101/101 [==============================] - 0s 4ms/step - loss: 104.0605 - mean_absolute_error: 7.9811 - accuracy: 0.0000e+00 - mean_squared_error: 104.0605 - val_loss: 102.5073 - val_mean_absolute_error: 7.8878 - val_accuracy: 0.0000e+00 - val_mean_squared_error: 102.5073\n",
            "Epoch 23/100\n",
            "101/101 [==============================] - 1s 5ms/step - loss: 100.0381 - mean_absolute_error: 7.7375 - accuracy: 0.0000e+00 - mean_squared_error: 100.0381 - val_loss: 102.2542 - val_mean_absolute_error: 7.8770 - val_accuracy: 0.0000e+00 - val_mean_squared_error: 102.2542\n",
            "Epoch 24/100\n",
            "101/101 [==============================] - 0s 5ms/step - loss: 101.5379 - mean_absolute_error: 7.8490 - accuracy: 0.0000e+00 - mean_squared_error: 101.5379 - val_loss: 102.4630 - val_mean_absolute_error: 7.8922 - val_accuracy: 0.0000e+00 - val_mean_squared_error: 102.4630\n",
            "Epoch 25/100\n",
            "101/101 [==============================] - 0s 5ms/step - loss: 104.0912 - mean_absolute_error: 7.9782 - accuracy: 0.0000e+00 - mean_squared_error: 104.0912 - val_loss: 102.2105 - val_mean_absolute_error: 7.8770 - val_accuracy: 0.0000e+00 - val_mean_squared_error: 102.2105\n",
            "Epoch 26/100\n",
            "101/101 [==============================] - 0s 5ms/step - loss: 102.3938 - mean_absolute_error: 7.8791 - accuracy: 0.0000e+00 - mean_squared_error: 102.3938 - val_loss: 102.2912 - val_mean_absolute_error: 7.8781 - val_accuracy: 0.0000e+00 - val_mean_squared_error: 102.2912\n",
            "Epoch 27/100\n",
            "101/101 [==============================] - 0s 5ms/step - loss: 104.3006 - mean_absolute_error: 7.9672 - accuracy: 0.0000e+00 - mean_squared_error: 104.3006 - val_loss: 102.4998 - val_mean_absolute_error: 7.8942 - val_accuracy: 0.0000e+00 - val_mean_squared_error: 102.4998\n",
            "Epoch 28/100\n",
            "101/101 [==============================] - 0s 5ms/step - loss: 103.2903 - mean_absolute_error: 7.9369 - accuracy: 0.0000e+00 - mean_squared_error: 103.2903 - val_loss: 102.2452 - val_mean_absolute_error: 7.8698 - val_accuracy: 0.0000e+00 - val_mean_squared_error: 102.2452\n",
            "Epoch 29/100\n",
            "101/101 [==============================] - 0s 5ms/step - loss: 104.3651 - mean_absolute_error: 7.9722 - accuracy: 0.0000e+00 - mean_squared_error: 104.3651 - val_loss: 102.3891 - val_mean_absolute_error: 7.8829 - val_accuracy: 0.0000e+00 - val_mean_squared_error: 102.3891\n",
            "Epoch 30/100\n",
            "101/101 [==============================] - 0s 4ms/step - loss: 100.9590 - mean_absolute_error: 7.8305 - accuracy: 0.0000e+00 - mean_squared_error: 100.9590 - val_loss: 102.2822 - val_mean_absolute_error: 7.8751 - val_accuracy: 0.0000e+00 - val_mean_squared_error: 102.2822\n",
            "Epoch 31/100\n",
            "101/101 [==============================] - 0s 5ms/step - loss: 102.1157 - mean_absolute_error: 7.8725 - accuracy: 0.0000e+00 - mean_squared_error: 102.1157 - val_loss: 102.1513 - val_mean_absolute_error: 7.8728 - val_accuracy: 0.0000e+00 - val_mean_squared_error: 102.1513\n",
            "Epoch 32/100\n",
            "101/101 [==============================] - 0s 5ms/step - loss: 101.7674 - mean_absolute_error: 7.8726 - accuracy: 0.0000e+00 - mean_squared_error: 101.7674 - val_loss: 102.2256 - val_mean_absolute_error: 7.8670 - val_accuracy: 0.0000e+00 - val_mean_squared_error: 102.2256\n",
            "Epoch 33/100\n",
            "101/101 [==============================] - 0s 5ms/step - loss: 104.7292 - mean_absolute_error: 8.0003 - accuracy: 0.0000e+00 - mean_squared_error: 104.7292 - val_loss: 102.0682 - val_mean_absolute_error: 7.8559 - val_accuracy: 0.0000e+00 - val_mean_squared_error: 102.0682\n",
            "Epoch 34/100\n",
            "101/101 [==============================] - 0s 5ms/step - loss: 104.3687 - mean_absolute_error: 7.9262 - accuracy: 0.0000e+00 - mean_squared_error: 104.3687 - val_loss: 102.1431 - val_mean_absolute_error: 7.8692 - val_accuracy: 0.0000e+00 - val_mean_squared_error: 102.1431\n",
            "Epoch 35/100\n",
            "101/101 [==============================] - 0s 5ms/step - loss: 102.8190 - mean_absolute_error: 7.8895 - accuracy: 0.0000e+00 - mean_squared_error: 102.8190 - val_loss: 102.0428 - val_mean_absolute_error: 7.8561 - val_accuracy: 0.0000e+00 - val_mean_squared_error: 102.0428\n",
            "Epoch 36/100\n",
            "101/101 [==============================] - 0s 5ms/step - loss: 101.4268 - mean_absolute_error: 7.8806 - accuracy: 0.0000e+00 - mean_squared_error: 101.4268 - val_loss: 102.1949 - val_mean_absolute_error: 7.8685 - val_accuracy: 0.0000e+00 - val_mean_squared_error: 102.1949\n",
            "Epoch 37/100\n",
            "101/101 [==============================] - 0s 5ms/step - loss: 100.5593 - mean_absolute_error: 7.7934 - accuracy: 0.0000e+00 - mean_squared_error: 100.5593 - val_loss: 101.9764 - val_mean_absolute_error: 7.8575 - val_accuracy: 0.0000e+00 - val_mean_squared_error: 101.9764\n",
            "Epoch 38/100\n",
            "101/101 [==============================] - 0s 5ms/step - loss: 101.8984 - mean_absolute_error: 7.8665 - accuracy: 0.0000e+00 - mean_squared_error: 101.8984 - val_loss: 102.7118 - val_mean_absolute_error: 7.8844 - val_accuracy: 0.0000e+00 - val_mean_squared_error: 102.7118\n",
            "Epoch 39/100\n",
            "101/101 [==============================] - 0s 5ms/step - loss: 100.7788 - mean_absolute_error: 7.8563 - accuracy: 0.0000e+00 - mean_squared_error: 100.7788 - val_loss: 102.0444 - val_mean_absolute_error: 7.8588 - val_accuracy: 0.0000e+00 - val_mean_squared_error: 102.0444\n",
            "Epoch 40/100\n",
            "101/101 [==============================] - 0s 5ms/step - loss: 102.0704 - mean_absolute_error: 7.9038 - accuracy: 0.0000e+00 - mean_squared_error: 102.0704 - val_loss: 102.0695 - val_mean_absolute_error: 7.8563 - val_accuracy: 0.0000e+00 - val_mean_squared_error: 102.0695\n",
            "Epoch 41/100\n",
            "101/101 [==============================] - 0s 5ms/step - loss: 102.4040 - mean_absolute_error: 7.8645 - accuracy: 0.0000e+00 - mean_squared_error: 102.4040 - val_loss: 101.9940 - val_mean_absolute_error: 7.8574 - val_accuracy: 0.0000e+00 - val_mean_squared_error: 101.9940\n",
            "Epoch 42/100\n",
            "101/101 [==============================] - 0s 5ms/step - loss: 104.6663 - mean_absolute_error: 7.9804 - accuracy: 0.0000e+00 - mean_squared_error: 104.6663 - val_loss: 101.9073 - val_mean_absolute_error: 7.8482 - val_accuracy: 0.0000e+00 - val_mean_squared_error: 101.9073\n",
            "Epoch 43/100\n",
            "101/101 [==============================] - 0s 4ms/step - loss: 100.4099 - mean_absolute_error: 7.8281 - accuracy: 0.0000e+00 - mean_squared_error: 100.4099 - val_loss: 102.5946 - val_mean_absolute_error: 7.8896 - val_accuracy: 0.0000e+00 - val_mean_squared_error: 102.5946\n",
            "Epoch 44/100\n",
            "101/101 [==============================] - 1s 5ms/step - loss: 103.8069 - mean_absolute_error: 7.9219 - accuracy: 0.0000e+00 - mean_squared_error: 103.8069 - val_loss: 101.9371 - val_mean_absolute_error: 7.8487 - val_accuracy: 0.0000e+00 - val_mean_squared_error: 101.9371\n",
            "Epoch 45/100\n",
            "101/101 [==============================] - 0s 4ms/step - loss: 102.5087 - mean_absolute_error: 7.8855 - accuracy: 0.0000e+00 - mean_squared_error: 102.5087 - val_loss: 102.0304 - val_mean_absolute_error: 7.8595 - val_accuracy: 0.0000e+00 - val_mean_squared_error: 102.0304\n",
            "Epoch 46/100\n",
            "101/101 [==============================] - 0s 5ms/step - loss: 103.1121 - mean_absolute_error: 7.8979 - accuracy: 0.0000e+00 - mean_squared_error: 103.1121 - val_loss: 101.9461 - val_mean_absolute_error: 7.8485 - val_accuracy: 0.0000e+00 - val_mean_squared_error: 101.9461\n",
            "Epoch 47/100\n",
            "101/101 [==============================] - 0s 4ms/step - loss: 104.2183 - mean_absolute_error: 7.9391 - accuracy: 0.0000e+00 - mean_squared_error: 104.2183 - val_loss: 102.2285 - val_mean_absolute_error: 7.8689 - val_accuracy: 0.0000e+00 - val_mean_squared_error: 102.2285\n",
            "Epoch 48/100\n",
            "101/101 [==============================] - 0s 5ms/step - loss: 102.9804 - mean_absolute_error: 7.8906 - accuracy: 0.0000e+00 - mean_squared_error: 102.9804 - val_loss: 102.0256 - val_mean_absolute_error: 7.8584 - val_accuracy: 0.0000e+00 - val_mean_squared_error: 102.0256\n",
            "Epoch 49/100\n",
            "101/101 [==============================] - 0s 5ms/step - loss: 101.9829 - mean_absolute_error: 7.8943 - accuracy: 0.0000e+00 - mean_squared_error: 101.9829 - val_loss: 102.3499 - val_mean_absolute_error: 7.8788 - val_accuracy: 0.0000e+00 - val_mean_squared_error: 102.3499\n",
            "Epoch 50/100\n",
            "101/101 [==============================] - 0s 5ms/step - loss: 100.5193 - mean_absolute_error: 7.8438 - accuracy: 0.0000e+00 - mean_squared_error: 100.5193 - val_loss: 102.2113 - val_mean_absolute_error: 7.8759 - val_accuracy: 0.0000e+00 - val_mean_squared_error: 102.2113\n",
            "Epoch 51/100\n",
            "101/101 [==============================] - 0s 5ms/step - loss: 102.5587 - mean_absolute_error: 7.8800 - accuracy: 0.0000e+00 - mean_squared_error: 102.5587 - val_loss: 102.1369 - val_mean_absolute_error: 7.8656 - val_accuracy: 0.0000e+00 - val_mean_squared_error: 102.1369\n",
            "Epoch 52/100\n",
            "101/101 [==============================] - 0s 5ms/step - loss: 104.4641 - mean_absolute_error: 7.9665 - accuracy: 0.0000e+00 - mean_squared_error: 104.4641 - val_loss: 102.0527 - val_mean_absolute_error: 7.8650 - val_accuracy: 0.0000e+00 - val_mean_squared_error: 102.0527\n",
            "Epoch 53/100\n",
            "101/101 [==============================] - 0s 5ms/step - loss: 102.2555 - mean_absolute_error: 7.8770 - accuracy: 0.0000e+00 - mean_squared_error: 102.2555 - val_loss: 102.0127 - val_mean_absolute_error: 7.8517 - val_accuracy: 0.0000e+00 - val_mean_squared_error: 102.0127\n",
            "Epoch 54/100\n",
            "101/101 [==============================] - 0s 5ms/step - loss: 104.2704 - mean_absolute_error: 7.9424 - accuracy: 0.0000e+00 - mean_squared_error: 104.2704 - val_loss: 102.0619 - val_mean_absolute_error: 7.8620 - val_accuracy: 0.0000e+00 - val_mean_squared_error: 102.0619\n",
            "Epoch 55/100\n",
            "101/101 [==============================] - 0s 5ms/step - loss: 101.7952 - mean_absolute_error: 7.8599 - accuracy: 0.0000e+00 - mean_squared_error: 101.7952 - val_loss: 102.1183 - val_mean_absolute_error: 7.8620 - val_accuracy: 0.0000e+00 - val_mean_squared_error: 102.1183\n",
            "Epoch 56/100\n",
            "101/101 [==============================] - 0s 5ms/step - loss: 102.1309 - mean_absolute_error: 7.8606 - accuracy: 0.0000e+00 - mean_squared_error: 102.1309 - val_loss: 101.9110 - val_mean_absolute_error: 7.8460 - val_accuracy: 0.0000e+00 - val_mean_squared_error: 101.9110\n",
            "Epoch 57/100\n",
            "101/101 [==============================] - 0s 5ms/step - loss: 102.7033 - mean_absolute_error: 7.8512 - accuracy: 0.0000e+00 - mean_squared_error: 102.7033 - val_loss: 101.8747 - val_mean_absolute_error: 7.8442 - val_accuracy: 0.0000e+00 - val_mean_squared_error: 101.8747\n",
            "Epoch 58/100\n",
            "101/101 [==============================] - 0s 5ms/step - loss: 103.1721 - mean_absolute_error: 7.9322 - accuracy: 0.0000e+00 - mean_squared_error: 103.1721 - val_loss: 101.8394 - val_mean_absolute_error: 7.8493 - val_accuracy: 0.0000e+00 - val_mean_squared_error: 101.8394\n",
            "Epoch 59/100\n",
            "101/101 [==============================] - 0s 5ms/step - loss: 102.1453 - mean_absolute_error: 7.8940 - accuracy: 0.0000e+00 - mean_squared_error: 102.1453 - val_loss: 102.0579 - val_mean_absolute_error: 7.8618 - val_accuracy: 0.0000e+00 - val_mean_squared_error: 102.0579\n",
            "Epoch 60/100\n",
            "101/101 [==============================] - 0s 5ms/step - loss: 103.3253 - mean_absolute_error: 7.9568 - accuracy: 0.0000e+00 - mean_squared_error: 103.3253 - val_loss: 102.0297 - val_mean_absolute_error: 7.8574 - val_accuracy: 0.0000e+00 - val_mean_squared_error: 102.0297\n",
            "Epoch 61/100\n",
            "101/101 [==============================] - 0s 5ms/step - loss: 101.4212 - mean_absolute_error: 7.8616 - accuracy: 0.0000e+00 - mean_squared_error: 101.4212 - val_loss: 101.9743 - val_mean_absolute_error: 7.8525 - val_accuracy: 0.0000e+00 - val_mean_squared_error: 101.9743\n",
            "Epoch 62/100\n",
            "101/101 [==============================] - 0s 5ms/step - loss: 102.0678 - mean_absolute_error: 7.8954 - accuracy: 0.0000e+00 - mean_squared_error: 102.0678 - val_loss: 101.9405 - val_mean_absolute_error: 7.8574 - val_accuracy: 0.0000e+00 - val_mean_squared_error: 101.9405\n",
            "Epoch 63/100\n",
            "101/101 [==============================] - 0s 5ms/step - loss: 103.8176 - mean_absolute_error: 7.9309 - accuracy: 0.0000e+00 - mean_squared_error: 103.8176 - val_loss: 101.8381 - val_mean_absolute_error: 7.8339 - val_accuracy: 0.0000e+00 - val_mean_squared_error: 101.8381\n",
            "Epoch 64/100\n",
            "101/101 [==============================] - 0s 5ms/step - loss: 102.0752 - mean_absolute_error: 7.8560 - accuracy: 0.0000e+00 - mean_squared_error: 102.0752 - val_loss: 102.1710 - val_mean_absolute_error: 7.8480 - val_accuracy: 0.0000e+00 - val_mean_squared_error: 102.1710\n",
            "Epoch 65/100\n",
            "101/101 [==============================] - 1s 5ms/step - loss: 103.0759 - mean_absolute_error: 7.9159 - accuracy: 0.0000e+00 - mean_squared_error: 103.0759 - val_loss: 101.8800 - val_mean_absolute_error: 7.8505 - val_accuracy: 0.0000e+00 - val_mean_squared_error: 101.8800\n",
            "Epoch 66/100\n",
            "101/101 [==============================] - 0s 5ms/step - loss: 103.6425 - mean_absolute_error: 7.9583 - accuracy: 0.0000e+00 - mean_squared_error: 103.6425 - val_loss: 102.0152 - val_mean_absolute_error: 7.8610 - val_accuracy: 0.0000e+00 - val_mean_squared_error: 102.0152\n",
            "Epoch 67/100\n",
            "101/101 [==============================] - 0s 5ms/step - loss: 100.8072 - mean_absolute_error: 7.8310 - accuracy: 0.0000e+00 - mean_squared_error: 100.8072 - val_loss: 101.9060 - val_mean_absolute_error: 7.8414 - val_accuracy: 0.0000e+00 - val_mean_squared_error: 101.9060\n",
            "Epoch 68/100\n",
            "101/101 [==============================] - 0s 5ms/step - loss: 100.9856 - mean_absolute_error: 7.8202 - accuracy: 0.0000e+00 - mean_squared_error: 100.9856 - val_loss: 101.8003 - val_mean_absolute_error: 7.8420 - val_accuracy: 0.0000e+00 - val_mean_squared_error: 101.8003\n",
            "Epoch 69/100\n",
            "101/101 [==============================] - 0s 5ms/step - loss: 100.4591 - mean_absolute_error: 7.8058 - accuracy: 0.0000e+00 - mean_squared_error: 100.4591 - val_loss: 101.7758 - val_mean_absolute_error: 7.8383 - val_accuracy: 0.0000e+00 - val_mean_squared_error: 101.7758\n",
            "Epoch 70/100\n",
            "101/101 [==============================] - 0s 5ms/step - loss: 102.2774 - mean_absolute_error: 7.8884 - accuracy: 0.0000e+00 - mean_squared_error: 102.2774 - val_loss: 102.1638 - val_mean_absolute_error: 7.8567 - val_accuracy: 0.0000e+00 - val_mean_squared_error: 102.1638\n",
            "Epoch 71/100\n",
            "101/101 [==============================] - 0s 5ms/step - loss: 100.2221 - mean_absolute_error: 7.8267 - accuracy: 0.0000e+00 - mean_squared_error: 100.2221 - val_loss: 102.1382 - val_mean_absolute_error: 7.8619 - val_accuracy: 0.0000e+00 - val_mean_squared_error: 102.1382\n",
            "Epoch 72/100\n",
            "101/101 [==============================] - 0s 5ms/step - loss: 104.1909 - mean_absolute_error: 7.9466 - accuracy: 0.0000e+00 - mean_squared_error: 104.1909 - val_loss: 101.8494 - val_mean_absolute_error: 7.8423 - val_accuracy: 0.0000e+00 - val_mean_squared_error: 101.8494\n",
            "Epoch 73/100\n",
            "101/101 [==============================] - 0s 5ms/step - loss: 103.8426 - mean_absolute_error: 7.9539 - accuracy: 0.0000e+00 - mean_squared_error: 103.8426 - val_loss: 102.1694 - val_mean_absolute_error: 7.8688 - val_accuracy: 0.0000e+00 - val_mean_squared_error: 102.1694\n",
            "Epoch 74/100\n",
            "101/101 [==============================] - 0s 5ms/step - loss: 100.3385 - mean_absolute_error: 7.8217 - accuracy: 0.0000e+00 - mean_squared_error: 100.3385 - val_loss: 101.9971 - val_mean_absolute_error: 7.8566 - val_accuracy: 0.0000e+00 - val_mean_squared_error: 101.9971\n",
            "Epoch 75/100\n",
            "101/101 [==============================] - 0s 5ms/step - loss: 101.3281 - mean_absolute_error: 7.8498 - accuracy: 0.0000e+00 - mean_squared_error: 101.3281 - val_loss: 101.9246 - val_mean_absolute_error: 7.8498 - val_accuracy: 0.0000e+00 - val_mean_squared_error: 101.9246\n",
            "Epoch 76/100\n",
            "101/101 [==============================] - 0s 5ms/step - loss: 100.7611 - mean_absolute_error: 7.8226 - accuracy: 0.0000e+00 - mean_squared_error: 100.7611 - val_loss: 102.0944 - val_mean_absolute_error: 7.8628 - val_accuracy: 0.0000e+00 - val_mean_squared_error: 102.0944\n",
            "Epoch 77/100\n",
            "101/101 [==============================] - 0s 5ms/step - loss: 101.5402 - mean_absolute_error: 7.8697 - accuracy: 0.0000e+00 - mean_squared_error: 101.5402 - val_loss: 101.8985 - val_mean_absolute_error: 7.8416 - val_accuracy: 0.0000e+00 - val_mean_squared_error: 101.8985\n",
            "Epoch 78/100\n",
            "101/101 [==============================] - 0s 5ms/step - loss: 101.4551 - mean_absolute_error: 7.8389 - accuracy: 0.0000e+00 - mean_squared_error: 101.4551 - val_loss: 101.8245 - val_mean_absolute_error: 7.8369 - val_accuracy: 0.0000e+00 - val_mean_squared_error: 101.8245\n",
            "Epoch 79/100\n",
            "101/101 [==============================] - 0s 5ms/step - loss: 105.2217 - mean_absolute_error: 7.9787 - accuracy: 0.0000e+00 - mean_squared_error: 105.2217 - val_loss: 101.8067 - val_mean_absolute_error: 7.8387 - val_accuracy: 0.0000e+00 - val_mean_squared_error: 101.8067\n",
            "Epoch 80/100\n",
            "101/101 [==============================] - 0s 5ms/step - loss: 101.8975 - mean_absolute_error: 7.8592 - accuracy: 0.0000e+00 - mean_squared_error: 101.8975 - val_loss: 101.7976 - val_mean_absolute_error: 7.8383 - val_accuracy: 0.0000e+00 - val_mean_squared_error: 101.7976\n",
            "Epoch 81/100\n",
            "101/101 [==============================] - 1s 5ms/step - loss: 100.2137 - mean_absolute_error: 7.7841 - accuracy: 0.0000e+00 - mean_squared_error: 100.2137 - val_loss: 101.6482 - val_mean_absolute_error: 7.8222 - val_accuracy: 0.0000e+00 - val_mean_squared_error: 101.6482\n",
            "Epoch 82/100\n",
            "101/101 [==============================] - 0s 5ms/step - loss: 101.4670 - mean_absolute_error: 7.8509 - accuracy: 0.0000e+00 - mean_squared_error: 101.4670 - val_loss: 101.7966 - val_mean_absolute_error: 7.8346 - val_accuracy: 0.0000e+00 - val_mean_squared_error: 101.7966\n",
            "Epoch 83/100\n",
            "101/101 [==============================] - 1s 5ms/step - loss: 102.8278 - mean_absolute_error: 7.9011 - accuracy: 0.0000e+00 - mean_squared_error: 102.8278 - val_loss: 101.7525 - val_mean_absolute_error: 7.8272 - val_accuracy: 0.0000e+00 - val_mean_squared_error: 101.7525\n",
            "Epoch 84/100\n",
            "101/101 [==============================] - 0s 5ms/step - loss: 102.3475 - mean_absolute_error: 7.8953 - accuracy: 0.0000e+00 - mean_squared_error: 102.3475 - val_loss: 102.0206 - val_mean_absolute_error: 7.8573 - val_accuracy: 0.0000e+00 - val_mean_squared_error: 102.0206\n",
            "Epoch 85/100\n",
            "101/101 [==============================] - 0s 5ms/step - loss: 103.2969 - mean_absolute_error: 7.9307 - accuracy: 0.0000e+00 - mean_squared_error: 103.2969 - val_loss: 101.6801 - val_mean_absolute_error: 7.8286 - val_accuracy: 0.0000e+00 - val_mean_squared_error: 101.6801\n",
            "Epoch 86/100\n",
            "101/101 [==============================] - 1s 5ms/step - loss: 100.4169 - mean_absolute_error: 7.7824 - accuracy: 0.0000e+00 - mean_squared_error: 100.4169 - val_loss: 101.6696 - val_mean_absolute_error: 7.8299 - val_accuracy: 0.0000e+00 - val_mean_squared_error: 101.6696\n",
            "Epoch 87/100\n",
            "101/101 [==============================] - 1s 5ms/step - loss: 102.5492 - mean_absolute_error: 7.8949 - accuracy: 0.0000e+00 - mean_squared_error: 102.5492 - val_loss: 101.6645 - val_mean_absolute_error: 7.8277 - val_accuracy: 0.0000e+00 - val_mean_squared_error: 101.6645\n",
            "Epoch 88/100\n",
            "101/101 [==============================] - 0s 5ms/step - loss: 103.1842 - mean_absolute_error: 7.8948 - accuracy: 0.0000e+00 - mean_squared_error: 103.1842 - val_loss: 101.7076 - val_mean_absolute_error: 7.8334 - val_accuracy: 0.0000e+00 - val_mean_squared_error: 101.7076\n",
            "Epoch 89/100\n",
            "101/101 [==============================] - 0s 5ms/step - loss: 100.3551 - mean_absolute_error: 7.8369 - accuracy: 0.0000e+00 - mean_squared_error: 100.3551 - val_loss: 101.8152 - val_mean_absolute_error: 7.8418 - val_accuracy: 0.0000e+00 - val_mean_squared_error: 101.8152\n",
            "Epoch 90/100\n",
            "101/101 [==============================] - 0s 5ms/step - loss: 103.2590 - mean_absolute_error: 7.9134 - accuracy: 0.0000e+00 - mean_squared_error: 103.2590 - val_loss: 102.0076 - val_mean_absolute_error: 7.8473 - val_accuracy: 0.0000e+00 - val_mean_squared_error: 102.0076\n",
            "Epoch 91/100\n",
            "101/101 [==============================] - 1s 5ms/step - loss: 100.8400 - mean_absolute_error: 7.8225 - accuracy: 0.0000e+00 - mean_squared_error: 100.8400 - val_loss: 101.6722 - val_mean_absolute_error: 7.8359 - val_accuracy: 0.0000e+00 - val_mean_squared_error: 101.6722\n",
            "Epoch 92/100\n",
            "101/101 [==============================] - 0s 5ms/step - loss: 102.1840 - mean_absolute_error: 7.8384 - accuracy: 0.0000e+00 - mean_squared_error: 102.1840 - val_loss: 101.6564 - val_mean_absolute_error: 7.8279 - val_accuracy: 0.0000e+00 - val_mean_squared_error: 101.6564\n",
            "Epoch 93/100\n",
            "101/101 [==============================] - 0s 5ms/step - loss: 101.7871 - mean_absolute_error: 7.8512 - accuracy: 0.0000e+00 - mean_squared_error: 101.7871 - val_loss: 101.9551 - val_mean_absolute_error: 7.8495 - val_accuracy: 0.0000e+00 - val_mean_squared_error: 101.9551\n",
            "Epoch 94/100\n",
            "101/101 [==============================] - 0s 5ms/step - loss: 101.7973 - mean_absolute_error: 7.8297 - accuracy: 0.0000e+00 - mean_squared_error: 101.7973 - val_loss: 101.8720 - val_mean_absolute_error: 7.8488 - val_accuracy: 0.0000e+00 - val_mean_squared_error: 101.8720\n",
            "Epoch 95/100\n",
            "101/101 [==============================] - 0s 5ms/step - loss: 101.1326 - mean_absolute_error: 7.8479 - accuracy: 0.0000e+00 - mean_squared_error: 101.1326 - val_loss: 101.8280 - val_mean_absolute_error: 7.8346 - val_accuracy: 0.0000e+00 - val_mean_squared_error: 101.8280\n",
            "Epoch 96/100\n",
            "101/101 [==============================] - 0s 5ms/step - loss: 102.9379 - mean_absolute_error: 7.8955 - accuracy: 0.0000e+00 - mean_squared_error: 102.9379 - val_loss: 101.6140 - val_mean_absolute_error: 7.8232 - val_accuracy: 0.0000e+00 - val_mean_squared_error: 101.6140\n",
            "Epoch 97/100\n",
            "101/101 [==============================] - 0s 5ms/step - loss: 100.8592 - mean_absolute_error: 7.8348 - accuracy: 0.0000e+00 - mean_squared_error: 100.8592 - val_loss: 101.9958 - val_mean_absolute_error: 7.8575 - val_accuracy: 0.0000e+00 - val_mean_squared_error: 101.9958\n",
            "Epoch 98/100\n",
            "101/101 [==============================] - 1s 5ms/step - loss: 101.0835 - mean_absolute_error: 7.8661 - accuracy: 0.0000e+00 - mean_squared_error: 101.0835 - val_loss: 101.9206 - val_mean_absolute_error: 7.8515 - val_accuracy: 0.0000e+00 - val_mean_squared_error: 101.9206\n",
            "Epoch 99/100\n",
            "101/101 [==============================] - 0s 5ms/step - loss: 101.4599 - mean_absolute_error: 7.8587 - accuracy: 0.0000e+00 - mean_squared_error: 101.4599 - val_loss: 101.7549 - val_mean_absolute_error: 7.8386 - val_accuracy: 0.0000e+00 - val_mean_squared_error: 101.7549\n",
            "Epoch 100/100\n",
            "101/101 [==============================] - 1s 5ms/step - loss: 102.0241 - mean_absolute_error: 7.8753 - accuracy: 0.0000e+00 - mean_squared_error: 102.0241 - val_loss: 101.6022 - val_mean_absolute_error: 7.8269 - val_accuracy: 0.0000e+00 - val_mean_squared_error: 101.6022\n"
          ],
          "name": "stdout"
        }
      ]
    },
    {
      "cell_type": "code",
      "metadata": {
        "colab": {
          "base_uri": "https://localhost:8080/",
          "height": 279
        },
        "id": "2yVePy-WZ6MI",
        "outputId": "d342edba-b49c-4eea-f6a3-3e4eeb330d6a"
      },
      "source": [
        "# Check the results\n",
        "# Create a DataFrame from the output from the fit method\n",
        "hist = pd.DataFrame(history.history)\n",
        "# Create an epoch column and set it to the epoch index\n",
        "hist['epoch'] = history.epoch\n",
        "\n",
        "def plot_history(history):\n",
        "  plt.figure()\n",
        "  plt.xlabel('Epoch')\n",
        "  plt.ylabel('Mean Absolute Error')\n",
        "  plt.plot(history['epoch'], history['mean_absolute_error'],\n",
        "           label='Train Mean Absolute Error')\n",
        "  plt.plot(history['epoch'], history['val_mean_absolute_error'],\n",
        "           label = 'Val Mean Absolute Error')\n",
        "  plt.legend()\n",
        "  #plt.ylim([0,1])\n",
        "  plt.show()\n",
        "\n",
        "plot_history(hist)"
      ],
      "execution_count": 85,
      "outputs": [
        {
          "output_type": "display_data",
          "data": {
            "image/png": "[encoded data removed]",
            "text/plain": [
              "<Figure size 432x288 with 1 Axes>"
            ]
          },
          "metadata": {
            "tags": [],
            "needs_background": "light"
          }
        }
      ]
    },
    {
      "cell_type": "code",
      "metadata": {
        "colab": {
          "base_uri": "https://localhost:8080/"
        },
        "id": "3cxl0D9TeSTm",
        "outputId": "7f700f36-0744-429c-a9ba-36aa086fa657"
      },
      "source": [
        "history = NN_Model.fit(x=train_data, y=training_labels, batch_size=128, epochs=10, verbose=1, validation_split=0.2)"
      ],
      "execution_count": 86,
      "outputs": [
        {
          "output_type": "stream",
          "text": [
            "Epoch 1/10\n",
            "101/101 [==============================] - 1s 5ms/step - loss: 101.9068 - mean_absolute_error: 7.8575 - accuracy: 0.0000e+00 - mean_squared_error: 101.9068 - val_loss: 101.8633 - val_mean_absolute_error: 7.8305 - val_accuracy: 0.0000e+00 - val_mean_squared_error: 101.8633\n",
            "Epoch 2/10\n",
            "101/101 [==============================] - 0s 4ms/step - loss: 101.9944 - mean_absolute_error: 7.8664 - accuracy: 0.0000e+00 - mean_squared_error: 101.9944 - val_loss: 101.5695 - val_mean_absolute_error: 7.8188 - val_accuracy: 0.0000e+00 - val_mean_squared_error: 101.5695\n",
            "Epoch 3/10\n",
            "101/101 [==============================] - 0s 4ms/step - loss: 102.0248 - mean_absolute_error: 7.8648 - accuracy: 0.0000e+00 - mean_squared_error: 102.0248 - val_loss: 101.6825 - val_mean_absolute_error: 7.8254 - val_accuracy: 0.0000e+00 - val_mean_squared_error: 101.6825\n",
            "Epoch 4/10\n",
            "101/101 [==============================] - 0s 5ms/step - loss: 101.9398 - mean_absolute_error: 7.8612 - accuracy: 0.0000e+00 - mean_squared_error: 101.9398 - val_loss: 101.6658 - val_mean_absolute_error: 7.8337 - val_accuracy: 0.0000e+00 - val_mean_squared_error: 101.6658\n",
            "Epoch 5/10\n",
            "101/101 [==============================] - 0s 5ms/step - loss: 101.9266 - mean_absolute_error: 7.8584 - accuracy: 0.0000e+00 - mean_squared_error: 101.9266 - val_loss: 101.6193 - val_mean_absolute_error: 7.8309 - val_accuracy: 0.0000e+00 - val_mean_squared_error: 101.6193\n",
            "Epoch 6/10\n",
            "101/101 [==============================] - 0s 5ms/step - loss: 101.9600 - mean_absolute_error: 7.8647 - accuracy: 0.0000e+00 - mean_squared_error: 101.9600 - val_loss: 102.0277 - val_mean_absolute_error: 7.8446 - val_accuracy: 0.0000e+00 - val_mean_squared_error: 102.0277\n",
            "Epoch 7/10\n",
            "101/101 [==============================] - 0s 5ms/step - loss: 101.9701 - mean_absolute_error: 7.8603 - accuracy: 0.0000e+00 - mean_squared_error: 101.9701 - val_loss: 101.6342 - val_mean_absolute_error: 7.8264 - val_accuracy: 0.0000e+00 - val_mean_squared_error: 101.6342\n",
            "Epoch 8/10\n",
            "101/101 [==============================] - 1s 5ms/step - loss: 101.9054 - mean_absolute_error: 7.8564 - accuracy: 0.0000e+00 - mean_squared_error: 101.9054 - val_loss: 101.9802 - val_mean_absolute_error: 7.8447 - val_accuracy: 0.0000e+00 - val_mean_squared_error: 101.9802\n",
            "Epoch 9/10\n",
            "101/101 [==============================] - 0s 5ms/step - loss: 101.9830 - mean_absolute_error: 7.8668 - accuracy: 0.0000e+00 - mean_squared_error: 101.9830 - val_loss: 101.7753 - val_mean_absolute_error: 7.8290 - val_accuracy: 0.0000e+00 - val_mean_squared_error: 101.7753\n",
            "Epoch 10/10\n",
            "101/101 [==============================] - 0s 5ms/step - loss: 101.8693 - mean_absolute_error: 7.8600 - accuracy: 0.0000e+00 - mean_squared_error: 101.8693 - val_loss: 101.7415 - val_mean_absolute_error: 7.8344 - val_accuracy: 0.0000e+00 - val_mean_squared_error: 101.7415\n"
          ],
          "name": "stdout"
        }
      ]
    },
    {
      "cell_type": "code",
      "metadata": {
        "colab": {
          "base_uri": "https://localhost:8080/",
          "height": 279
        },
        "id": "fCQg2HZHeZbF",
        "outputId": "9cb6c82a-3a70-4d2b-cdd1-fb1df5941ae1"
      },
      "source": [
        "# Check the results\n",
        "# Create a DataFrame from the output from the fit method\n",
        "hist = pd.DataFrame(history.history)\n",
        "# Create an epoch column and set it to the epoch index\n",
        "hist['epoch'] = history.epoch\n",
        "\n",
        "def plot_history(history):\n",
        "  plt.figure()\n",
        "  plt.xlabel('Epoch')\n",
        "  plt.ylabel('Mean Absolute Error')\n",
        "  plt.plot(history['epoch'], history['mean_absolute_error'],\n",
        "           label='Train Mean Absolute Error')\n",
        "  plt.plot(history['epoch'], history['val_mean_absolute_error'],\n",
        "           label = 'Val Mean Absolute Error')\n",
        "  plt.legend()\n",
        "  #plt.ylim([0,1])\n",
        "  plt.show()\n",
        "\n",
        "plot_history(hist)"
      ],
      "execution_count": 87,
      "outputs": [
        {
          "output_type": "display_data",
          "data": {
            "image/png": "[encoded data removed]",
            "text/plain": [
              "<Figure size 432x288 with 1 Axes>"
            ]
          },
          "metadata": {
            "tags": [],
            "needs_background": "light"
          }
        }
      ]
    }
  ]
}