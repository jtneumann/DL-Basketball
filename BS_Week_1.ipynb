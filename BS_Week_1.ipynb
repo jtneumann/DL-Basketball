{
  "nbformat": 4,
  "nbformat_minor": 0,
  "metadata": {
    "colab": {
      "name": "BS-Week-1.ipynb",
      "provenance": [],
      "include_colab_link": true
    },
    "kernelspec": {
      "name": "python3",
      "display_name": "Python 3"
    }
  },
  "cells": [
    {
      "cell_type": "markdown",
      "metadata": {
        "id": "view-in-github",
        "colab_type": "text"
      },
      "source": [
        "<a href=\"https://colab.research.google.com/github/jtneumann/DL-Basketball/blob/master/BS_Week_1.ipynb\" target=\"_parent\"><img src=\"https://colab.research.google.com/assets/colab-badge.svg\" alt=\"Open In Colab\"/></a>"
      ]
    },
    {
      "cell_type": "markdown",
      "metadata": {
        "id": "qiIbKUWwPqCD",
        "colab_type": "text"
      },
      "source": [
        "# Setting up the Google Colab Notebook"
      ]
    },
    {
      "cell_type": "code",
      "metadata": {
        "id": "R2dTX4YkP9nJ",
        "colab_type": "code",
        "colab": {
          "base_uri": "https://localhost:8080/",
          "height": 51
        },
        "outputId": "47b1a670-3347-48a7-e632-5a1fc65ec782"
      },
      "source": [
        "import sys\n",
        "print(sys.version)"
      ],
      "execution_count": 1,
      "outputs": [
        {
          "output_type": "stream",
          "text": [
            "3.6.9 (default, Apr 18 2020, 01:56:04) \n",
            "[GCC 8.4.0]\n"
          ],
          "name": "stdout"
        }
      ]
    },
    {
      "cell_type": "code",
      "metadata": {
        "id": "L74a79BuR5F_",
        "colab_type": "code",
        "colab": {
          "base_uri": "https://localhost:8080/",
          "height": 34
        },
        "outputId": "89e7b121-3870-4077-be17-ed702f0be0a6"
      },
      "source": [
        "import numpy as np\n",
        "print(np.__version__)"
      ],
      "execution_count": 2,
      "outputs": [
        {
          "output_type": "stream",
          "text": [
            "1.18.5\n"
          ],
          "name": "stdout"
        }
      ]
    },
    {
      "cell_type": "code",
      "metadata": {
        "id": "hp1EdY80QAGN",
        "colab_type": "code",
        "colab": {
          "base_uri": "https://localhost:8080/",
          "height": 34
        },
        "outputId": "1f2de699-2733-4a65-abd4-00f5830d8ee4"
      },
      "source": [
        "import pandas as pd\n",
        "print(pd.__version__)"
      ],
      "execution_count": 3,
      "outputs": [
        {
          "output_type": "stream",
          "text": [
            "1.0.5\n"
          ],
          "name": "stdout"
        }
      ]
    },
    {
      "cell_type": "code",
      "metadata": {
        "id": "Um9tyH6KQDNi",
        "colab_type": "code",
        "colab": {
          "base_uri": "https://localhost:8080/",
          "height": 34
        },
        "outputId": "a6a5b646-4aa5-4b08-82e0-bba319839ae4"
      },
      "source": [
        "import tensorflow as tf\n",
        "print(tf.__version__)"
      ],
      "execution_count": 4,
      "outputs": [
        {
          "output_type": "stream",
          "text": [
            "2.2.0\n"
          ],
          "name": "stdout"
        }
      ]
    },
    {
      "cell_type": "code",
      "metadata": {
        "id": "-Rt1I-frkaCK",
        "colab_type": "code",
        "colab": {}
      },
      "source": [
        "import pandas as pd\n",
        "import random\n",
        "\n",
        "df = pd.DataFrame(\n",
        "    {'Date': pd.period_range('1/1/2018', freq='M', periods=36),\n",
        "     'Home': [random.randint(1,100) for x in range(36) ],\n",
        "     'Away': [random.randint(1,100) for x in range(36) ],\n",
        "     'Result': [-1 for x in range(36)]\n",
        "     })\n"
      ],
      "execution_count": 5,
      "outputs": []
    },
    {
      "cell_type": "code",
      "metadata": {
        "id": "cTmW56FytZVy",
        "colab_type": "code",
        "colab": {
          "base_uri": "https://localhost:8080/",
          "height": 204
        },
        "outputId": "9d9e050a-e735-42ea-9264-ac6a7b76be16"
      },
      "source": [
        "df['Result'] = df['Home'] - df['Away']\n",
        "df.head()"
      ],
      "execution_count": 6,
      "outputs": [
        {
          "output_type": "execute_result",
          "data": {
            "text/html": [
              "<div>\n",
              "<style scoped>\n",
              "    .dataframe tbody tr th:only-of-type {\n",
              "        vertical-align: middle;\n",
              "    }\n",
              "\n",
              "    .dataframe tbody tr th {\n",
              "        vertical-align: top;\n",
              "    }\n",
              "\n",
              "    .dataframe thead th {\n",
              "        text-align: right;\n",
              "    }\n",
              "</style>\n",
              "<table border=\"1\" class=\"dataframe\">\n",
              "  <thead>\n",
              "    <tr style=\"text-align: right;\">\n",
              "      <th></th>\n",
              "      <th>Date</th>\n",
              "      <th>Home</th>\n",
              "      <th>Away</th>\n",
              "      <th>Result</th>\n",
              "    </tr>\n",
              "  </thead>\n",
              "  <tbody>\n",
              "    <tr>\n",
              "      <th>0</th>\n",
              "      <td>2018-01</td>\n",
              "      <td>65</td>\n",
              "      <td>57</td>\n",
              "      <td>8</td>\n",
              "    </tr>\n",
              "    <tr>\n",
              "      <th>1</th>\n",
              "      <td>2018-02</td>\n",
              "      <td>54</td>\n",
              "      <td>3</td>\n",
              "      <td>51</td>\n",
              "    </tr>\n",
              "    <tr>\n",
              "      <th>2</th>\n",
              "      <td>2018-03</td>\n",
              "      <td>78</td>\n",
              "      <td>81</td>\n",
              "      <td>-3</td>\n",
              "    </tr>\n",
              "    <tr>\n",
              "      <th>3</th>\n",
              "      <td>2018-04</td>\n",
              "      <td>67</td>\n",
              "      <td>53</td>\n",
              "      <td>14</td>\n",
              "    </tr>\n",
              "    <tr>\n",
              "      <th>4</th>\n",
              "      <td>2018-05</td>\n",
              "      <td>96</td>\n",
              "      <td>49</td>\n",
              "      <td>47</td>\n",
              "    </tr>\n",
              "  </tbody>\n",
              "</table>\n",
              "</div>"
            ],
            "text/plain": [
              "      Date  Home  Away  Result\n",
              "0  2018-01    65    57       8\n",
              "1  2018-02    54     3      51\n",
              "2  2018-03    78    81      -3\n",
              "3  2018-04    67    53      14\n",
              "4  2018-05    96    49      47"
            ]
          },
          "metadata": {
            "tags": []
          },
          "execution_count": 6
        }
      ]
    },
    {
      "cell_type": "code",
      "metadata": {
        "id": "N14sIKFgm0J_",
        "colab_type": "code",
        "colab": {}
      },
      "source": [
        "df2018 = df[ df['Date'] < '2109-1-1' ].copy()\n",
        "df2019 = df[ (df['Date'] > '2018-12-31') & (df['Date'] < '2020-1-1')].copy()\n",
        "df2020 = df[ (df['Date'] > '2019-12-31') & (df['Date'] < '2021-1-1')].copy()\n"
      ],
      "execution_count": 7,
      "outputs": []
    },
    {
      "cell_type": "code",
      "metadata": {
        "id": "1Dfjv6mIT4E7",
        "colab_type": "code",
        "colab": {}
      },
      "source": [
        "model = tf.keras.Sequential(\n",
        "    tf.keras.layers.Dense(units=1, input_shape=[1])\n",
        ")\n",
        "model.compile(loss='mean_squared_error', \n",
        "              optimizer=tf.keras.optimizers.Adam(0.1))"
      ],
      "execution_count": 8,
      "outputs": []
    },
    {
      "cell_type": "code",
      "metadata": {
        "id": "93BS8MZKQThv",
        "colab_type": "code",
        "colab": {
          "base_uri": "https://localhost:8080/",
          "height": 85
        },
        "outputId": "a1b7807e-4cef-48ba-9826-6ba4894120e2"
      },
      "source": [
        "celsius = np.array([], float)\n",
        "fahrenheit = np.array([], float)\n",
        "for i in range(0, 100, 5):\n",
        "    celsius = np.append(celsius, i)\n",
        "    fahrenheit = np.append(fahrenheit, i * 1.8 + 32 )\n",
        "\n",
        "print(celsius)\n",
        "print(fahrenheit)\n"
      ],
      "execution_count": 9,
      "outputs": [
        {
          "output_type": "stream",
          "text": [
            "[ 0.  5. 10. 15. 20. 25. 30. 35. 40. 45. 50. 55. 60. 65. 70. 75. 80. 85.\n",
            " 90. 95.]\n",
            "[ 32.  41.  50.  59.  68.  77.  86.  95. 104. 113. 122. 131. 140. 149.\n",
            " 158. 167. 176. 185. 194. 203.]\n"
          ],
          "name": "stdout"
        }
      ]
    },
    {
      "cell_type": "code",
      "metadata": {
        "id": "MK2poDuUXhW-",
        "colab_type": "code",
        "colab": {}
      },
      "source": [
        "history = model.fit(celsius, fahrenheit, epochs=500, verbose=False)\n"
      ],
      "execution_count": 10,
      "outputs": []
    },
    {
      "cell_type": "code",
      "metadata": {
        "id": "6pmitMTXYawu",
        "colab_type": "code",
        "colab": {
          "base_uri": "https://localhost:8080/",
          "height": 298
        },
        "outputId": "a386eb89-4291-41c2-acfe-6304814ce70b"
      },
      "source": [
        "import matplotlib.pyplot as plt\n",
        "plt.xlabel('Epoch')\n",
        "plt.ylabel('Loss')\n",
        "plt.plot(history.history['loss'])"
      ],
      "execution_count": 11,
      "outputs": [
        {
          "output_type": "execute_result",
          "data": {
            "text/plain": [
              "[<matplotlib.lines.Line2D at 0x7f74a3199160>]"
            ]
          },
          "metadata": {
            "tags": []
          },
          "execution_count": 11
        },
        {
          "output_type": "display_data",
          "data": {
            "image/png": "[encoded data removed]",
            "text/plain": [
              "<Figure size 432x288 with 1 Axes>"
            ]
          },
          "metadata": {
            "tags": [],
            "needs_background": "light"
          }
        }
      ]
    },
    {
      "cell_type": "code",
      "metadata": {
        "id": "-r2VYDz3Y302",
        "colab_type": "code",
        "colab": {
          "base_uri": "https://localhost:8080/",
          "height": 85
        },
        "outputId": "6fbce718-127d-4484-f78c-235f45be043a"
      },
      "source": [
        "print('5 * 1.8 + 32 = 41')\n",
        "print(model.predict([5]))\n",
        "print('99 * 1.8 + 32 = 210.2')\n",
        "print(model.predict([99]))"
      ],
      "execution_count": 12,
      "outputs": [
        {
          "output_type": "stream",
          "text": [
            "5 * 1.8 + 32 = 41\n",
            "[[22.37925]]\n",
            "99 * 1.8 + 32 = 210.2\n",
            "[[220.91035]]\n"
          ],
          "name": "stdout"
        }
      ]
    },
    {
      "cell_type": "code",
      "metadata": {
        "id": "v6PIpuCpapm6",
        "colab_type": "code",
        "colab": {
          "base_uri": "https://localhost:8080/",
          "height": 51
        },
        "outputId": "0aca3065-be03-45b5-c49f-09be7f79a9ef"
      },
      "source": [
        "print(\"This is the weight that should be close to the *1.8 in the formula: {}\".format( model.layers[0].get_weights()[0][0] ))\n",
        "print(\"This is the bias that should be close to the +32 in the formula: {}\".format( model.layers[0].get_weights()[1] ))\n"
      ],
      "execution_count": 13,
      "outputs": [
        {
          "output_type": "stream",
          "text": [
            "This is the weight that should be close to the *1.8 in the formula: [2.112033]\n",
            "This is the bias that should be close to the +32 in the formula: [11.819086]\n"
          ],
          "name": "stdout"
        }
      ]
    }
  ]
}