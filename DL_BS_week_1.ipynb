{
  "nbformat": 4,
  "nbformat_minor": 0,
  "metadata": {
    "colab": {
      "name": "DL_BS_week-1.ipynb",
      "provenance": [],
      "collapsed_sections": [],
      "authorship_tag": "ABX9TyNZateUCSAuQ+eAQAregLkC",
      "include_colab_link": true
    },
    "kernelspec": {
      "name": "python3",
      "display_name": "Python 3"
    },
    "accelerator": "GPU"
  },
  "cells": [
    {
      "cell_type": "markdown",
      "metadata": {
        "id": "view-in-github",
        "colab_type": "text"
      },
      "source": [
        "<a href=\"https://colab.research.google.com/github/jtneumann/DL-Basketball/blob/master/DL_BS_week_1.ipynb\" target=\"_parent\"><img src=\"https://colab.research.google.com/assets/colab-badge.svg\" alt=\"Open In Colab\"/></a>"
      ]
    },
    {
      "cell_type": "code",
      "metadata": {
        "id": "IfvBk77aMqq_",
        "colab_type": "code",
        "colab": {}
      },
      "source": [
        "import tensorflow as tf\n",
        "import numpy as np"
      ],
      "execution_count": 80,
      "outputs": []
    },
    {
      "cell_type": "code",
      "metadata": {
        "id": "RIgY9NzoMs6f",
        "colab_type": "code",
        "colab": {
          "base_uri": "https://localhost:8080/",
          "height": 35
        },
        "outputId": "9327d2e3-8826-4c0d-d26a-b75943d61caf"
      },
      "source": [
        "tf.__version__"
      ],
      "execution_count": 81,
      "outputs": [
        {
          "output_type": "execute_result",
          "data": {
            "application/vnd.google.colaboratory.intrinsic": {
              "type": "string"
            },
            "text/plain": [
              "'2.2.0'"
            ]
          },
          "metadata": {
            "tags": []
          },
          "execution_count": 81
        }
      ]
    },
    {
      "cell_type": "code",
      "metadata": {
        "id": "1bS6B0UCNEpz",
        "colab_type": "code",
        "colab": {}
      },
      "source": [
        "import keras"
      ],
      "execution_count": 82,
      "outputs": []
    },
    {
      "cell_type": "code",
      "metadata": {
        "id": "ro9bPtVsNjNm",
        "colab_type": "code",
        "colab": {
          "base_uri": "https://localhost:8080/",
          "height": 35
        },
        "outputId": "5a5fe342-8720-4919-caa6-383b2c21bc01"
      },
      "source": [
        "keras.__version__"
      ],
      "execution_count": 83,
      "outputs": [
        {
          "output_type": "execute_result",
          "data": {
            "application/vnd.google.colaboratory.intrinsic": {
              "type": "string"
            },
            "text/plain": [
              "'2.3.1'"
            ]
          },
          "metadata": {
            "tags": []
          },
          "execution_count": 83
        }
      ]
    },
    {
      "cell_type": "code",
      "metadata": {
        "id": "bXP3LecLNmYP",
        "colab_type": "code",
        "colab": {}
      },
      "source": [
        "import matplotlib.pyplot as plt\n",
        "%matplotlib inline"
      ],
      "execution_count": 84,
      "outputs": []
    },
    {
      "cell_type": "code",
      "metadata": {
        "id": "rYUi9W6UNpsY",
        "colab_type": "code",
        "colab": {}
      },
      "source": [
        "def Celsius2Farenheit(CA):\n",
        "    FA = CA * 9/5 + 32\n",
        "    return FA"
      ],
      "execution_count": 85,
      "outputs": []
    },
    {
      "cell_type": "code",
      "metadata": {
        "id": "XCfYNLOBQJva",
        "colab_type": "code",
        "colab": {}
      },
      "source": [
        "celsius = np.random.permutation(200)"
      ],
      "execution_count": 103,
      "outputs": []
    },
    {
      "cell_type": "code",
      "metadata": {
        "id": "uBYzej0VQw48",
        "colab_type": "code",
        "colab": {
          "base_uri": "https://localhost:8080/",
          "height": 289
        },
        "outputId": "a6ed2348-8adb-4c89-9618-18a345a47448"
      },
      "source": [
        "celsius"
      ],
      "execution_count": 104,
      "outputs": [
        {
          "output_type": "execute_result",
          "data": {
            "text/plain": [
              "array([108, 100, 152,  17, 161,  71,  38,   2, 182,  97,  85, 119,  70,\n",
              "        41, 155,  59,  76,  40, 166,  11,   1, 109,  57,  64, 168, 165,\n",
              "       175, 164, 179, 136,  98, 159, 162, 195,  67, 116, 183,  93,  87,\n",
              "        88, 142, 124,   9, 188, 170,  77, 118, 139, 145, 198,  32,   3,\n",
              "       112,  29,  78,  52, 193, 140,  12, 125, 103, 197, 134,  42,  89,\n",
              "       107,  45, 174, 101, 115, 199,  47, 123, 149,  23, 172, 144,  94,\n",
              "        79,  65,  63, 138,  53, 148,   0, 117,  51, 173,  46,  44,  74,\n",
              "       146,  84,  43, 156, 104,  15,  36,  22,  16, 113, 132,  58, 185,\n",
              "        13, 158,  34,  25,  82, 187, 184,  10, 192,  18, 160,  91, 110,\n",
              "       180,  27,  56,  54, 133, 153,  21,  61,  28, 171, 131, 126, 111,\n",
              "        96,   7,  90, 127, 189,  55,  14, 128, 141, 151,  73, 186,  66,\n",
              "       114,  31,  86, 163,   5,  37, 190,  48, 120, 135, 106, 169, 122,\n",
              "       157,  62,  69,  35, 196,  33, 129,  72, 176,  20,  83,  39, 181,\n",
              "         4,  26, 150, 143,  80,  75,  81, 154,   8,  92, 191, 194, 102,\n",
              "        95, 121, 177, 147,  49,  50,  68,  60,   6, 130,  99, 178, 137,\n",
              "        19,  24, 167,  30, 105])"
            ]
          },
          "metadata": {
            "tags": []
          },
          "execution_count": 104
        }
      ]
    },
    {
      "cell_type": "code",
      "metadata": {
        "id": "5BaY04JVQy21",
        "colab_type": "code",
        "colab": {}
      },
      "source": [
        "fahrenheit = Celsius2Farenheit(celsius)"
      ],
      "execution_count": 105,
      "outputs": []
    },
    {
      "cell_type": "code",
      "metadata": {
        "id": "LnGTPyS5bwuV",
        "colab_type": "code",
        "colab": {}
      },
      "source": [
        "from sklearn.model_selection import train_test_split\n",
        "X_train, X_test, y_train, y_test = train_test_split(celsius, fahrenheit, test_size=0.2, random_state=42)"
      ],
      "execution_count": 106,
      "outputs": []
    },
    {
      "cell_type": "code",
      "metadata": {
        "id": "FUkKnTmIccc7",
        "colab_type": "code",
        "colab": {
          "base_uri": "https://localhost:8080/",
          "height": 238
        },
        "outputId": "d4792bb6-d533-472b-ef23-07a00123ffe5"
      },
      "source": [
        "X_train"
      ],
      "execution_count": 107,
      "outputs": [
        {
          "output_type": "execute_result",
          "data": {
            "text/plain": [
              "array([ 65, 167,  87, 168, 153,  19, 136,  11, 114,  51, 160,  80,  71,\n",
              "       171, 180, 149,  73,  22, 143,  15,   4,  36, 159,  70, 116,  56,\n",
              "         9,  60,  74,  14,   3, 131, 129, 124,  27,  18, 175, 151, 113,\n",
              "        10, 152,  94, 118,  50, 130, 117,  33, 183,   6, 197,  57, 186,\n",
              "       132, 195, 119, 137,  35,  38, 164,  54, 161, 162,  66,  86, 187,\n",
              "        31,  85, 134, 192, 163,  83, 108,  30, 106, 199,  21,  89, 170,\n",
              "        72, 179, 142,  82, 122, 157, 165,  64, 177,   5, 138,  88, 181,\n",
              "       139, 156, 169, 188, 141,  17, 158,  29, 127, 194,  92, 147, 198,\n",
              "        63,  67,   2, 184, 146, 148, 154, 102,  44, 182,  41, 125, 150,\n",
              "         7,  40, 123,  81, 189,  39, 121,  42,  78,  25,  32,  24,  12,\n",
              "       145,  46, 109, 140, 196,  99, 111,  93,  62, 178, 100, 112, 190,\n",
              "        96, 120, 185,  16, 110, 173,  23, 133, 105,   1,  68,  47,  34,\n",
              "       155,  84, 191,  58])"
            ]
          },
          "metadata": {
            "tags": []
          },
          "execution_count": 107
        }
      ]
    },
    {
      "cell_type": "code",
      "metadata": {
        "id": "WJLZTzmTS6WR",
        "colab_type": "code",
        "colab": {}
      },
      "source": [
        "layer0 = tf.keras.layers.Dense(units=1, activation=None, input_shape=[1])"
      ],
      "execution_count": 113,
      "outputs": []
    },
    {
      "cell_type": "code",
      "metadata": {
        "id": "APbpKonuTBVu",
        "colab_type": "code",
        "colab": {}
      },
      "source": [
        "model = tf.keras.Sequential([layer0])"
      ],
      "execution_count": 114,
      "outputs": []
    },
    {
      "cell_type": "code",
      "metadata": {
        "id": "p7Ix4A0tebak",
        "colab_type": "code",
        "colab": {}
      },
      "source": [
        "opt = tf.keras.optimizers.SGD(\n",
        "    learning_rate=0.01, momentum=0.0, nesterov=False, name=\"SGD\"\n",
        ")"
      ],
      "execution_count": 115,
      "outputs": []
    },
    {
      "cell_type": "code",
      "metadata": {
        "id": "2EF0zpZGWk3k",
        "colab_type": "code",
        "colab": {}
      },
      "source": [
        "model.compile(loss='mse', optimizer=opt, metrics=['mean_absolute_error'])"
      ],
      "execution_count": 116,
      "outputs": []
    },
    {
      "cell_type": "code",
      "metadata": {
        "id": "RT3J6g1pYK16",
        "colab_type": "code",
        "colab": {
          "base_uri": "https://localhost:8080/",
          "height": 102
        },
        "outputId": "0a16fc84-4b85-46d5-89a7-f6f7bf916158"
      },
      "source": [
        "history = model.fit(X_train, y_train, epochs=2, verbose=True)\n",
        "print(\"Training Complete\")"
      ],
      "execution_count": 118,
      "outputs": [
        {
          "output_type": "stream",
          "text": [
            "Epoch 1/2\n",
            "5/5 [==============================] - 0s 2ms/step - loss: nan - mean_absolute_error: nan\n",
            "Epoch 2/2\n",
            "5/5 [==============================] - 0s 2ms/step - loss: nan - mean_absolute_error: nan\n",
            "Training Complete\n"
          ],
          "name": "stdout"
        }
      ]
    },
    {
      "cell_type": "code",
      "metadata": {
        "id": "TB_yc-AJYeI5",
        "colab_type": "code",
        "colab": {
          "base_uri": "https://localhost:8080/",
          "height": 296
        },
        "outputId": "66bc59bc-c93d-4f06-f873-eafc872a6267"
      },
      "source": [
        "plt.xlabel(\"Epoch\")\n",
        "plt.ylabel(\"Loss Amount\")\n",
        "plt.plot(history.history['loss'])"
      ],
      "execution_count": 102,
      "outputs": [
        {
          "output_type": "execute_result",
          "data": {
            "text/plain": [
              "[<matplotlib.lines.Line2D at 0x7fa0639c39e8>]"
            ]
          },
          "metadata": {
            "tags": []
          },
          "execution_count": 102
        },
        {
          "output_type": "display_data",
          "data": {
            "image/png": "[encoded data removed]",
            "text/plain": [
              "<Figure size 432x288 with 1 Axes>"
            ]
          },
          "metadata": {
            "tags": [],
            "needs_background": "light"
          }
        }
      ]
    },
    {
      "cell_type": "code",
      "metadata": {
        "id": "Nh7MazjYYunW",
        "colab_type": "code",
        "colab": {
          "base_uri": "https://localhost:8080/",
          "height": 34
        },
        "outputId": "108601de-622b-433a-9c7c-65dea5dc9d78"
      },
      "source": [
        "history1 = model.fit(celsius, fahrenheit, epochs=60, verbose=False)\n",
        "print(\"Training Complete\")"
      ],
      "execution_count": 124,
      "outputs": [
        {
          "output_type": "stream",
          "text": [
            "Training Complete\n"
          ],
          "name": "stdout"
        }
      ]
    },
    {
      "cell_type": "code",
      "metadata": {
        "id": "7irA6ViCYzz1",
        "colab_type": "code",
        "colab": {
          "base_uri": "https://localhost:8080/",
          "height": 279
        },
        "outputId": "6f5aa891-10b4-404d-abaf-bec9885552c3"
      },
      "source": [
        "plt.figure()\n",
        "plt.xlabel('epoch')\n",
        "plt.ylabel('loss')\n",
        "plt.plot(history1.history['loss'])\n",
        "plt.show()"
      ],
      "execution_count": 125,
      "outputs": [
        {
          "output_type": "display_data",
          "data": {
            "image/png": "[encoded data removed]",
            "text/plain": [
              "<Figure size 432x288 with 1 Axes>"
            ]
          },
          "metadata": {
            "tags": [],
            "needs_background": "light"
          }
        }
      ]
    },
    {
      "cell_type": "code",
      "metadata": {
        "id": "Y89qfEI9ZJIe",
        "colab_type": "code",
        "colab": {
          "base_uri": "https://localhost:8080/",
          "height": 34
        },
        "outputId": "d517f62d-dc70-4123-b6cc-530f4fab9591"
      },
      "source": [
        "print(model.predict([30.0]))"
      ],
      "execution_count": 126,
      "outputs": [
        {
          "output_type": "stream",
          "text": [
            "[[nan]]\n"
          ],
          "name": "stdout"
        }
      ]
    },
    {
      "cell_type": "code",
      "metadata": {
        "id": "EUUfioe_ZOUe",
        "colab_type": "code",
        "colab": {
          "base_uri": "https://localhost:8080/",
          "height": 34
        },
        "outputId": "fc148967-070b-4648-bf08-5b365bd94f50"
      },
      "source": [
        "print(\"These are the layer variables: {}\".format(layer0.get_weights()))"
      ],
      "execution_count": 127,
      "outputs": [
        {
          "output_type": "stream",
          "text": [
            "These are the layer variables: [array([[nan]], dtype=float32), array([nan], dtype=float32)]\n"
          ],
          "name": "stdout"
        }
      ]
    },
    {
      "cell_type": "code",
      "metadata": {
        "id": "LJgpNkk_ZVdp",
        "colab_type": "code",
        "colab": {}
      },
      "source": [
        ""
      ],
      "execution_count": null,
      "outputs": []
    }
  ]
}