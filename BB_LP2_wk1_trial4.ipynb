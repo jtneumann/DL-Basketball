{
  "nbformat": 4,
  "nbformat_minor": 0,
  "metadata": {
    "colab": {
      "name": "BB-LP2_wk1_trial4.ipynb",
      "provenance": [],
      "collapsed_sections": [],
      "authorship_tag": "ABX9TyMGNoKZKXCsVukCADYi1mXJ",
      "include_colab_link": true
    },
    "kernelspec": {
      "name": "python3",
      "display_name": "Python 3"
    },
    "language_info": {
      "name": "python"
    },
    "accelerator": "GPU"
  },
  "cells": [
    {
      "cell_type": "markdown",
      "metadata": {
        "id": "view-in-github",
        "colab_type": "text"
      },
      "source": [
        "<a href=\"https://colab.research.google.com/github/jtneumann/DL-Basketball/blob/master/BB_LP2_wk1_trial4.ipynb\" target=\"_parent\"><img src=\"https://colab.research.google.com/assets/colab-badge.svg\" alt=\"Open In Colab\"/></a>"
      ]
    },
    {
      "cell_type": "code",
      "metadata": {
        "id": "R2dTX4YkP9nJ",
        "colab": {
          "base_uri": "https://localhost:8080/"
        },
        "outputId": "a9701dbc-37e8-4f02-8222-880f18a97c24"
      },
      "source": [
        "import sys\n",
        "print(sys.version)\n",
        "import numpy as np\n",
        "import pandas as pd\n",
        "\n",
        "import tensorflow as tf\n",
        "from tensorflow import keras\n",
        "\n",
        "import matplotlib.pyplot as plt\n",
        "import random"
      ],
      "execution_count": 1,
      "outputs": [
        {
          "output_type": "stream",
          "text": [
            "3.7.10 (default, Feb 20 2021, 21:17:23) \n",
            "[GCC 7.5.0]\n"
          ],
          "name": "stdout"
        }
      ]
    },
    {
      "cell_type": "code",
      "metadata": {
        "id": "DZ7CHGpu-QRr"
      },
      "source": [
        "#Create Model\n",
        "callback = tf.keras.callbacks.EarlyStopping(monitor='loss', patience=3, mode='min')\n",
        "def build_model():\n",
        "    model = keras.models.Sequential([\n",
        "        #using 512 layers, used 32 first, then 16 in trial 2\n",
        "        keras.layers.Dense(512, activation='relu', input_shape=[4]),\n",
        "        keras.layers.Dense(256, activation='relu'),\n",
        "        keras.layers.Dense(1)\n",
        "    ])\n",
        "\n",
        "    o = keras.optimizers.RMSprop()\n",
        "    m = [\n",
        "           keras.metrics.MeanAbsoluteError(),\n",
        "           keras.metrics.Accuracy(),\n",
        "           keras.metrics.MeanSquaredError()\n",
        "    ]\n",
        "\n",
        "    L = keras.losses.MeanSquaredError()\n",
        "\n",
        "    model.compile(loss=L, optimizer=o, metrics=m)\n",
        "    return model\n",
        "\n",
        "bb_model = build_model()\n",
        "\n"
      ],
      "execution_count": 2,
      "outputs": []
    },
    {
      "cell_type": "code",
      "metadata": {
        "colab": {
          "resources": {
            "http://localhost:8080/nbextensions/google.colab/files.js": {
              "data": "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",
              "ok": true,
              "headers": [
                [
                  "content-type",
                  "application/javascript"
                ]
              ],
              "status": 200,
              "status_text": ""
            }
          },
          "base_uri": "https://localhost:8080/",
          "height": 72
        },
        "id": "8giLRV4DRqBE",
        "outputId": "ca1e3515-7e58-4a05-e779-89bb9f10bc57"
      },
      "source": [
        "import io\n",
        "from google.colab import files\n",
        "uploaded = files.upload()\n"
      ],
      "execution_count": 3,
      "outputs": [
        {
          "output_type": "display_data",
          "data": {
            "text/html": [
              "\n",
              "     <input type=\"file\" id=\"files-cd7fe1bf-0296-48b9-a2de-b9d01b282c15\" name=\"files[]\" multiple disabled\n",
              "        style=\"border:none\" />\n",
              "     <output id=\"result-cd7fe1bf-0296-48b9-a2de-b9d01b282c15\">\n",
              "      Upload widget is only available when the cell has been executed in the\n",
              "      current browser session. Please rerun this cell to enable.\n",
              "      </output>\n",
              "      <script src=\"/nbextensions/google.colab/files.js\"></script> "
            ],
            "text/plain": [
              "<IPython.core.display.HTML object>"
            ]
          },
          "metadata": {
            "tags": []
          }
        },
        {
          "output_type": "stream",
          "text": [
            "Saving Games-Calculated.csv to Games-Calculated.csv\n"
          ],
          "name": "stdout"
        }
      ]
    },
    {
      "cell_type": "code",
      "metadata": {
        "id": "EvE-fmWWSGza"
      },
      "source": [
        "column_names = ['Date','HomeTeam','HomeScore','AwayTeam','AwayScore',\n",
        "                'HomeScoreAverage','HomeDefenseAverage','AwayScoreAverage','AwayDefenseAverage',\n",
        "                'Result']\n",
        "\n",
        "game_data = pd.read_csv((io.BytesIO(uploaded['Games-Calculated.csv'])), header=None, names=column_names)"
      ],
      "execution_count": 4,
      "outputs": []
    },
    {
      "cell_type": "code",
      "metadata": {
        "id": "4d8dUVqqvT9r",
        "colab": {
          "base_uri": "https://localhost:8080/",
          "height": 204
        },
        "outputId": "ae15783c-b166-4595-9cf6-3c50e1b10f5e"
      },
      "source": [
        "# Drop the columns that we are NOT going to train on\n",
        "game_data.drop(['Date','HomeTeam','HomeScore','AwayTeam','AwayScore'], axis=1, inplace=True)\n",
        "game_data.tail()"
      ],
      "execution_count": 5,
      "outputs": [
        {
          "output_type": "execute_result",
          "data": {
            "text/html": [
              "<div>\n",
              "<style scoped>\n",
              "    .dataframe tbody tr th:only-of-type {\n",
              "        vertical-align: middle;\n",
              "    }\n",
              "\n",
              "    .dataframe tbody tr th {\n",
              "        vertical-align: top;\n",
              "    }\n",
              "\n",
              "    .dataframe thead th {\n",
              "        text-align: right;\n",
              "    }\n",
              "</style>\n",
              "<table border=\"1\" class=\"dataframe\">\n",
              "  <thead>\n",
              "    <tr style=\"text-align: right;\">\n",
              "      <th></th>\n",
              "      <th>HomeScoreAverage</th>\n",
              "      <th>HomeDefenseAverage</th>\n",
              "      <th>AwayScoreAverage</th>\n",
              "      <th>AwayDefenseAverage</th>\n",
              "      <th>Result</th>\n",
              "    </tr>\n",
              "  </thead>\n",
              "  <tbody>\n",
              "    <tr>\n",
              "      <th>20155</th>\n",
              "      <td>80.058824</td>\n",
              "      <td>63.529412</td>\n",
              "      <td>67.777778</td>\n",
              "      <td>70.666667</td>\n",
              "      <td>2</td>\n",
              "    </tr>\n",
              "    <tr>\n",
              "      <th>20156</th>\n",
              "      <td>85.062500</td>\n",
              "      <td>74.562500</td>\n",
              "      <td>71.466667</td>\n",
              "      <td>75.200000</td>\n",
              "      <td>10</td>\n",
              "    </tr>\n",
              "    <tr>\n",
              "      <th>20157</th>\n",
              "      <td>71.437500</td>\n",
              "      <td>65.500000</td>\n",
              "      <td>67.388889</td>\n",
              "      <td>72.666667</td>\n",
              "      <td>-8</td>\n",
              "    </tr>\n",
              "    <tr>\n",
              "      <th>20158</th>\n",
              "      <td>80.666667</td>\n",
              "      <td>72.333333</td>\n",
              "      <td>70.200000</td>\n",
              "      <td>70.066667</td>\n",
              "      <td>7</td>\n",
              "    </tr>\n",
              "    <tr>\n",
              "      <th>20159</th>\n",
              "      <td>83.238095</td>\n",
              "      <td>72.761905</td>\n",
              "      <td>75.428571</td>\n",
              "      <td>78.214286</td>\n",
              "      <td>12</td>\n",
              "    </tr>\n",
              "  </tbody>\n",
              "</table>\n",
              "</div>"
            ],
            "text/plain": [
              "       HomeScoreAverage  HomeDefenseAverage  ...  AwayDefenseAverage  Result\n",
              "20155         80.058824           63.529412  ...           70.666667       2\n",
              "20156         85.062500           74.562500  ...           75.200000      10\n",
              "20157         71.437500           65.500000  ...           72.666667      -8\n",
              "20158         80.666667           72.333333  ...           70.066667       7\n",
              "20159         83.238095           72.761905  ...           78.214286      12\n",
              "\n",
              "[5 rows x 5 columns]"
            ]
          },
          "metadata": {
            "tags": []
          },
          "execution_count": 5
        }
      ]
    },
    {
      "cell_type": "code",
      "metadata": {
        "colab": {
          "base_uri": "https://localhost:8080/",
          "height": 204
        },
        "id": "kh3RtiSqSW0U",
        "outputId": "2f7162ef-6fa7-49f9-8fe9-13f7296c3476"
      },
      "source": [
        "game_data.head()\n"
      ],
      "execution_count": 6,
      "outputs": [
        {
          "output_type": "execute_result",
          "data": {
            "text/html": [
              "<div>\n",
              "<style scoped>\n",
              "    .dataframe tbody tr th:only-of-type {\n",
              "        vertical-align: middle;\n",
              "    }\n",
              "\n",
              "    .dataframe tbody tr th {\n",
              "        vertical-align: top;\n",
              "    }\n",
              "\n",
              "    .dataframe thead th {\n",
              "        text-align: right;\n",
              "    }\n",
              "</style>\n",
              "<table border=\"1\" class=\"dataframe\">\n",
              "  <thead>\n",
              "    <tr style=\"text-align: right;\">\n",
              "      <th></th>\n",
              "      <th>HomeScoreAverage</th>\n",
              "      <th>HomeDefenseAverage</th>\n",
              "      <th>AwayScoreAverage</th>\n",
              "      <th>AwayDefenseAverage</th>\n",
              "      <th>Result</th>\n",
              "    </tr>\n",
              "  </thead>\n",
              "  <tbody>\n",
              "    <tr>\n",
              "      <th>0</th>\n",
              "      <td>87.0</td>\n",
              "      <td>76.0</td>\n",
              "      <td>76.0</td>\n",
              "      <td>87.0</td>\n",
              "      <td>11</td>\n",
              "    </tr>\n",
              "    <tr>\n",
              "      <th>1</th>\n",
              "      <td>70.0</td>\n",
              "      <td>50.0</td>\n",
              "      <td>50.0</td>\n",
              "      <td>70.0</td>\n",
              "      <td>20</td>\n",
              "    </tr>\n",
              "    <tr>\n",
              "      <th>2</th>\n",
              "      <td>70.0</td>\n",
              "      <td>57.0</td>\n",
              "      <td>57.0</td>\n",
              "      <td>70.0</td>\n",
              "      <td>13</td>\n",
              "    </tr>\n",
              "    <tr>\n",
              "      <th>3</th>\n",
              "      <td>89.0</td>\n",
              "      <td>83.0</td>\n",
              "      <td>83.0</td>\n",
              "      <td>89.0</td>\n",
              "      <td>6</td>\n",
              "    </tr>\n",
              "    <tr>\n",
              "      <th>4</th>\n",
              "      <td>68.0</td>\n",
              "      <td>62.0</td>\n",
              "      <td>62.0</td>\n",
              "      <td>68.0</td>\n",
              "      <td>6</td>\n",
              "    </tr>\n",
              "  </tbody>\n",
              "</table>\n",
              "</div>"
            ],
            "text/plain": [
              "   HomeScoreAverage  HomeDefenseAverage  ...  AwayDefenseAverage  Result\n",
              "0              87.0                76.0  ...                87.0      11\n",
              "1              70.0                50.0  ...                70.0      20\n",
              "2              70.0                57.0  ...                70.0      13\n",
              "3              89.0                83.0  ...                89.0       6\n",
              "4              68.0                62.0  ...                68.0       6\n",
              "\n",
              "[5 rows x 5 columns]"
            ]
          },
          "metadata": {
            "tags": []
          },
          "execution_count": 6
        }
      ]
    },
    {
      "cell_type": "code",
      "metadata": {
        "colab": {
          "base_uri": "https://localhost:8080/"
        },
        "id": "I8EEd39uT-x5",
        "outputId": "cc26c0b5-6dc5-42f9-d25e-2aa1de3ef2dd"
      },
      "source": [
        "#Train/Test Spit\n",
        "training_set = game_data.sample(frac=0.8, random_state=0)\n",
        "test_set = game_data.drop(training_set.index)\n",
        "print('training_set_size: %s' % training_set.shape[0])\n",
        "print('test_set_size: %s' % test_set.shape[0])"
      ],
      "execution_count": 7,
      "outputs": [
        {
          "output_type": "stream",
          "text": [
            "training_set_size: 16128\n",
            "test_set_size: 4032\n"
          ],
          "name": "stdout"
        }
      ]
    },
    {
      "cell_type": "code",
      "metadata": {
        "colab": {
          "base_uri": "https://localhost:8080/",
          "height": 204
        },
        "id": "89DRDQFlXz97",
        "outputId": "45e38981-4b84-49e5-ce1b-6d2e7f29beff"
      },
      "source": [
        "training_set.head()\n"
      ],
      "execution_count": 8,
      "outputs": [
        {
          "output_type": "execute_result",
          "data": {
            "text/html": [
              "<div>\n",
              "<style scoped>\n",
              "    .dataframe tbody tr th:only-of-type {\n",
              "        vertical-align: middle;\n",
              "    }\n",
              "\n",
              "    .dataframe tbody tr th {\n",
              "        vertical-align: top;\n",
              "    }\n",
              "\n",
              "    .dataframe thead th {\n",
              "        text-align: right;\n",
              "    }\n",
              "</style>\n",
              "<table border=\"1\" class=\"dataframe\">\n",
              "  <thead>\n",
              "    <tr style=\"text-align: right;\">\n",
              "      <th></th>\n",
              "      <th>HomeScoreAverage</th>\n",
              "      <th>HomeDefenseAverage</th>\n",
              "      <th>AwayScoreAverage</th>\n",
              "      <th>AwayDefenseAverage</th>\n",
              "      <th>Result</th>\n",
              "    </tr>\n",
              "  </thead>\n",
              "  <tbody>\n",
              "    <tr>\n",
              "      <th>5951</th>\n",
              "      <td>81.800000</td>\n",
              "      <td>64.400000</td>\n",
              "      <td>68.800000</td>\n",
              "      <td>81.000000</td>\n",
              "      <td>5</td>\n",
              "    </tr>\n",
              "    <tr>\n",
              "      <th>15481</th>\n",
              "      <td>64.333333</td>\n",
              "      <td>68.000000</td>\n",
              "      <td>74.500000</td>\n",
              "      <td>81.500000</td>\n",
              "      <td>6</td>\n",
              "    </tr>\n",
              "    <tr>\n",
              "      <th>16660</th>\n",
              "      <td>92.714286</td>\n",
              "      <td>70.714286</td>\n",
              "      <td>72.000000</td>\n",
              "      <td>71.800000</td>\n",
              "      <td>5</td>\n",
              "    </tr>\n",
              "    <tr>\n",
              "      <th>4896</th>\n",
              "      <td>74.095238</td>\n",
              "      <td>66.047619</td>\n",
              "      <td>62.384615</td>\n",
              "      <td>84.076923</td>\n",
              "      <td>17</td>\n",
              "    </tr>\n",
              "    <tr>\n",
              "      <th>12061</th>\n",
              "      <td>82.363636</td>\n",
              "      <td>66.090909</td>\n",
              "      <td>67.600000</td>\n",
              "      <td>75.400000</td>\n",
              "      <td>-2</td>\n",
              "    </tr>\n",
              "  </tbody>\n",
              "</table>\n",
              "</div>"
            ],
            "text/plain": [
              "       HomeScoreAverage  HomeDefenseAverage  ...  AwayDefenseAverage  Result\n",
              "5951          81.800000           64.400000  ...           81.000000       5\n",
              "15481         64.333333           68.000000  ...           81.500000       6\n",
              "16660         92.714286           70.714286  ...           71.800000       5\n",
              "4896          74.095238           66.047619  ...           84.076923      17\n",
              "12061         82.363636           66.090909  ...           75.400000      -2\n",
              "\n",
              "[5 rows x 5 columns]"
            ]
          },
          "metadata": {
            "tags": []
          },
          "execution_count": 8
        }
      ]
    },
    {
      "cell_type": "code",
      "metadata": {
        "id": "VcUup10ZU-zv"
      },
      "source": [
        "#Labels\n",
        "training_labels = training_set.pop('Result')\n",
        "test_labels = test_set.pop('Result')"
      ],
      "execution_count": 9,
      "outputs": []
    },
    {
      "cell_type": "code",
      "metadata": {
        "colab": {
          "base_uri": "https://localhost:8080/",
          "height": 204
        },
        "id": "QCNGzFBKYQJx",
        "outputId": "a8771a5a-2d03-41de-860d-48f3e7c3ea49"
      },
      "source": [
        "training_set.head()"
      ],
      "execution_count": 10,
      "outputs": [
        {
          "output_type": "execute_result",
          "data": {
            "text/html": [
              "<div>\n",
              "<style scoped>\n",
              "    .dataframe tbody tr th:only-of-type {\n",
              "        vertical-align: middle;\n",
              "    }\n",
              "\n",
              "    .dataframe tbody tr th {\n",
              "        vertical-align: top;\n",
              "    }\n",
              "\n",
              "    .dataframe thead th {\n",
              "        text-align: right;\n",
              "    }\n",
              "</style>\n",
              "<table border=\"1\" class=\"dataframe\">\n",
              "  <thead>\n",
              "    <tr style=\"text-align: right;\">\n",
              "      <th></th>\n",
              "      <th>HomeScoreAverage</th>\n",
              "      <th>HomeDefenseAverage</th>\n",
              "      <th>AwayScoreAverage</th>\n",
              "      <th>AwayDefenseAverage</th>\n",
              "    </tr>\n",
              "  </thead>\n",
              "  <tbody>\n",
              "    <tr>\n",
              "      <th>5951</th>\n",
              "      <td>81.800000</td>\n",
              "      <td>64.400000</td>\n",
              "      <td>68.800000</td>\n",
              "      <td>81.000000</td>\n",
              "    </tr>\n",
              "    <tr>\n",
              "      <th>15481</th>\n",
              "      <td>64.333333</td>\n",
              "      <td>68.000000</td>\n",
              "      <td>74.500000</td>\n",
              "      <td>81.500000</td>\n",
              "    </tr>\n",
              "    <tr>\n",
              "      <th>16660</th>\n",
              "      <td>92.714286</td>\n",
              "      <td>70.714286</td>\n",
              "      <td>72.000000</td>\n",
              "      <td>71.800000</td>\n",
              "    </tr>\n",
              "    <tr>\n",
              "      <th>4896</th>\n",
              "      <td>74.095238</td>\n",
              "      <td>66.047619</td>\n",
              "      <td>62.384615</td>\n",
              "      <td>84.076923</td>\n",
              "    </tr>\n",
              "    <tr>\n",
              "      <th>12061</th>\n",
              "      <td>82.363636</td>\n",
              "      <td>66.090909</td>\n",
              "      <td>67.600000</td>\n",
              "      <td>75.400000</td>\n",
              "    </tr>\n",
              "  </tbody>\n",
              "</table>\n",
              "</div>"
            ],
            "text/plain": [
              "       HomeScoreAverage  ...  AwayDefenseAverage\n",
              "5951          81.800000  ...           81.000000\n",
              "15481         64.333333  ...           81.500000\n",
              "16660         92.714286  ...           71.800000\n",
              "4896          74.095238  ...           84.076923\n",
              "12061         82.363636  ...           75.400000\n",
              "\n",
              "[5 rows x 4 columns]"
            ]
          },
          "metadata": {
            "tags": []
          },
          "execution_count": 10
        }
      ]
    },
    {
      "cell_type": "code",
      "metadata": {
        "id": "BbisnjBrYYNO"
      },
      "source": [
        "#Normalize Data\n",
        "mean = training_set.mean(axis=0)\n",
        "train_data = training_set - mean\n",
        "std = train_data.std(axis=0)\n",
        "train_data /= std\n",
        "\n",
        "test_data = test_set - mean\n",
        "test_data /= std"
      ],
      "execution_count": 11,
      "outputs": []
    },
    {
      "cell_type": "code",
      "metadata": {
        "colab": {
          "base_uri": "https://localhost:8080/"
        },
        "id": "3cxl0D9TeSTm",
        "outputId": "0758181b-49c2-4b8a-e135-aa335cf913ff"
      },
      "source": [
        "history = bb_model.fit(x=train_data, y=training_labels, batch_size=128, epochs=10, verbose=1, validation_split=0.2)"
      ],
      "execution_count": 12,
      "outputs": [
        {
          "output_type": "stream",
          "text": [
            "Epoch 1/10\n",
            "101/101 [==============================] - 4s 7ms/step - loss: 140.2362 - mean_absolute_error: 9.2097 - accuracy: 0.0000e+00 - mean_squared_error: 140.2362 - val_loss: 103.6972 - val_mean_absolute_error: 7.9347 - val_accuracy: 0.0000e+00 - val_mean_squared_error: 103.6972\n",
            "Epoch 2/10\n",
            "101/101 [==============================] - 0s 3ms/step - loss: 104.4001 - mean_absolute_error: 7.9818 - accuracy: 0.0000e+00 - mean_squared_error: 104.4001 - val_loss: 102.4659 - val_mean_absolute_error: 7.8823 - val_accuracy: 0.0000e+00 - val_mean_squared_error: 102.4659\n",
            "Epoch 3/10\n",
            "101/101 [==============================] - 0s 4ms/step - loss: 102.3837 - mean_absolute_error: 7.9123 - accuracy: 0.0000e+00 - mean_squared_error: 102.3837 - val_loss: 101.9760 - val_mean_absolute_error: 7.8591 - val_accuracy: 0.0000e+00 - val_mean_squared_error: 101.9760\n",
            "Epoch 4/10\n",
            "101/101 [==============================] - 0s 3ms/step - loss: 104.0021 - mean_absolute_error: 7.9751 - accuracy: 0.0000e+00 - mean_squared_error: 104.0021 - val_loss: 102.3693 - val_mean_absolute_error: 7.8754 - val_accuracy: 0.0000e+00 - val_mean_squared_error: 102.3693\n",
            "Epoch 5/10\n",
            "101/101 [==============================] - 0s 3ms/step - loss: 103.7803 - mean_absolute_error: 7.9159 - accuracy: 0.0000e+00 - mean_squared_error: 103.7803 - val_loss: 102.3704 - val_mean_absolute_error: 7.8484 - val_accuracy: 0.0000e+00 - val_mean_squared_error: 102.3704\n",
            "Epoch 6/10\n",
            "101/101 [==============================] - 0s 3ms/step - loss: 105.0211 - mean_absolute_error: 8.0033 - accuracy: 0.0000e+00 - mean_squared_error: 105.0211 - val_loss: 102.3866 - val_mean_absolute_error: 7.8477 - val_accuracy: 0.0000e+00 - val_mean_squared_error: 102.3866\n",
            "Epoch 7/10\n",
            "101/101 [==============================] - 0s 3ms/step - loss: 105.4066 - mean_absolute_error: 8.0092 - accuracy: 0.0000e+00 - mean_squared_error: 105.4066 - val_loss: 102.3675 - val_mean_absolute_error: 7.8860 - val_accuracy: 0.0000e+00 - val_mean_squared_error: 102.3675\n",
            "Epoch 8/10\n",
            "101/101 [==============================] - 0s 3ms/step - loss: 102.8738 - mean_absolute_error: 7.8929 - accuracy: 0.0000e+00 - mean_squared_error: 102.8738 - val_loss: 102.9677 - val_mean_absolute_error: 7.9031 - val_accuracy: 0.0000e+00 - val_mean_squared_error: 102.9677\n",
            "Epoch 9/10\n",
            "101/101 [==============================] - 0s 3ms/step - loss: 102.7450 - mean_absolute_error: 7.8885 - accuracy: 0.0000e+00 - mean_squared_error: 102.7450 - val_loss: 101.8958 - val_mean_absolute_error: 7.8389 - val_accuracy: 0.0000e+00 - val_mean_squared_error: 101.8958\n",
            "Epoch 10/10\n",
            "101/101 [==============================] - 0s 3ms/step - loss: 102.8924 - mean_absolute_error: 7.8947 - accuracy: 0.0000e+00 - mean_squared_error: 102.8924 - val_loss: 102.2884 - val_mean_absolute_error: 7.8530 - val_accuracy: 0.0000e+00 - val_mean_squared_error: 102.2884\n"
          ],
          "name": "stdout"
        }
      ]
    },
    {
      "cell_type": "code",
      "metadata": {
        "colab": {
          "base_uri": "https://localhost:8080/",
          "height": 279
        },
        "id": "fCQg2HZHeZbF",
        "outputId": "24b3c886-ba57-4862-e6a2-539819581771"
      },
      "source": [
        "# Check the results\n",
        "# Create a DataFrame from the output from the fit method\n",
        "hist = pd.DataFrame(history.history)\n",
        "# Create an epoch column and set it to the epoch index\n",
        "hist['epoch'] = history.epoch\n",
        "\n",
        "def plot_history(history):\n",
        "  plt.figure()\n",
        "  plt.xlabel('Epoch')\n",
        "  plt.ylabel('Mean Absolute Error')\n",
        "  plt.plot(history['epoch'], history['mean_absolute_error'],\n",
        "           label='Train Mean Absolute Error')\n",
        "  plt.plot(history['epoch'], history['val_mean_absolute_error'],\n",
        "           label = 'Val Mean Absolute Error')\n",
        "  plt.legend()\n",
        "  #plt.ylim([0,1])\n",
        "  plt.show()\n",
        "\n",
        "plot_history(hist)"
      ],
      "execution_count": 13,
      "outputs": [
        {
          "output_type": "display_data",
          "data": {
            "image/png": "[encoded data removed]",
            "text/plain": [
              "<Figure size 432x288 with 1 Axes>"
            ]
          },
          "metadata": {
            "tags": [],
            "needs_background": "light"
          }
        }
      ]
    },
    {
      "cell_type": "code",
      "metadata": {
        "colab": {
          "base_uri": "https://localhost:8080/"
        },
        "id": "XU3thf5ahouW",
        "outputId": "b4d47403-7894-4d04-d86a-3bf7bd0ff74b"
      },
      "source": [
        "history = bb_model.fit(x=train_data, y=training_labels, batch_size=128, epochs=50, verbose=1, callbacks=[callback])"
      ],
      "execution_count": 14,
      "outputs": [
        {
          "output_type": "stream",
          "text": [
            "Epoch 1/50\n",
            "101/101 [==============================] - 0s 4ms/step - loss: 103.2126 - mean_absolute_error: 7.9068 - accuracy: 0.0000e+00 - mean_squared_error: 103.2126 - val_loss: 101.9846 - val_mean_absolute_error: 7.8649 - val_accuracy: 0.0000e+00 - val_mean_squared_error: 101.9846\n",
            "Epoch 2/50\n",
            "101/101 [==============================] - 0s 4ms/step - loss: 103.1526 - mean_absolute_error: 7.9121 - accuracy: 0.0000e+00 - mean_squared_error: 103.1526 - val_loss: 103.4408 - val_mean_absolute_error: 7.9031 - val_accuracy: 0.0000e+00 - val_mean_squared_error: 103.4408\n",
            "Epoch 3/50\n",
            "101/101 [==============================] - 0s 4ms/step - loss: 103.0342 - mean_absolute_error: 7.9112 - accuracy: 0.0000e+00 - mean_squared_error: 103.0342 - val_loss: 102.1264 - val_mean_absolute_error: 7.8490 - val_accuracy: 0.0000e+00 - val_mean_squared_error: 102.1264\n",
            "Epoch 4/50\n",
            "101/101 [==============================] - 0s 3ms/step - loss: 102.8357 - mean_absolute_error: 7.8950 - accuracy: 0.0000e+00 - mean_squared_error: 102.8357 - val_loss: 101.7664 - val_mean_absolute_error: 7.8266 - val_accuracy: 0.0000e+00 - val_mean_squared_error: 101.7664\n",
            "Epoch 5/50\n",
            "101/101 [==============================] - 0s 4ms/step - loss: 102.8917 - mean_absolute_error: 7.9002 - accuracy: 0.0000e+00 - mean_squared_error: 102.8917 - val_loss: 101.7198 - val_mean_absolute_error: 7.8409 - val_accuracy: 0.0000e+00 - val_mean_squared_error: 101.7198\n",
            "Epoch 6/50\n",
            "101/101 [==============================] - 0s 4ms/step - loss: 102.8603 - mean_absolute_error: 7.8953 - accuracy: 0.0000e+00 - mean_squared_error: 102.8603 - val_loss: 103.2516 - val_mean_absolute_error: 7.8867 - val_accuracy: 0.0000e+00 - val_mean_squared_error: 103.2516\n",
            "Epoch 7/50\n",
            "101/101 [==============================] - 0s 4ms/step - loss: 103.0140 - mean_absolute_error: 7.9040 - accuracy: 0.0000e+00 - mean_squared_error: 103.0140 - val_loss: 101.9128 - val_mean_absolute_error: 7.8371 - val_accuracy: 0.0000e+00 - val_mean_squared_error: 101.9128\n"
          ],
          "name": "stdout"
        }
      ]
    },
    {
      "cell_type": "code",
      "metadata": {
        "colab": {
          "base_uri": "https://localhost:8080/",
          "height": 279
        },
        "id": "lh-shWvNh6dc",
        "outputId": "e35856a2-a101-4ded-b644-c1c848423f04"
      },
      "source": [
        "# Check the results\n",
        "# Create a DataFrame from the output from the fit method\n",
        "hist = pd.DataFrame(history.history)\n",
        "# Create an epoch column and set it to the epoch index\n",
        "hist['epoch'] = history.epoch\n",
        "\n",
        "def plot_history(history):\n",
        "  plt.figure()\n",
        "  plt.xlabel('Epoch')\n",
        "  plt.ylabel('Mean Absolute Error')\n",
        "  plt.plot(history['epoch'], history['mean_absolute_error'],\n",
        "           label='Train Mean Absolute Error')\n",
        "  plt.plot(history['epoch'], history['val_mean_absolute_error'],\n",
        "           label = 'Val Mean Absolute Error')\n",
        "  plt.legend()\n",
        "  #plt.ylim([0,1])\n",
        "  plt.show()\n",
        "\n",
        "plot_history(hist)"
      ],
      "execution_count": 15,
      "outputs": [
        {
          "output_type": "display_data",
          "data": {
            "image/png": "[encoded data removed]",
            "text/plain": [
              "<Figure size 432x288 with 1 Axes>"
            ]
          },
          "metadata": {
            "tags": [],
            "needs_background": "light"
          }
        }
      ]
    },
    {
      "cell_type": "code",
      "metadata": {
        "colab": {
          "base_uri": "https://localhost:8080/"
        },
        "id": "PVXul8VE4Orf",
        "outputId": "bd8e8bb9-f33d-4e33-99bc-936d44ddc1ca"
      },
      "source": [
        "history.history"
      ],
      "execution_count": 16,
      "outputs": [
        {
          "output_type": "execute_result",
          "data": {
            "text/plain": [
              "{'accuracy': [0.0, 0.0, 0.0, 0.0, 0.0, 0.0, 0.0],\n",
              " 'loss': [103.21256256103516,\n",
              "  103.15257263183594,\n",
              "  103.03417205810547,\n",
              "  102.83570098876953,\n",
              "  102.89169311523438,\n",
              "  102.86030578613281,\n",
              "  103.0140380859375],\n",
              " 'mean_absolute_error': [7.906789302825928,\n",
              "  7.912054538726807,\n",
              "  7.9112043380737305,\n",
              "  7.894957542419434,\n",
              "  7.900180816650391,\n",
              "  7.8953375816345215,\n",
              "  7.903957366943359],\n",
              " 'mean_squared_error': [103.21256256103516,\n",
              "  103.15257263183594,\n",
              "  103.03417205810547,\n",
              "  102.83570098876953,\n",
              "  102.89169311523438,\n",
              "  102.86030578613281,\n",
              "  103.0140380859375],\n",
              " 'val_accuracy': [0.0, 0.0, 0.0, 0.0, 0.0, 0.0, 0.0],\n",
              " 'val_loss': [101.98455047607422,\n",
              "  103.44081115722656,\n",
              "  102.12635803222656,\n",
              "  101.76641845703125,\n",
              "  101.71977996826172,\n",
              "  103.2515869140625,\n",
              "  101.91281127929688],\n",
              " 'val_mean_absolute_error': [7.8649067878723145,\n",
              "  7.903050899505615,\n",
              "  7.848956108093262,\n",
              "  7.826637268066406,\n",
              "  7.840926170349121,\n",
              "  7.886679172515869,\n",
              "  7.837055206298828],\n",
              " 'val_mean_squared_error': [101.98455047607422,\n",
              "  103.44081115722656,\n",
              "  102.12635803222656,\n",
              "  101.76641845703125,\n",
              "  101.71977996826172,\n",
              "  103.2515869140625,\n",
              "  101.91281127929688]}"
            ]
          },
          "metadata": {
            "tags": []
          },
          "execution_count": 16
        }
      ]
    },
    {
      "cell_type": "code",
      "metadata": {
        "colab": {
          "base_uri": "https://localhost:8080/",
          "height": 282
        },
        "id": "JFinjU7g5ZVA",
        "outputId": "901974d9-fac2-4e5d-ce3a-1410dfb4de8d"
      },
      "source": [
        "plt.plot(history.history['accuracy'])\n",
        "plt.plot(history.history['val_accuracy'])\n",
        "plt.legend(['accuracy','validation accuracy'])"
      ],
      "execution_count": 17,
      "outputs": [
        {
          "output_type": "execute_result",
          "data": {
            "text/plain": [
              "<matplotlib.legend.Legend at 0x7efdd7ccfd50>"
            ]
          },
          "metadata": {
            "tags": []
          },
          "execution_count": 17
        },
        {
          "output_type": "display_data",
          "data": {
            "image/png": "[encoded data removed]",
            "text/plain": [
              "<Figure size 432x288 with 1 Axes>"
            ]
          },
          "metadata": {
            "tags": [],
            "needs_background": "light"
          }
        }
      ]
    },
    {
      "cell_type": "code",
      "metadata": {
        "colab": {
          "base_uri": "https://localhost:8080/"
        },
        "id": "6Sd2tdqI0k5u",
        "outputId": "1d39dcf6-00d5-40d9-8128-e363f0e530ec"
      },
      "source": [
        "res = bb_model.evaluate(x=test_data, y=test_labels, batch_size=128, verbose=1, callbacks=[callback])"
      ],
      "execution_count": 18,
      "outputs": [
        {
          "output_type": "stream",
          "text": [
            "32/32 [==============================] - 0s 2ms/step - loss: 103.7156 - mean_absolute_error: 7.8554 - accuracy: 0.0000e+00 - mean_squared_error: 103.7156\n"
          ],
          "name": "stdout"
        }
      ]
    },
    {
      "cell_type": "code",
      "metadata": {
        "id": "G7TTBGw31iA5"
      },
      "source": [
        ""
      ],
      "execution_count": null,
      "outputs": []
    }
  ]
}