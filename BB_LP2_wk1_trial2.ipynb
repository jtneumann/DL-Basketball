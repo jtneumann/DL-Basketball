{
  "nbformat": 4,
  "nbformat_minor": 0,
  "metadata": {
    "colab": {
      "name": "BB-LP2_wk1_trial2.ipynb",
      "provenance": [],
      "collapsed_sections": [],
      "authorship_tag": "ABX9TyNeY/EjMSAhcNrU8o70kBJM",
      "include_colab_link": true
    },
    "kernelspec": {
      "name": "python3",
      "display_name": "Python 3"
    },
    "language_info": {
      "name": "python"
    },
    "accelerator": "GPU"
  },
  "cells": [
    {
      "cell_type": "markdown",
      "metadata": {
        "id": "view-in-github",
        "colab_type": "text"
      },
      "source": [
        "<a href=\"https://colab.research.google.com/github/jtneumann/DL-Basketball/blob/master/BB_LP2_wk1_trial2.ipynb\" target=\"_parent\"><img src=\"https://colab.research.google.com/assets/colab-badge.svg\" alt=\"Open In Colab\"/></a>"
      ]
    },
    {
      "cell_type": "code",
      "metadata": {
        "id": "R2dTX4YkP9nJ",
        "colab": {
          "base_uri": "https://localhost:8080/"
        },
        "outputId": "66053644-96c5-466b-f394-70958877ad93"
      },
      "source": [
        "import sys\n",
        "print(sys.version)\n",
        "import numpy as np\n",
        "import pandas as pd\n",
        "\n",
        "import tensorflow as tf\n",
        "from tensorflow import keras\n",
        "\n",
        "import matplotlib.pyplot as plt\n",
        "import random"
      ],
      "execution_count": 1,
      "outputs": [
        {
          "output_type": "stream",
          "text": [
            "3.7.10 (default, Feb 20 2021, 21:17:23) \n",
            "[GCC 7.5.0]\n"
          ],
          "name": "stdout"
        }
      ]
    },
    {
      "cell_type": "code",
      "metadata": {
        "id": "DZ7CHGpu-QRr"
      },
      "source": [
        "#Create Model\n",
        "\n",
        "def Build_Model():\n",
        "    model = keras.models.Sequential([\n",
        "        keras.layers.Dense(16, activation='relu', input_shape=[4]),\n",
        "        keras.layers.Dense(16, activation='relu'),\n",
        "        keras.layers.Dense(1)\n",
        "    ])\n",
        "\n",
        "    o = keras.optimizers.RMSprop()\n",
        "    m = [\n",
        "           keras.metrics.MeanAbsoluteError(),\n",
        "           keras.metrics.Accuracy(),\n",
        "           keras.metrics.MeanSquaredError()\n",
        "    ]\n",
        "\n",
        "    L = keras.losses.MeanSquaredError()\n",
        "\n",
        "    model.compile(loss=L, optimizer=o, metrics=m)\n",
        "    return model\n",
        "\n",
        "NN_Model = Build_Model()\n",
        "\n"
      ],
      "execution_count": 3,
      "outputs": []
    },
    {
      "cell_type": "code",
      "metadata": {
        "colab": {
          "resources": {
            "http://localhost:8080/nbextensions/google.colab/files.js": {
              "data": "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",
              "ok": true,
              "headers": [
                [
                  "content-type",
                  "application/javascript"
                ]
              ],
              "status": 200,
              "status_text": ""
            }
          },
          "base_uri": "https://localhost:8080/",
          "height": 72
        },
        "id": "8giLRV4DRqBE",
        "outputId": "83010e65-9b4b-4ee6-f211-0aea3a181570"
      },
      "source": [
        "import io\n",
        "from google.colab import files\n",
        "uploaded = files.upload()\n"
      ],
      "execution_count": 5,
      "outputs": [
        {
          "output_type": "display_data",
          "data": {
            "text/html": [
              "\n",
              "     <input type=\"file\" id=\"files-cdec1738-16da-42b4-bc75-5dcdacfb8ed5\" name=\"files[]\" multiple disabled\n",
              "        style=\"border:none\" />\n",
              "     <output id=\"result-cdec1738-16da-42b4-bc75-5dcdacfb8ed5\">\n",
              "      Upload widget is only available when the cell has been executed in the\n",
              "      current browser session. Please rerun this cell to enable.\n",
              "      </output>\n",
              "      <script src=\"/nbextensions/google.colab/files.js\"></script> "
            ],
            "text/plain": [
              "<IPython.core.display.HTML object>"
            ]
          },
          "metadata": {
            "tags": []
          }
        },
        {
          "output_type": "stream",
          "text": [
            "Saving Games-Calculated.csv to Games-Calculated.csv\n"
          ],
          "name": "stdout"
        }
      ]
    },
    {
      "cell_type": "code",
      "metadata": {
        "id": "EvE-fmWWSGza"
      },
      "source": [
        "column_names = ['Date','HomeTeam','HomeScore','AwayTeam','AwayScore',\n",
        "                'HomeScoreAverage','HomeDefenseAverage','AwayScoreAverage','AwayDefenseAverage',\n",
        "                'Result']\n",
        "\n",
        "game_data = pd.read_csv((io.BytesIO(uploaded['Games-Calculated.csv'])), header=None, names=column_names)"
      ],
      "execution_count": 6,
      "outputs": []
    },
    {
      "cell_type": "code",
      "metadata": {
        "id": "4d8dUVqqvT9r",
        "colab": {
          "base_uri": "https://localhost:8080/",
          "height": 204
        },
        "outputId": "66585288-921f-478e-af6c-fd9b723df750"
      },
      "source": [
        "# Drop the columns that we are NOT going to train on\n",
        "game_data.drop(['Date','HomeTeam','HomeScore','AwayTeam','AwayScore'], axis=1, inplace=True)\n",
        "game_data.tail()"
      ],
      "execution_count": 7,
      "outputs": [
        {
          "output_type": "execute_result",
          "data": {
            "text/html": [
              "<div>\n",
              "<style scoped>\n",
              "    .dataframe tbody tr th:only-of-type {\n",
              "        vertical-align: middle;\n",
              "    }\n",
              "\n",
              "    .dataframe tbody tr th {\n",
              "        vertical-align: top;\n",
              "    }\n",
              "\n",
              "    .dataframe thead th {\n",
              "        text-align: right;\n",
              "    }\n",
              "</style>\n",
              "<table border=\"1\" class=\"dataframe\">\n",
              "  <thead>\n",
              "    <tr style=\"text-align: right;\">\n",
              "      <th></th>\n",
              "      <th>HomeScoreAverage</th>\n",
              "      <th>HomeDefenseAverage</th>\n",
              "      <th>AwayScoreAverage</th>\n",
              "      <th>AwayDefenseAverage</th>\n",
              "      <th>Result</th>\n",
              "    </tr>\n",
              "  </thead>\n",
              "  <tbody>\n",
              "    <tr>\n",
              "      <th>20155</th>\n",
              "      <td>80.058824</td>\n",
              "      <td>63.529412</td>\n",
              "      <td>67.777778</td>\n",
              "      <td>70.666667</td>\n",
              "      <td>2</td>\n",
              "    </tr>\n",
              "    <tr>\n",
              "      <th>20156</th>\n",
              "      <td>85.062500</td>\n",
              "      <td>74.562500</td>\n",
              "      <td>71.466667</td>\n",
              "      <td>75.200000</td>\n",
              "      <td>10</td>\n",
              "    </tr>\n",
              "    <tr>\n",
              "      <th>20157</th>\n",
              "      <td>71.437500</td>\n",
              "      <td>65.500000</td>\n",
              "      <td>67.388889</td>\n",
              "      <td>72.666667</td>\n",
              "      <td>-8</td>\n",
              "    </tr>\n",
              "    <tr>\n",
              "      <th>20158</th>\n",
              "      <td>80.666667</td>\n",
              "      <td>72.333333</td>\n",
              "      <td>70.200000</td>\n",
              "      <td>70.066667</td>\n",
              "      <td>7</td>\n",
              "    </tr>\n",
              "    <tr>\n",
              "      <th>20159</th>\n",
              "      <td>83.238095</td>\n",
              "      <td>72.761905</td>\n",
              "      <td>75.428571</td>\n",
              "      <td>78.214286</td>\n",
              "      <td>12</td>\n",
              "    </tr>\n",
              "  </tbody>\n",
              "</table>\n",
              "</div>"
            ],
            "text/plain": [
              "       HomeScoreAverage  HomeDefenseAverage  ...  AwayDefenseAverage  Result\n",
              "20155         80.058824           63.529412  ...           70.666667       2\n",
              "20156         85.062500           74.562500  ...           75.200000      10\n",
              "20157         71.437500           65.500000  ...           72.666667      -8\n",
              "20158         80.666667           72.333333  ...           70.066667       7\n",
              "20159         83.238095           72.761905  ...           78.214286      12\n",
              "\n",
              "[5 rows x 5 columns]"
            ]
          },
          "metadata": {
            "tags": []
          },
          "execution_count": 7
        }
      ]
    },
    {
      "cell_type": "code",
      "metadata": {
        "colab": {
          "base_uri": "https://localhost:8080/",
          "height": 204
        },
        "id": "kh3RtiSqSW0U",
        "outputId": "dd387bb2-c529-4343-fa05-e216427554bf"
      },
      "source": [
        "game_data.head()\n"
      ],
      "execution_count": 8,
      "outputs": [
        {
          "output_type": "execute_result",
          "data": {
            "text/html": [
              "<div>\n",
              "<style scoped>\n",
              "    .dataframe tbody tr th:only-of-type {\n",
              "        vertical-align: middle;\n",
              "    }\n",
              "\n",
              "    .dataframe tbody tr th {\n",
              "        vertical-align: top;\n",
              "    }\n",
              "\n",
              "    .dataframe thead th {\n",
              "        text-align: right;\n",
              "    }\n",
              "</style>\n",
              "<table border=\"1\" class=\"dataframe\">\n",
              "  <thead>\n",
              "    <tr style=\"text-align: right;\">\n",
              "      <th></th>\n",
              "      <th>HomeScoreAverage</th>\n",
              "      <th>HomeDefenseAverage</th>\n",
              "      <th>AwayScoreAverage</th>\n",
              "      <th>AwayDefenseAverage</th>\n",
              "      <th>Result</th>\n",
              "    </tr>\n",
              "  </thead>\n",
              "  <tbody>\n",
              "    <tr>\n",
              "      <th>0</th>\n",
              "      <td>87.0</td>\n",
              "      <td>76.0</td>\n",
              "      <td>76.0</td>\n",
              "      <td>87.0</td>\n",
              "      <td>11</td>\n",
              "    </tr>\n",
              "    <tr>\n",
              "      <th>1</th>\n",
              "      <td>70.0</td>\n",
              "      <td>50.0</td>\n",
              "      <td>50.0</td>\n",
              "      <td>70.0</td>\n",
              "      <td>20</td>\n",
              "    </tr>\n",
              "    <tr>\n",
              "      <th>2</th>\n",
              "      <td>70.0</td>\n",
              "      <td>57.0</td>\n",
              "      <td>57.0</td>\n",
              "      <td>70.0</td>\n",
              "      <td>13</td>\n",
              "    </tr>\n",
              "    <tr>\n",
              "      <th>3</th>\n",
              "      <td>89.0</td>\n",
              "      <td>83.0</td>\n",
              "      <td>83.0</td>\n",
              "      <td>89.0</td>\n",
              "      <td>6</td>\n",
              "    </tr>\n",
              "    <tr>\n",
              "      <th>4</th>\n",
              "      <td>68.0</td>\n",
              "      <td>62.0</td>\n",
              "      <td>62.0</td>\n",
              "      <td>68.0</td>\n",
              "      <td>6</td>\n",
              "    </tr>\n",
              "  </tbody>\n",
              "</table>\n",
              "</div>"
            ],
            "text/plain": [
              "   HomeScoreAverage  HomeDefenseAverage  ...  AwayDefenseAverage  Result\n",
              "0              87.0                76.0  ...                87.0      11\n",
              "1              70.0                50.0  ...                70.0      20\n",
              "2              70.0                57.0  ...                70.0      13\n",
              "3              89.0                83.0  ...                89.0       6\n",
              "4              68.0                62.0  ...                68.0       6\n",
              "\n",
              "[5 rows x 5 columns]"
            ]
          },
          "metadata": {
            "tags": []
          },
          "execution_count": 8
        }
      ]
    },
    {
      "cell_type": "code",
      "metadata": {
        "colab": {
          "base_uri": "https://localhost:8080/"
        },
        "id": "I8EEd39uT-x5",
        "outputId": "59f90067-3b9c-4537-db96-eaf785d08c7e"
      },
      "source": [
        "#Train/Test Spit\n",
        "training_set = game_data.sample(frac=0.8, random_state=0)\n",
        "test_set = game_data.drop(training_set.index)\n",
        "print('training_set_size: %s' % training_set.shape[0])\n",
        "print('test_set_size: %s' % test_set.shape[0])"
      ],
      "execution_count": 11,
      "outputs": [
        {
          "output_type": "stream",
          "text": [
            "training_set_size: 16128\n",
            "test_set_size: 4032\n"
          ],
          "name": "stdout"
        }
      ]
    },
    {
      "cell_type": "code",
      "metadata": {
        "colab": {
          "base_uri": "https://localhost:8080/",
          "height": 204
        },
        "id": "89DRDQFlXz97",
        "outputId": "5c035191-59e7-43ce-d2b1-ab4648fbec4d"
      },
      "source": [
        "training_set.head()\n"
      ],
      "execution_count": 12,
      "outputs": [
        {
          "output_type": "execute_result",
          "data": {
            "text/html": [
              "<div>\n",
              "<style scoped>\n",
              "    .dataframe tbody tr th:only-of-type {\n",
              "        vertical-align: middle;\n",
              "    }\n",
              "\n",
              "    .dataframe tbody tr th {\n",
              "        vertical-align: top;\n",
              "    }\n",
              "\n",
              "    .dataframe thead th {\n",
              "        text-align: right;\n",
              "    }\n",
              "</style>\n",
              "<table border=\"1\" class=\"dataframe\">\n",
              "  <thead>\n",
              "    <tr style=\"text-align: right;\">\n",
              "      <th></th>\n",
              "      <th>HomeScoreAverage</th>\n",
              "      <th>HomeDefenseAverage</th>\n",
              "      <th>AwayScoreAverage</th>\n",
              "      <th>AwayDefenseAverage</th>\n",
              "      <th>Result</th>\n",
              "    </tr>\n",
              "  </thead>\n",
              "  <tbody>\n",
              "    <tr>\n",
              "      <th>5951</th>\n",
              "      <td>81.800000</td>\n",
              "      <td>64.400000</td>\n",
              "      <td>68.800000</td>\n",
              "      <td>81.000000</td>\n",
              "      <td>5</td>\n",
              "    </tr>\n",
              "    <tr>\n",
              "      <th>15481</th>\n",
              "      <td>64.333333</td>\n",
              "      <td>68.000000</td>\n",
              "      <td>74.500000</td>\n",
              "      <td>81.500000</td>\n",
              "      <td>6</td>\n",
              "    </tr>\n",
              "    <tr>\n",
              "      <th>16660</th>\n",
              "      <td>92.714286</td>\n",
              "      <td>70.714286</td>\n",
              "      <td>72.000000</td>\n",
              "      <td>71.800000</td>\n",
              "      <td>5</td>\n",
              "    </tr>\n",
              "    <tr>\n",
              "      <th>4896</th>\n",
              "      <td>74.095238</td>\n",
              "      <td>66.047619</td>\n",
              "      <td>62.384615</td>\n",
              "      <td>84.076923</td>\n",
              "      <td>17</td>\n",
              "    </tr>\n",
              "    <tr>\n",
              "      <th>12061</th>\n",
              "      <td>82.363636</td>\n",
              "      <td>66.090909</td>\n",
              "      <td>67.600000</td>\n",
              "      <td>75.400000</td>\n",
              "      <td>-2</td>\n",
              "    </tr>\n",
              "  </tbody>\n",
              "</table>\n",
              "</div>"
            ],
            "text/plain": [
              "       HomeScoreAverage  HomeDefenseAverage  ...  AwayDefenseAverage  Result\n",
              "5951          81.800000           64.400000  ...           81.000000       5\n",
              "15481         64.333333           68.000000  ...           81.500000       6\n",
              "16660         92.714286           70.714286  ...           71.800000       5\n",
              "4896          74.095238           66.047619  ...           84.076923      17\n",
              "12061         82.363636           66.090909  ...           75.400000      -2\n",
              "\n",
              "[5 rows x 5 columns]"
            ]
          },
          "metadata": {
            "tags": []
          },
          "execution_count": 12
        }
      ]
    },
    {
      "cell_type": "code",
      "metadata": {
        "id": "VcUup10ZU-zv"
      },
      "source": [
        "#Labels\n",
        "training_labels = training_set.pop('Result')\n",
        "test_labels = test_set.pop('Result')"
      ],
      "execution_count": 13,
      "outputs": []
    },
    {
      "cell_type": "code",
      "metadata": {
        "colab": {
          "base_uri": "https://localhost:8080/",
          "height": 204
        },
        "id": "QCNGzFBKYQJx",
        "outputId": "890b4762-818b-4cf9-ae58-4deff1788a17"
      },
      "source": [
        "training_set.head()"
      ],
      "execution_count": 14,
      "outputs": [
        {
          "output_type": "execute_result",
          "data": {
            "text/html": [
              "<div>\n",
              "<style scoped>\n",
              "    .dataframe tbody tr th:only-of-type {\n",
              "        vertical-align: middle;\n",
              "    }\n",
              "\n",
              "    .dataframe tbody tr th {\n",
              "        vertical-align: top;\n",
              "    }\n",
              "\n",
              "    .dataframe thead th {\n",
              "        text-align: right;\n",
              "    }\n",
              "</style>\n",
              "<table border=\"1\" class=\"dataframe\">\n",
              "  <thead>\n",
              "    <tr style=\"text-align: right;\">\n",
              "      <th></th>\n",
              "      <th>HomeScoreAverage</th>\n",
              "      <th>HomeDefenseAverage</th>\n",
              "      <th>AwayScoreAverage</th>\n",
              "      <th>AwayDefenseAverage</th>\n",
              "    </tr>\n",
              "  </thead>\n",
              "  <tbody>\n",
              "    <tr>\n",
              "      <th>5951</th>\n",
              "      <td>81.800000</td>\n",
              "      <td>64.400000</td>\n",
              "      <td>68.800000</td>\n",
              "      <td>81.000000</td>\n",
              "    </tr>\n",
              "    <tr>\n",
              "      <th>15481</th>\n",
              "      <td>64.333333</td>\n",
              "      <td>68.000000</td>\n",
              "      <td>74.500000</td>\n",
              "      <td>81.500000</td>\n",
              "    </tr>\n",
              "    <tr>\n",
              "      <th>16660</th>\n",
              "      <td>92.714286</td>\n",
              "      <td>70.714286</td>\n",
              "      <td>72.000000</td>\n",
              "      <td>71.800000</td>\n",
              "    </tr>\n",
              "    <tr>\n",
              "      <th>4896</th>\n",
              "      <td>74.095238</td>\n",
              "      <td>66.047619</td>\n",
              "      <td>62.384615</td>\n",
              "      <td>84.076923</td>\n",
              "    </tr>\n",
              "    <tr>\n",
              "      <th>12061</th>\n",
              "      <td>82.363636</td>\n",
              "      <td>66.090909</td>\n",
              "      <td>67.600000</td>\n",
              "      <td>75.400000</td>\n",
              "    </tr>\n",
              "  </tbody>\n",
              "</table>\n",
              "</div>"
            ],
            "text/plain": [
              "       HomeScoreAverage  ...  AwayDefenseAverage\n",
              "5951          81.800000  ...           81.000000\n",
              "15481         64.333333  ...           81.500000\n",
              "16660         92.714286  ...           71.800000\n",
              "4896          74.095238  ...           84.076923\n",
              "12061         82.363636  ...           75.400000\n",
              "\n",
              "[5 rows x 4 columns]"
            ]
          },
          "metadata": {
            "tags": []
          },
          "execution_count": 14
        }
      ]
    },
    {
      "cell_type": "code",
      "metadata": {
        "id": "BbisnjBrYYNO"
      },
      "source": [
        "#Normalize Data\n",
        "mean = training_set.mean(axis=0)\n",
        "train_data = training_set - mean\n",
        "std = train_data.std(axis=0)\n",
        "train_data /= std\n",
        "\n",
        "test_data = test_set - mean\n",
        "test_data /= std"
      ],
      "execution_count": 15,
      "outputs": []
    },
    {
      "cell_type": "code",
      "metadata": {
        "colab": {
          "base_uri": "https://localhost:8080/"
        },
        "id": "H1iFuY0tY5i6",
        "outputId": "7b68c39a-1b0d-4122-b295-f2c99a50fdcb"
      },
      "source": [
        "#history = NN_Model.fit(train_data, training_labels, epochs=1000, validation_split=0.2, verbose=0)\n",
        "\n",
        "history = NN_Model.fit(x=train_data, y=training_labels, batch_size=128, epochs=100, verbose=1, validation_split=0.2)"
      ],
      "execution_count": 16,
      "outputs": [
        {
          "output_type": "stream",
          "text": [
            "Epoch 1/100\n",
            "101/101 [==============================] - 4s 5ms/step - loss: 226.4597 - mean_absolute_error: 11.9403 - accuracy: 0.0000e+00 - mean_squared_error: 226.4597 - val_loss: 192.6568 - val_mean_absolute_error: 11.0923 - val_accuracy: 0.0000e+00 - val_mean_squared_error: 192.6568\n",
            "Epoch 2/100\n",
            "101/101 [==============================] - 0s 3ms/step - loss: 183.0289 - mean_absolute_error: 10.7011 - accuracy: 0.0000e+00 - mean_squared_error: 183.0289 - val_loss: 144.1678 - val_mean_absolute_error: 9.5196 - val_accuracy: 0.0000e+00 - val_mean_squared_error: 144.1678\n",
            "Epoch 3/100\n",
            "101/101 [==============================] - 0s 3ms/step - loss: 135.2916 - mean_absolute_error: 9.0593 - accuracy: 0.0000e+00 - mean_squared_error: 135.2916 - val_loss: 111.1982 - val_mean_absolute_error: 8.2171 - val_accuracy: 0.0000e+00 - val_mean_squared_error: 111.1982\n",
            "Epoch 4/100\n",
            "101/101 [==============================] - 0s 3ms/step - loss: 110.8276 - mean_absolute_error: 8.2351 - accuracy: 0.0000e+00 - mean_squared_error: 110.8276 - val_loss: 106.4322 - val_mean_absolute_error: 8.0307 - val_accuracy: 0.0000e+00 - val_mean_squared_error: 106.4322\n",
            "Epoch 5/100\n",
            "101/101 [==============================] - 0s 3ms/step - loss: 108.2210 - mean_absolute_error: 8.1039 - accuracy: 0.0000e+00 - mean_squared_error: 108.2210 - val_loss: 104.8102 - val_mean_absolute_error: 7.9693 - val_accuracy: 0.0000e+00 - val_mean_squared_error: 104.8102\n",
            "Epoch 6/100\n",
            "101/101 [==============================] - 0s 3ms/step - loss: 103.6369 - mean_absolute_error: 7.8855 - accuracy: 0.0000e+00 - mean_squared_error: 103.6369 - val_loss: 104.1045 - val_mean_absolute_error: 7.9515 - val_accuracy: 0.0000e+00 - val_mean_squared_error: 104.1045\n",
            "Epoch 7/100\n",
            "101/101 [==============================] - 0s 3ms/step - loss: 104.4973 - mean_absolute_error: 8.0051 - accuracy: 0.0000e+00 - mean_squared_error: 104.4973 - val_loss: 103.5810 - val_mean_absolute_error: 7.9264 - val_accuracy: 0.0000e+00 - val_mean_squared_error: 103.5810\n",
            "Epoch 8/100\n",
            "101/101 [==============================] - 0s 3ms/step - loss: 106.7149 - mean_absolute_error: 8.0214 - accuracy: 0.0000e+00 - mean_squared_error: 106.7149 - val_loss: 103.2620 - val_mean_absolute_error: 7.9098 - val_accuracy: 0.0000e+00 - val_mean_squared_error: 103.2620\n",
            "Epoch 9/100\n",
            "101/101 [==============================] - 0s 3ms/step - loss: 104.6320 - mean_absolute_error: 7.9808 - accuracy: 0.0000e+00 - mean_squared_error: 104.6320 - val_loss: 103.0862 - val_mean_absolute_error: 7.9052 - val_accuracy: 0.0000e+00 - val_mean_squared_error: 103.0862\n",
            "Epoch 10/100\n",
            "101/101 [==============================] - 0s 3ms/step - loss: 102.0503 - mean_absolute_error: 7.8926 - accuracy: 0.0000e+00 - mean_squared_error: 102.0503 - val_loss: 103.0985 - val_mean_absolute_error: 7.9144 - val_accuracy: 0.0000e+00 - val_mean_squared_error: 103.0985\n",
            "Epoch 11/100\n",
            "101/101 [==============================] - 0s 3ms/step - loss: 106.5277 - mean_absolute_error: 8.0241 - accuracy: 0.0000e+00 - mean_squared_error: 106.5277 - val_loss: 102.9566 - val_mean_absolute_error: 7.9043 - val_accuracy: 0.0000e+00 - val_mean_squared_error: 102.9566\n",
            "Epoch 12/100\n",
            "101/101 [==============================] - 0s 3ms/step - loss: 104.4402 - mean_absolute_error: 7.9683 - accuracy: 0.0000e+00 - mean_squared_error: 104.4402 - val_loss: 102.7651 - val_mean_absolute_error: 7.8946 - val_accuracy: 0.0000e+00 - val_mean_squared_error: 102.7651\n",
            "Epoch 13/100\n",
            "101/101 [==============================] - 0s 3ms/step - loss: 103.8819 - mean_absolute_error: 7.9387 - accuracy: 0.0000e+00 - mean_squared_error: 103.8819 - val_loss: 102.8256 - val_mean_absolute_error: 7.8978 - val_accuracy: 0.0000e+00 - val_mean_squared_error: 102.8256\n",
            "Epoch 14/100\n",
            "101/101 [==============================] - 0s 3ms/step - loss: 103.4289 - mean_absolute_error: 7.9662 - accuracy: 0.0000e+00 - mean_squared_error: 103.4289 - val_loss: 102.7018 - val_mean_absolute_error: 7.8928 - val_accuracy: 0.0000e+00 - val_mean_squared_error: 102.7018\n",
            "Epoch 15/100\n",
            "101/101 [==============================] - 0s 3ms/step - loss: 105.3042 - mean_absolute_error: 8.0286 - accuracy: 0.0000e+00 - mean_squared_error: 105.3042 - val_loss: 102.6486 - val_mean_absolute_error: 7.8915 - val_accuracy: 0.0000e+00 - val_mean_squared_error: 102.6486\n",
            "Epoch 16/100\n",
            "101/101 [==============================] - 0s 3ms/step - loss: 100.3941 - mean_absolute_error: 7.8215 - accuracy: 0.0000e+00 - mean_squared_error: 100.3941 - val_loss: 102.5804 - val_mean_absolute_error: 7.8882 - val_accuracy: 0.0000e+00 - val_mean_squared_error: 102.5804\n",
            "Epoch 17/100\n",
            "101/101 [==============================] - 0s 3ms/step - loss: 104.4549 - mean_absolute_error: 7.9978 - accuracy: 0.0000e+00 - mean_squared_error: 104.4549 - val_loss: 102.7398 - val_mean_absolute_error: 7.8986 - val_accuracy: 0.0000e+00 - val_mean_squared_error: 102.7398\n",
            "Epoch 18/100\n",
            "101/101 [==============================] - 0s 3ms/step - loss: 106.0521 - mean_absolute_error: 8.0157 - accuracy: 0.0000e+00 - mean_squared_error: 106.0521 - val_loss: 102.6988 - val_mean_absolute_error: 7.8962 - val_accuracy: 0.0000e+00 - val_mean_squared_error: 102.6988\n",
            "Epoch 19/100\n",
            "101/101 [==============================] - 0s 3ms/step - loss: 103.6907 - mean_absolute_error: 7.8970 - accuracy: 0.0000e+00 - mean_squared_error: 103.6907 - val_loss: 102.5507 - val_mean_absolute_error: 7.8883 - val_accuracy: 0.0000e+00 - val_mean_squared_error: 102.5507\n",
            "Epoch 20/100\n",
            "101/101 [==============================] - 0s 3ms/step - loss: 102.5692 - mean_absolute_error: 7.8686 - accuracy: 0.0000e+00 - mean_squared_error: 102.5692 - val_loss: 102.6050 - val_mean_absolute_error: 7.8906 - val_accuracy: 0.0000e+00 - val_mean_squared_error: 102.6050\n",
            "Epoch 21/100\n",
            "101/101 [==============================] - 0s 3ms/step - loss: 104.6144 - mean_absolute_error: 7.9813 - accuracy: 0.0000e+00 - mean_squared_error: 104.6144 - val_loss: 102.5202 - val_mean_absolute_error: 7.8861 - val_accuracy: 0.0000e+00 - val_mean_squared_error: 102.5202\n",
            "Epoch 22/100\n",
            "101/101 [==============================] - 0s 3ms/step - loss: 102.5334 - mean_absolute_error: 7.8654 - accuracy: 0.0000e+00 - mean_squared_error: 102.5334 - val_loss: 102.6618 - val_mean_absolute_error: 7.9005 - val_accuracy: 0.0000e+00 - val_mean_squared_error: 102.6618\n",
            "Epoch 23/100\n",
            "101/101 [==============================] - 0s 3ms/step - loss: 102.8062 - mean_absolute_error: 7.9149 - accuracy: 0.0000e+00 - mean_squared_error: 102.8062 - val_loss: 102.5427 - val_mean_absolute_error: 7.8911 - val_accuracy: 0.0000e+00 - val_mean_squared_error: 102.5427\n",
            "Epoch 24/100\n",
            "101/101 [==============================] - 0s 3ms/step - loss: 103.6285 - mean_absolute_error: 7.9437 - accuracy: 0.0000e+00 - mean_squared_error: 103.6285 - val_loss: 102.8233 - val_mean_absolute_error: 7.9016 - val_accuracy: 0.0000e+00 - val_mean_squared_error: 102.8233\n",
            "Epoch 25/100\n",
            "101/101 [==============================] - 0s 3ms/step - loss: 103.7196 - mean_absolute_error: 7.9725 - accuracy: 0.0000e+00 - mean_squared_error: 103.7196 - val_loss: 102.6367 - val_mean_absolute_error: 7.8920 - val_accuracy: 0.0000e+00 - val_mean_squared_error: 102.6367\n",
            "Epoch 26/100\n",
            "101/101 [==============================] - 0s 3ms/step - loss: 100.9585 - mean_absolute_error: 7.8261 - accuracy: 0.0000e+00 - mean_squared_error: 100.9585 - val_loss: 102.5434 - val_mean_absolute_error: 7.8908 - val_accuracy: 0.0000e+00 - val_mean_squared_error: 102.5434\n",
            "Epoch 27/100\n",
            "101/101 [==============================] - 0s 3ms/step - loss: 103.1560 - mean_absolute_error: 7.9202 - accuracy: 0.0000e+00 - mean_squared_error: 103.1560 - val_loss: 102.7651 - val_mean_absolute_error: 7.9081 - val_accuracy: 0.0000e+00 - val_mean_squared_error: 102.7651\n",
            "Epoch 28/100\n",
            "101/101 [==============================] - 0s 3ms/step - loss: 99.5593 - mean_absolute_error: 7.8254 - accuracy: 0.0000e+00 - mean_squared_error: 99.5593 - val_loss: 102.4634 - val_mean_absolute_error: 7.8798 - val_accuracy: 0.0000e+00 - val_mean_squared_error: 102.4634\n",
            "Epoch 29/100\n",
            "101/101 [==============================] - 0s 3ms/step - loss: 105.3930 - mean_absolute_error: 8.0058 - accuracy: 0.0000e+00 - mean_squared_error: 105.3930 - val_loss: 102.4118 - val_mean_absolute_error: 7.8818 - val_accuracy: 0.0000e+00 - val_mean_squared_error: 102.4118\n",
            "Epoch 30/100\n",
            "101/101 [==============================] - 0s 3ms/step - loss: 102.3790 - mean_absolute_error: 7.8953 - accuracy: 0.0000e+00 - mean_squared_error: 102.3790 - val_loss: 102.5777 - val_mean_absolute_error: 7.8921 - val_accuracy: 0.0000e+00 - val_mean_squared_error: 102.5777\n",
            "Epoch 31/100\n",
            "101/101 [==============================] - 0s 3ms/step - loss: 103.0062 - mean_absolute_error: 7.9093 - accuracy: 0.0000e+00 - mean_squared_error: 103.0062 - val_loss: 102.5653 - val_mean_absolute_error: 7.8850 - val_accuracy: 0.0000e+00 - val_mean_squared_error: 102.5653\n",
            "Epoch 32/100\n",
            "101/101 [==============================] - 0s 3ms/step - loss: 104.5000 - mean_absolute_error: 7.9331 - accuracy: 0.0000e+00 - mean_squared_error: 104.5000 - val_loss: 102.5021 - val_mean_absolute_error: 7.8841 - val_accuracy: 0.0000e+00 - val_mean_squared_error: 102.5021\n",
            "Epoch 33/100\n",
            "101/101 [==============================] - 0s 3ms/step - loss: 105.7444 - mean_absolute_error: 8.0281 - accuracy: 0.0000e+00 - mean_squared_error: 105.7444 - val_loss: 102.4997 - val_mean_absolute_error: 7.8846 - val_accuracy: 0.0000e+00 - val_mean_squared_error: 102.4997\n",
            "Epoch 34/100\n",
            "101/101 [==============================] - 0s 3ms/step - loss: 105.0010 - mean_absolute_error: 7.9833 - accuracy: 0.0000e+00 - mean_squared_error: 105.0010 - val_loss: 102.4931 - val_mean_absolute_error: 7.8892 - val_accuracy: 0.0000e+00 - val_mean_squared_error: 102.4931\n",
            "Epoch 35/100\n",
            "101/101 [==============================] - 0s 3ms/step - loss: 104.9504 - mean_absolute_error: 8.0050 - accuracy: 0.0000e+00 - mean_squared_error: 104.9504 - val_loss: 102.4141 - val_mean_absolute_error: 7.8805 - val_accuracy: 0.0000e+00 - val_mean_squared_error: 102.4141\n",
            "Epoch 36/100\n",
            "101/101 [==============================] - 0s 3ms/step - loss: 104.4435 - mean_absolute_error: 7.9685 - accuracy: 0.0000e+00 - mean_squared_error: 104.4435 - val_loss: 102.4457 - val_mean_absolute_error: 7.8843 - val_accuracy: 0.0000e+00 - val_mean_squared_error: 102.4457\n",
            "Epoch 37/100\n",
            "101/101 [==============================] - 0s 3ms/step - loss: 100.8157 - mean_absolute_error: 7.8488 - accuracy: 0.0000e+00 - mean_squared_error: 100.8157 - val_loss: 102.4931 - val_mean_absolute_error: 7.8883 - val_accuracy: 0.0000e+00 - val_mean_squared_error: 102.4931\n",
            "Epoch 38/100\n",
            "101/101 [==============================] - 0s 3ms/step - loss: 100.8785 - mean_absolute_error: 7.8399 - accuracy: 0.0000e+00 - mean_squared_error: 100.8785 - val_loss: 102.3369 - val_mean_absolute_error: 7.8768 - val_accuracy: 0.0000e+00 - val_mean_squared_error: 102.3369\n",
            "Epoch 39/100\n",
            "101/101 [==============================] - 0s 3ms/step - loss: 101.4676 - mean_absolute_error: 7.8476 - accuracy: 0.0000e+00 - mean_squared_error: 101.4676 - val_loss: 102.4095 - val_mean_absolute_error: 7.8784 - val_accuracy: 0.0000e+00 - val_mean_squared_error: 102.4095\n",
            "Epoch 40/100\n",
            "101/101 [==============================] - 0s 3ms/step - loss: 105.2439 - mean_absolute_error: 7.9994 - accuracy: 0.0000e+00 - mean_squared_error: 105.2439 - val_loss: 102.5068 - val_mean_absolute_error: 7.8886 - val_accuracy: 0.0000e+00 - val_mean_squared_error: 102.5068\n",
            "Epoch 41/100\n",
            "101/101 [==============================] - 0s 3ms/step - loss: 101.4165 - mean_absolute_error: 7.8869 - accuracy: 0.0000e+00 - mean_squared_error: 101.4165 - val_loss: 102.4525 - val_mean_absolute_error: 7.8848 - val_accuracy: 0.0000e+00 - val_mean_squared_error: 102.4525\n",
            "Epoch 42/100\n",
            "101/101 [==============================] - 0s 3ms/step - loss: 103.0625 - mean_absolute_error: 7.9302 - accuracy: 0.0000e+00 - mean_squared_error: 103.0625 - val_loss: 102.3886 - val_mean_absolute_error: 7.8833 - val_accuracy: 0.0000e+00 - val_mean_squared_error: 102.3886\n",
            "Epoch 43/100\n",
            "101/101 [==============================] - 0s 3ms/step - loss: 101.6899 - mean_absolute_error: 7.8717 - accuracy: 0.0000e+00 - mean_squared_error: 101.6899 - val_loss: 102.5726 - val_mean_absolute_error: 7.8983 - val_accuracy: 0.0000e+00 - val_mean_squared_error: 102.5726\n",
            "Epoch 44/100\n",
            "101/101 [==============================] - 0s 3ms/step - loss: 106.0574 - mean_absolute_error: 8.0128 - accuracy: 0.0000e+00 - mean_squared_error: 106.0574 - val_loss: 102.5558 - val_mean_absolute_error: 7.8933 - val_accuracy: 0.0000e+00 - val_mean_squared_error: 102.5558\n",
            "Epoch 45/100\n",
            "101/101 [==============================] - 0s 3ms/step - loss: 103.9564 - mean_absolute_error: 7.9890 - accuracy: 0.0000e+00 - mean_squared_error: 103.9564 - val_loss: 102.4427 - val_mean_absolute_error: 7.8865 - val_accuracy: 0.0000e+00 - val_mean_squared_error: 102.4427\n",
            "Epoch 46/100\n",
            "101/101 [==============================] - 0s 3ms/step - loss: 102.9068 - mean_absolute_error: 7.8893 - accuracy: 0.0000e+00 - mean_squared_error: 102.9068 - val_loss: 102.6414 - val_mean_absolute_error: 7.9009 - val_accuracy: 0.0000e+00 - val_mean_squared_error: 102.6414\n",
            "Epoch 47/100\n",
            "101/101 [==============================] - 0s 3ms/step - loss: 101.8917 - mean_absolute_error: 7.8726 - accuracy: 0.0000e+00 - mean_squared_error: 101.8917 - val_loss: 102.5044 - val_mean_absolute_error: 7.8889 - val_accuracy: 0.0000e+00 - val_mean_squared_error: 102.5044\n",
            "Epoch 48/100\n",
            "101/101 [==============================] - 0s 3ms/step - loss: 102.1288 - mean_absolute_error: 7.9165 - accuracy: 0.0000e+00 - mean_squared_error: 102.1288 - val_loss: 102.3634 - val_mean_absolute_error: 7.8812 - val_accuracy: 0.0000e+00 - val_mean_squared_error: 102.3634\n",
            "Epoch 49/100\n",
            "101/101 [==============================] - 0s 3ms/step - loss: 101.2577 - mean_absolute_error: 7.8996 - accuracy: 0.0000e+00 - mean_squared_error: 101.2577 - val_loss: 102.4044 - val_mean_absolute_error: 7.8852 - val_accuracy: 0.0000e+00 - val_mean_squared_error: 102.4044\n",
            "Epoch 50/100\n",
            "101/101 [==============================] - 0s 3ms/step - loss: 100.9024 - mean_absolute_error: 7.8358 - accuracy: 0.0000e+00 - mean_squared_error: 100.9024 - val_loss: 102.3332 - val_mean_absolute_error: 7.8797 - val_accuracy: 0.0000e+00 - val_mean_squared_error: 102.3332\n",
            "Epoch 51/100\n",
            "101/101 [==============================] - 0s 3ms/step - loss: 103.6764 - mean_absolute_error: 7.9561 - accuracy: 0.0000e+00 - mean_squared_error: 103.6764 - val_loss: 102.4514 - val_mean_absolute_error: 7.8774 - val_accuracy: 0.0000e+00 - val_mean_squared_error: 102.4514\n",
            "Epoch 52/100\n",
            "101/101 [==============================] - 0s 3ms/step - loss: 102.4405 - mean_absolute_error: 7.8943 - accuracy: 0.0000e+00 - mean_squared_error: 102.4405 - val_loss: 102.4503 - val_mean_absolute_error: 7.8845 - val_accuracy: 0.0000e+00 - val_mean_squared_error: 102.4503\n",
            "Epoch 53/100\n",
            "101/101 [==============================] - 0s 3ms/step - loss: 102.3577 - mean_absolute_error: 7.9322 - accuracy: 0.0000e+00 - mean_squared_error: 102.3577 - val_loss: 102.3260 - val_mean_absolute_error: 7.8766 - val_accuracy: 0.0000e+00 - val_mean_squared_error: 102.3260\n",
            "Epoch 54/100\n",
            "101/101 [==============================] - 0s 3ms/step - loss: 101.3835 - mean_absolute_error: 7.8170 - accuracy: 0.0000e+00 - mean_squared_error: 101.3835 - val_loss: 102.4900 - val_mean_absolute_error: 7.8867 - val_accuracy: 0.0000e+00 - val_mean_squared_error: 102.4900\n",
            "Epoch 55/100\n",
            "101/101 [==============================] - 0s 3ms/step - loss: 103.5216 - mean_absolute_error: 7.9182 - accuracy: 0.0000e+00 - mean_squared_error: 103.5216 - val_loss: 102.4910 - val_mean_absolute_error: 7.8861 - val_accuracy: 0.0000e+00 - val_mean_squared_error: 102.4910\n",
            "Epoch 56/100\n",
            "101/101 [==============================] - 0s 3ms/step - loss: 102.5504 - mean_absolute_error: 7.9144 - accuracy: 0.0000e+00 - mean_squared_error: 102.5504 - val_loss: 102.4136 - val_mean_absolute_error: 7.8844 - val_accuracy: 0.0000e+00 - val_mean_squared_error: 102.4136\n",
            "Epoch 57/100\n",
            "101/101 [==============================] - 0s 3ms/step - loss: 101.7009 - mean_absolute_error: 7.8712 - accuracy: 0.0000e+00 - mean_squared_error: 101.7009 - val_loss: 102.3314 - val_mean_absolute_error: 7.8774 - val_accuracy: 0.0000e+00 - val_mean_squared_error: 102.3314\n",
            "Epoch 58/100\n",
            "101/101 [==============================] - 0s 3ms/step - loss: 104.0744 - mean_absolute_error: 7.9376 - accuracy: 0.0000e+00 - mean_squared_error: 104.0744 - val_loss: 102.5391 - val_mean_absolute_error: 7.8947 - val_accuracy: 0.0000e+00 - val_mean_squared_error: 102.5391\n",
            "Epoch 59/100\n",
            "101/101 [==============================] - 0s 3ms/step - loss: 101.2831 - mean_absolute_error: 7.8821 - accuracy: 0.0000e+00 - mean_squared_error: 101.2831 - val_loss: 102.4623 - val_mean_absolute_error: 7.8873 - val_accuracy: 0.0000e+00 - val_mean_squared_error: 102.4623\n",
            "Epoch 60/100\n",
            "101/101 [==============================] - 0s 3ms/step - loss: 101.3775 - mean_absolute_error: 7.8552 - accuracy: 0.0000e+00 - mean_squared_error: 101.3775 - val_loss: 102.5254 - val_mean_absolute_error: 7.8841 - val_accuracy: 0.0000e+00 - val_mean_squared_error: 102.5254\n",
            "Epoch 61/100\n",
            "101/101 [==============================] - 0s 4ms/step - loss: 105.0948 - mean_absolute_error: 7.9922 - accuracy: 0.0000e+00 - mean_squared_error: 105.0948 - val_loss: 102.3835 - val_mean_absolute_error: 7.8759 - val_accuracy: 0.0000e+00 - val_mean_squared_error: 102.3835\n",
            "Epoch 62/100\n",
            "101/101 [==============================] - 0s 3ms/step - loss: 102.6312 - mean_absolute_error: 7.8638 - accuracy: 0.0000e+00 - mean_squared_error: 102.6312 - val_loss: 102.3538 - val_mean_absolute_error: 7.8803 - val_accuracy: 0.0000e+00 - val_mean_squared_error: 102.3538\n",
            "Epoch 63/100\n",
            "101/101 [==============================] - 0s 3ms/step - loss: 102.1963 - mean_absolute_error: 7.8735 - accuracy: 0.0000e+00 - mean_squared_error: 102.1963 - val_loss: 102.3813 - val_mean_absolute_error: 7.8836 - val_accuracy: 0.0000e+00 - val_mean_squared_error: 102.3813\n",
            "Epoch 64/100\n",
            "101/101 [==============================] - 0s 3ms/step - loss: 100.0264 - mean_absolute_error: 7.8476 - accuracy: 0.0000e+00 - mean_squared_error: 100.0264 - val_loss: 102.4819 - val_mean_absolute_error: 7.8878 - val_accuracy: 0.0000e+00 - val_mean_squared_error: 102.4819\n",
            "Epoch 65/100\n",
            "101/101 [==============================] - 0s 3ms/step - loss: 102.4032 - mean_absolute_error: 7.9066 - accuracy: 0.0000e+00 - mean_squared_error: 102.4032 - val_loss: 102.5694 - val_mean_absolute_error: 7.8919 - val_accuracy: 0.0000e+00 - val_mean_squared_error: 102.5694\n",
            "Epoch 66/100\n",
            "101/101 [==============================] - 0s 3ms/step - loss: 104.3281 - mean_absolute_error: 7.9852 - accuracy: 0.0000e+00 - mean_squared_error: 104.3281 - val_loss: 102.4847 - val_mean_absolute_error: 7.8826 - val_accuracy: 0.0000e+00 - val_mean_squared_error: 102.4847\n",
            "Epoch 67/100\n",
            "101/101 [==============================] - 0s 3ms/step - loss: 101.8451 - mean_absolute_error: 7.8325 - accuracy: 0.0000e+00 - mean_squared_error: 101.8451 - val_loss: 102.5031 - val_mean_absolute_error: 7.8883 - val_accuracy: 0.0000e+00 - val_mean_squared_error: 102.5031\n",
            "Epoch 68/100\n",
            "101/101 [==============================] - 0s 3ms/step - loss: 103.3724 - mean_absolute_error: 7.9486 - accuracy: 0.0000e+00 - mean_squared_error: 103.3724 - val_loss: 102.3110 - val_mean_absolute_error: 7.8764 - val_accuracy: 0.0000e+00 - val_mean_squared_error: 102.3110\n",
            "Epoch 69/100\n",
            "101/101 [==============================] - 0s 3ms/step - loss: 100.8954 - mean_absolute_error: 7.8281 - accuracy: 0.0000e+00 - mean_squared_error: 100.8954 - val_loss: 102.4042 - val_mean_absolute_error: 7.8833 - val_accuracy: 0.0000e+00 - val_mean_squared_error: 102.4042\n",
            "Epoch 70/100\n",
            "101/101 [==============================] - 0s 3ms/step - loss: 102.8855 - mean_absolute_error: 7.8817 - accuracy: 0.0000e+00 - mean_squared_error: 102.8855 - val_loss: 102.3407 - val_mean_absolute_error: 7.8761 - val_accuracy: 0.0000e+00 - val_mean_squared_error: 102.3407\n",
            "Epoch 71/100\n",
            "101/101 [==============================] - 0s 3ms/step - loss: 100.1544 - mean_absolute_error: 7.8016 - accuracy: 0.0000e+00 - mean_squared_error: 100.1544 - val_loss: 102.3827 - val_mean_absolute_error: 7.8810 - val_accuracy: 0.0000e+00 - val_mean_squared_error: 102.3827\n",
            "Epoch 72/100\n",
            "101/101 [==============================] - 0s 3ms/step - loss: 105.2311 - mean_absolute_error: 8.0186 - accuracy: 0.0000e+00 - mean_squared_error: 105.2311 - val_loss: 102.3247 - val_mean_absolute_error: 7.8762 - val_accuracy: 0.0000e+00 - val_mean_squared_error: 102.3247\n",
            "Epoch 73/100\n",
            "101/101 [==============================] - 0s 3ms/step - loss: 103.0441 - mean_absolute_error: 7.9404 - accuracy: 0.0000e+00 - mean_squared_error: 103.0441 - val_loss: 102.2639 - val_mean_absolute_error: 7.8717 - val_accuracy: 0.0000e+00 - val_mean_squared_error: 102.2639\n",
            "Epoch 74/100\n",
            "101/101 [==============================] - 0s 3ms/step - loss: 104.2758 - mean_absolute_error: 7.9049 - accuracy: 0.0000e+00 - mean_squared_error: 104.2758 - val_loss: 102.3657 - val_mean_absolute_error: 7.8793 - val_accuracy: 0.0000e+00 - val_mean_squared_error: 102.3657\n",
            "Epoch 75/100\n",
            "101/101 [==============================] - 0s 3ms/step - loss: 104.8456 - mean_absolute_error: 7.9833 - accuracy: 0.0000e+00 - mean_squared_error: 104.8456 - val_loss: 102.3220 - val_mean_absolute_error: 7.8777 - val_accuracy: 0.0000e+00 - val_mean_squared_error: 102.3220\n",
            "Epoch 76/100\n",
            "101/101 [==============================] - 0s 4ms/step - loss: 104.4704 - mean_absolute_error: 7.9618 - accuracy: 0.0000e+00 - mean_squared_error: 104.4704 - val_loss: 102.4519 - val_mean_absolute_error: 7.8865 - val_accuracy: 0.0000e+00 - val_mean_squared_error: 102.4519\n",
            "Epoch 77/100\n",
            "101/101 [==============================] - 0s 3ms/step - loss: 100.3113 - mean_absolute_error: 7.8080 - accuracy: 0.0000e+00 - mean_squared_error: 100.3113 - val_loss: 102.3561 - val_mean_absolute_error: 7.8813 - val_accuracy: 0.0000e+00 - val_mean_squared_error: 102.3561\n",
            "Epoch 78/100\n",
            "101/101 [==============================] - 0s 3ms/step - loss: 102.5544 - mean_absolute_error: 7.8820 - accuracy: 0.0000e+00 - mean_squared_error: 102.5544 - val_loss: 102.5023 - val_mean_absolute_error: 7.8894 - val_accuracy: 0.0000e+00 - val_mean_squared_error: 102.5023\n",
            "Epoch 79/100\n",
            "101/101 [==============================] - 0s 3ms/step - loss: 101.7673 - mean_absolute_error: 7.8477 - accuracy: 0.0000e+00 - mean_squared_error: 101.7673 - val_loss: 102.3568 - val_mean_absolute_error: 7.8765 - val_accuracy: 0.0000e+00 - val_mean_squared_error: 102.3568\n",
            "Epoch 80/100\n",
            "101/101 [==============================] - 0s 3ms/step - loss: 102.3975 - mean_absolute_error: 7.9311 - accuracy: 0.0000e+00 - mean_squared_error: 102.3975 - val_loss: 102.2112 - val_mean_absolute_error: 7.8700 - val_accuracy: 0.0000e+00 - val_mean_squared_error: 102.2112\n",
            "Epoch 81/100\n",
            "101/101 [==============================] - 0s 3ms/step - loss: 102.9898 - mean_absolute_error: 7.9003 - accuracy: 0.0000e+00 - mean_squared_error: 102.9898 - val_loss: 102.4358 - val_mean_absolute_error: 7.8818 - val_accuracy: 0.0000e+00 - val_mean_squared_error: 102.4358\n",
            "Epoch 82/100\n",
            "101/101 [==============================] - 0s 4ms/step - loss: 100.7627 - mean_absolute_error: 7.8889 - accuracy: 0.0000e+00 - mean_squared_error: 100.7627 - val_loss: 102.4216 - val_mean_absolute_error: 7.8833 - val_accuracy: 0.0000e+00 - val_mean_squared_error: 102.4216\n",
            "Epoch 83/100\n",
            "101/101 [==============================] - 0s 3ms/step - loss: 102.2266 - mean_absolute_error: 7.9091 - accuracy: 0.0000e+00 - mean_squared_error: 102.2266 - val_loss: 102.2583 - val_mean_absolute_error: 7.8714 - val_accuracy: 0.0000e+00 - val_mean_squared_error: 102.2583\n",
            "Epoch 84/100\n",
            "101/101 [==============================] - 0s 3ms/step - loss: 102.9523 - mean_absolute_error: 7.8940 - accuracy: 0.0000e+00 - mean_squared_error: 102.9523 - val_loss: 102.2720 - val_mean_absolute_error: 7.8726 - val_accuracy: 0.0000e+00 - val_mean_squared_error: 102.2720\n",
            "Epoch 85/100\n",
            "101/101 [==============================] - 0s 3ms/step - loss: 102.2012 - mean_absolute_error: 7.8705 - accuracy: 0.0000e+00 - mean_squared_error: 102.2012 - val_loss: 102.3128 - val_mean_absolute_error: 7.8770 - val_accuracy: 0.0000e+00 - val_mean_squared_error: 102.3128\n",
            "Epoch 86/100\n",
            "101/101 [==============================] - 0s 3ms/step - loss: 101.8397 - mean_absolute_error: 7.8554 - accuracy: 0.0000e+00 - mean_squared_error: 101.8397 - val_loss: 102.3115 - val_mean_absolute_error: 7.8710 - val_accuracy: 0.0000e+00 - val_mean_squared_error: 102.3115\n",
            "Epoch 87/100\n",
            "101/101 [==============================] - 0s 3ms/step - loss: 103.6908 - mean_absolute_error: 7.9020 - accuracy: 0.0000e+00 - mean_squared_error: 103.6908 - val_loss: 102.2712 - val_mean_absolute_error: 7.8738 - val_accuracy: 0.0000e+00 - val_mean_squared_error: 102.2712\n",
            "Epoch 88/100\n",
            "101/101 [==============================] - 0s 4ms/step - loss: 101.0923 - mean_absolute_error: 7.8440 - accuracy: 0.0000e+00 - mean_squared_error: 101.0923 - val_loss: 102.3099 - val_mean_absolute_error: 7.8744 - val_accuracy: 0.0000e+00 - val_mean_squared_error: 102.3099\n",
            "Epoch 89/100\n",
            "101/101 [==============================] - 0s 4ms/step - loss: 101.6441 - mean_absolute_error: 7.8788 - accuracy: 0.0000e+00 - mean_squared_error: 101.6441 - val_loss: 102.2857 - val_mean_absolute_error: 7.8752 - val_accuracy: 0.0000e+00 - val_mean_squared_error: 102.2857\n",
            "Epoch 90/100\n",
            "101/101 [==============================] - 0s 4ms/step - loss: 102.0160 - mean_absolute_error: 7.8500 - accuracy: 0.0000e+00 - mean_squared_error: 102.0160 - val_loss: 102.2090 - val_mean_absolute_error: 7.8699 - val_accuracy: 0.0000e+00 - val_mean_squared_error: 102.2090\n",
            "Epoch 91/100\n",
            "101/101 [==============================] - 0s 4ms/step - loss: 101.3727 - mean_absolute_error: 7.8731 - accuracy: 0.0000e+00 - mean_squared_error: 101.3727 - val_loss: 102.3658 - val_mean_absolute_error: 7.8792 - val_accuracy: 0.0000e+00 - val_mean_squared_error: 102.3658\n",
            "Epoch 92/100\n",
            "101/101 [==============================] - 0s 3ms/step - loss: 103.2199 - mean_absolute_error: 7.9290 - accuracy: 0.0000e+00 - mean_squared_error: 103.2199 - val_loss: 102.2896 - val_mean_absolute_error: 7.8741 - val_accuracy: 0.0000e+00 - val_mean_squared_error: 102.2896\n",
            "Epoch 93/100\n",
            "101/101 [==============================] - 0s 3ms/step - loss: 102.5827 - mean_absolute_error: 7.9014 - accuracy: 0.0000e+00 - mean_squared_error: 102.5827 - val_loss: 102.2809 - val_mean_absolute_error: 7.8715 - val_accuracy: 0.0000e+00 - val_mean_squared_error: 102.2809\n",
            "Epoch 94/100\n",
            "101/101 [==============================] - 0s 3ms/step - loss: 101.4596 - mean_absolute_error: 7.8525 - accuracy: 0.0000e+00 - mean_squared_error: 101.4596 - val_loss: 102.3126 - val_mean_absolute_error: 7.8759 - val_accuracy: 0.0000e+00 - val_mean_squared_error: 102.3126\n",
            "Epoch 95/100\n",
            "101/101 [==============================] - 0s 3ms/step - loss: 102.3486 - mean_absolute_error: 7.8508 - accuracy: 0.0000e+00 - mean_squared_error: 102.3486 - val_loss: 102.4772 - val_mean_absolute_error: 7.8885 - val_accuracy: 0.0000e+00 - val_mean_squared_error: 102.4772\n",
            "Epoch 96/100\n",
            "101/101 [==============================] - 0s 3ms/step - loss: 101.7463 - mean_absolute_error: 7.8749 - accuracy: 0.0000e+00 - mean_squared_error: 101.7463 - val_loss: 102.5366 - val_mean_absolute_error: 7.8778 - val_accuracy: 0.0000e+00 - val_mean_squared_error: 102.5366\n",
            "Epoch 97/100\n",
            "101/101 [==============================] - 0s 3ms/step - loss: 102.6350 - mean_absolute_error: 7.9057 - accuracy: 0.0000e+00 - mean_squared_error: 102.6350 - val_loss: 102.2650 - val_mean_absolute_error: 7.8685 - val_accuracy: 0.0000e+00 - val_mean_squared_error: 102.2650\n",
            "Epoch 98/100\n",
            "101/101 [==============================] - 0s 3ms/step - loss: 101.8881 - mean_absolute_error: 7.8575 - accuracy: 0.0000e+00 - mean_squared_error: 101.8881 - val_loss: 102.4895 - val_mean_absolute_error: 7.8878 - val_accuracy: 0.0000e+00 - val_mean_squared_error: 102.4895\n",
            "Epoch 99/100\n",
            "101/101 [==============================] - 0s 3ms/step - loss: 101.9906 - mean_absolute_error: 7.9075 - accuracy: 0.0000e+00 - mean_squared_error: 101.9906 - val_loss: 102.1964 - val_mean_absolute_error: 7.8666 - val_accuracy: 0.0000e+00 - val_mean_squared_error: 102.1964\n",
            "Epoch 100/100\n",
            "101/101 [==============================] - 0s 3ms/step - loss: 102.0433 - mean_absolute_error: 7.8819 - accuracy: 0.0000e+00 - mean_squared_error: 102.0433 - val_loss: 102.4312 - val_mean_absolute_error: 7.8751 - val_accuracy: 0.0000e+00 - val_mean_squared_error: 102.4312\n"
          ],
          "name": "stdout"
        }
      ]
    },
    {
      "cell_type": "code",
      "metadata": {
        "colab": {
          "base_uri": "https://localhost:8080/",
          "height": 279
        },
        "id": "2yVePy-WZ6MI",
        "outputId": "16a4a4dc-e8bc-4c90-ca10-681eb467be8a"
      },
      "source": [
        "# Check the results\n",
        "# Create a DataFrame from the output from the fit method\n",
        "hist = pd.DataFrame(history.history)\n",
        "# Create an epoch column and set it to the epoch index\n",
        "hist['epoch'] = history.epoch\n",
        "\n",
        "def plot_history(history):\n",
        "  plt.figure()\n",
        "  plt.xlabel('Epoch')\n",
        "  plt.ylabel('Mean Absolute Error')\n",
        "  plt.plot(history['epoch'], history['mean_absolute_error'],\n",
        "           label='Train Mean Absolute Error')\n",
        "  plt.plot(history['epoch'], history['val_mean_absolute_error'],\n",
        "           label = 'Val Mean Absolute Error')\n",
        "  plt.legend()\n",
        "  #plt.ylim([0,1])\n",
        "  plt.show()\n",
        "\n",
        "plot_history(hist)"
      ],
      "execution_count": 18,
      "outputs": [
        {
          "output_type": "display_data",
          "data": {
            "image/png": "[encoded data removed]",
            "text/plain": [
              "<Figure size 432x288 with 1 Axes>"
            ]
          },
          "metadata": {
            "tags": [],
            "needs_background": "light"
          }
        }
      ]
    },
    {
      "cell_type": "code",
      "metadata": {
        "colab": {
          "base_uri": "https://localhost:8080/"
        },
        "id": "3cxl0D9TeSTm",
        "outputId": "0c33b6d1-5b80-4b58-b478-ef866f25451e"
      },
      "source": [
        "history = NN_Model.fit(x=train_data, y=training_labels, batch_size=128, epochs=10, verbose=1, validation_split=0.2)"
      ],
      "execution_count": 19,
      "outputs": [
        {
          "output_type": "stream",
          "text": [
            "Epoch 1/10\n",
            "101/101 [==============================] - 0s 4ms/step - loss: 102.5040 - mean_absolute_error: 7.8936 - accuracy: 0.0000e+00 - mean_squared_error: 102.5040 - val_loss: 102.3043 - val_mean_absolute_error: 7.8756 - val_accuracy: 0.0000e+00 - val_mean_squared_error: 102.3043\n",
            "Epoch 2/10\n",
            "101/101 [==============================] - 0s 3ms/step - loss: 102.5068 - mean_absolute_error: 7.8942 - accuracy: 0.0000e+00 - mean_squared_error: 102.5068 - val_loss: 102.3160 - val_mean_absolute_error: 7.8778 - val_accuracy: 0.0000e+00 - val_mean_squared_error: 102.3160\n",
            "Epoch 3/10\n",
            "101/101 [==============================] - 0s 3ms/step - loss: 102.5090 - mean_absolute_error: 7.8939 - accuracy: 0.0000e+00 - mean_squared_error: 102.5090 - val_loss: 102.3463 - val_mean_absolute_error: 7.8702 - val_accuracy: 0.0000e+00 - val_mean_squared_error: 102.3463\n",
            "Epoch 4/10\n",
            "101/101 [==============================] - 0s 3ms/step - loss: 102.4943 - mean_absolute_error: 7.8924 - accuracy: 0.0000e+00 - mean_squared_error: 102.4943 - val_loss: 102.1694 - val_mean_absolute_error: 7.8651 - val_accuracy: 0.0000e+00 - val_mean_squared_error: 102.1694\n",
            "Epoch 5/10\n",
            "101/101 [==============================] - 0s 3ms/step - loss: 102.5114 - mean_absolute_error: 7.8936 - accuracy: 0.0000e+00 - mean_squared_error: 102.5114 - val_loss: 102.2502 - val_mean_absolute_error: 7.8705 - val_accuracy: 0.0000e+00 - val_mean_squared_error: 102.2502\n",
            "Epoch 6/10\n",
            "101/101 [==============================] - 0s 3ms/step - loss: 102.4585 - mean_absolute_error: 7.8944 - accuracy: 0.0000e+00 - mean_squared_error: 102.4585 - val_loss: 102.3139 - val_mean_absolute_error: 7.8638 - val_accuracy: 0.0000e+00 - val_mean_squared_error: 102.3139\n",
            "Epoch 7/10\n",
            "101/101 [==============================] - 0s 3ms/step - loss: 102.5037 - mean_absolute_error: 7.8908 - accuracy: 0.0000e+00 - mean_squared_error: 102.5037 - val_loss: 102.2337 - val_mean_absolute_error: 7.8708 - val_accuracy: 0.0000e+00 - val_mean_squared_error: 102.2337\n",
            "Epoch 8/10\n",
            "101/101 [==============================] - 0s 3ms/step - loss: 102.4479 - mean_absolute_error: 7.8915 - accuracy: 0.0000e+00 - mean_squared_error: 102.4479 - val_loss: 102.2900 - val_mean_absolute_error: 7.8712 - val_accuracy: 0.0000e+00 - val_mean_squared_error: 102.2900\n",
            "Epoch 9/10\n",
            "101/101 [==============================] - 0s 3ms/step - loss: 102.4623 - mean_absolute_error: 7.8882 - accuracy: 0.0000e+00 - mean_squared_error: 102.4623 - val_loss: 102.2825 - val_mean_absolute_error: 7.8735 - val_accuracy: 0.0000e+00 - val_mean_squared_error: 102.2825\n",
            "Epoch 10/10\n",
            "101/101 [==============================] - 0s 3ms/step - loss: 102.4769 - mean_absolute_error: 7.8920 - accuracy: 0.0000e+00 - mean_squared_error: 102.4769 - val_loss: 102.2079 - val_mean_absolute_error: 7.8712 - val_accuracy: 0.0000e+00 - val_mean_squared_error: 102.2079\n"
          ],
          "name": "stdout"
        }
      ]
    },
    {
      "cell_type": "code",
      "metadata": {
        "colab": {
          "base_uri": "https://localhost:8080/",
          "height": 279
        },
        "id": "fCQg2HZHeZbF",
        "outputId": "c0a64a0d-0247-445d-9ea3-6e62faef7d6a"
      },
      "source": [
        "# Check the results\n",
        "# Create a DataFrame from the output from the fit method\n",
        "hist = pd.DataFrame(history.history)\n",
        "# Create an epoch column and set it to the epoch index\n",
        "hist['epoch'] = history.epoch\n",
        "\n",
        "def plot_history(history):\n",
        "  plt.figure()\n",
        "  plt.xlabel('Epoch')\n",
        "  plt.ylabel('Mean Absolute Error')\n",
        "  plt.plot(history['epoch'], history['mean_absolute_error'],\n",
        "           label='Train Mean Absolute Error')\n",
        "  plt.plot(history['epoch'], history['val_mean_absolute_error'],\n",
        "           label = 'Val Mean Absolute Error')\n",
        "  plt.legend()\n",
        "  #plt.ylim([0,1])\n",
        "  plt.show()\n",
        "\n",
        "plot_history(hist)"
      ],
      "execution_count": 20,
      "outputs": [
        {
          "output_type": "display_data",
          "data": {
            "image/png": "[encoded data removed]",
            "text/plain": [
              "<Figure size 432x288 with 1 Axes>"
            ]
          },
          "metadata": {
            "tags": [],
            "needs_background": "light"
          }
        }
      ]
    }
  ]
}